{
 "cells": [
  {
   "cell_type": "code",
   "execution_count": 1,
   "id": "7b29becc",
   "metadata": {},
   "outputs": [],
   "source": [
    "# Setup\n",
    "import pandas as pd\n",
    "import matplotlib.pyplot as plt\n",
    "import numpy as np\n",
    "import seaborn as sns\n",
    "pd.set_option('mode.chained_assignment', None)\n",
    "pl23 = pd.read_csv('Final.csv')\n",
    "pl23 = pl23.set_index('Team')"
   ]
  },
  {
   "cell_type": "code",
   "execution_count": 2,
   "id": "aa02c59d",
   "metadata": {},
   "outputs": [],
   "source": [
    "def fetch_coordinates(df, dim):\n",
    "    coordinates = []\n",
    "    for i in range(len(df)):\n",
    "        for j in range(dim):\n",
    "            coordinates.append(df.iloc[i,j])\n",
    "    return coordinates"
   ]
  },
  {
   "cell_type": "code",
   "execution_count": 3,
   "id": "c8977ca5",
   "metadata": {},
   "outputs": [],
   "source": [
    "def calculate_distance_assign_clusters(df, centroids, xaxis, yaxis):\n",
    "    c0x, c0y, c1x, c1y, c2x, c2y, c3x, c3y = fetch_coordinates(centroids, 2)\n",
    "    df['dist_centroid_0'] = df.apply(calculate_distance, args=(c0x, c0y, xaxis, yaxis), axis=1)\n",
    "    df['dist_centroid_1'] = df.apply(calculate_distance, args=(c1x, c1y, xaxis, yaxis), axis=1)\n",
    "    df['dist_centroid_2'] = df.apply(calculate_distance, args=(c2x, c2y, xaxis, yaxis), axis=1)\n",
    "    df['dist_centroid_3'] = df.apply(calculate_distance, args=(c3x, c3y, xaxis, yaxis), axis=1)\n",
    "    \n",
    "    mask_0 = (df['dist_centroid_0'] < df['dist_centroid_2']) & (df['dist_centroid_0'] < df['dist_centroid_1']) & (df['dist_centroid_0'] < df['dist_centroid_3'])\n",
    "    mask_1 = (df['dist_centroid_1'] < df['dist_centroid_2']) & (df['dist_centroid_1'] < df['dist_centroid_0']) & (df['dist_centroid_1'] < df['dist_centroid_3'])\n",
    "    mask_2 = (df['dist_centroid_2'] < df['dist_centroid_0']) & (df['dist_centroid_2'] < df['dist_centroid_1']) & (df['dist_centroid_2'] < df['dist_centroid_3'])\n",
    "    mask_3 = (df['dist_centroid_3'] < df['dist_centroid_2']) & (df['dist_centroid_3'] < df['dist_centroid_1']) & (df['dist_centroid_3'] < df['dist_centroid_0'])\n",
    "    df.loc[mask_0, 'cluster'] = 0\n",
    "    df.loc[mask_1, 'cluster'] = 1\n",
    "    df.loc[mask_2, 'cluster'] = 2\n",
    "    df.loc[mask_3, 'cluster'] = 3\n",
    "    \n",
    "    return df"
   ]
  },
  {
   "cell_type": "code",
   "execution_count": 4,
   "id": "2747a90e",
   "metadata": {},
   "outputs": [],
   "source": [
    "def calculate_distance(s, cx, cy, xaxis, yaxis):\n",
    "    distance = np.sqrt((s.loc[xaxis] - cx)**2 + (s.loc[yaxis] - cy)**2)\n",
    "    return distance"
   ]
  },
  {
   "cell_type": "code",
   "execution_count": 5,
   "id": "52d3205f",
   "metadata": {},
   "outputs": [],
   "source": [
    "# Define a function that takes in the values you want to use to measure\n",
    "def kmeans(df, xaxis, yaxis, n, loops):\n",
    "    df = df[[xaxis, yaxis]]\n",
    "    df['cluster'] = 0\n",
    "    centroids = df.sample(n)\n",
    "    print(centroids)\n",
    "    for i in range(loops):\n",
    "        df = calculate_distance_assign_clusters(df, centroids, xaxis, yaxis)\n",
    "        centroids = df.groupby(['cluster'])[[xaxis, yaxis]].mean().reset_index()\n",
    "        centroids.drop('cluster', axis=1, inplace=True)\n",
    "    sns.scatterplot(data=centroids, x=xaxis, y=yaxis, color='black', s=150)\n",
    "    sns.scatterplot(data=df, x=xaxis, y=yaxis, hue='cluster', palette='tab10')\n",
    "    return [df, centroids]"
   ]
  },
  {
   "cell_type": "code",
   "execution_count": 9,
   "id": "4f9530a2",
   "metadata": {},
   "outputs": [
    {
     "name": "stdout",
     "output_type": "stream",
     "text": [
      "                   GD  Won  cluster\n",
      "Team                               \n",
      "Everton           -23    8        0\n",
      "Nottingham Forest -30    9        0\n",
      "Aston Villa         5   18        0\n",
      "Man Utd            15   23        0\n"
     ]
    },
    {
     "data": {
      "text/plain": [
       "[                   GD  Won  cluster  dist_centroid_0  dist_centroid_1  \\\n",
       " Team                                                                    \n",
       " Man City           61   28        3        75.068302        93.194093   \n",
       " Arsenal            45   26        3        59.069874        77.139304   \n",
       " Man Utd            15   23        2        29.753151        47.386414   \n",
       " Newcastle          35   19        3        47.762433        65.980847   \n",
       " Liverpool          28   19        3        40.893153        59.077397   \n",
       " Brighton           19   18        2        31.894357        50.044702   \n",
       " Aston Villa         5   18        2        18.580904        36.384139   \n",
       " Spurs               7   18        2        20.426698        38.320650   \n",
       " Brentford          12   15        2        24.418231        42.639640   \n",
       " Fulham              2   15        2        14.705441        32.784227   \n",
       " Crystal Palace     -9   11        0         3.041381        21.294887   \n",
       " Chelsea            -9   11        0         3.041381        21.294887   \n",
       " Wolves            -27   11        1        15.008331         3.933475   \n",
       " West Ham          -13   11        0         1.118034        17.324517   \n",
       " Bournemouth       -34   11        1        22.005681         4.487637   \n",
       " Nottingham Forest -30    9        1        18.062392         0.372678   \n",
       " Everton           -23    8        1        11.280514         7.197608   \n",
       " Leicester         -17    9        0         5.220153        13.170885   \n",
       " Leeds Utd         -30    7        1        18.337121         1.674979   \n",
       " Southampton       -37    6        1        25.401772         7.335227   \n",
       " \n",
       "                    dist_centroid_2  dist_centroid_3  \n",
       " Team                                                 \n",
       " Man City                 52.003472        19.405218  \n",
       " Arsenal                  35.940151         4.069705  \n",
       " Man Utd                   7.189885        27.250000  \n",
       " Newcastle                25.027207         8.280248  \n",
       " Liverpool                18.037769        14.800760  \n",
       " Brighton                  9.001543        23.781558  \n",
       " Aston Villa               5.002777        37.584072  \n",
       " Spurs                     3.004626        35.602844  \n",
       " Brentford                 3.468109        31.289974  \n",
       " Fulham                    8.486918        41.037331  \n",
       " Crystal Palace           20.191445        52.636133  \n",
       " Chelsea                  20.191445        52.636133  \n",
       " Wolves                   37.625715        70.282021  \n",
       " West Ham                 23.993633        56.538151  \n",
       " Bournemouth              44.527457        77.188487  \n",
       " Nottingham Forest        40.963737        73.593903  \n",
       " Everton                  34.433914        66.951942  \n",
       " Leicester                28.408234        60.881545  \n",
       " Leeds Utd                41.441056        74.000422  \n",
       " Southampton              48.466770        81.052838  ,\n",
       "           GD        Won\n",
       " 0 -12.000000  10.500000\n",
       " 1 -30.166667   8.666667\n",
       " 2  10.000000  17.833333\n",
       " 3  42.250000  23.000000]"
      ]
     },
     "execution_count": 9,
     "metadata": {},
     "output_type": "execute_result"
    },
    {
     "data": {
      "image/png": "[encoded data removed]",
      "text/plain": [
       "<Figure size 640x480 with 1 Axes>"
      ]
     },
     "metadata": {},
     "output_type": "display_data"
    }
   ],
   "source": [
    "kmeans(pl23, 'GD', 'Won', 4, 100)"
   ]
  },
  {
   "cell_type": "code",
   "execution_count": null,
   "id": "c9390003",
   "metadata": {},
   "outputs": [],
   "source": []
  },
  {
   "cell_type": "code",
   "execution_count": null,
   "id": "c5018288",
   "metadata": {},
   "outputs": [],
   "source": []
  }
 ],
 "metadata": {
  "kernelspec": {
   "display_name": "Python 3 (ipykernel)",
   "language": "python",
   "name": "python3"
  },
  "language_info": {
   "codemirror_mode": {
    "name": "ipython",
    "version": 3
   },
   "file_extension": ".py",
   "mimetype": "text/x-python",
   "name": "python",
   "nbconvert_exporter": "python",
   "pygments_lexer": "ipython3",
   "version": "3.10.9"
  }
 },
 "nbformat": 4,
 "nbformat_minor": 5
}
