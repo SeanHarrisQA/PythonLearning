{
 "cells": [
  {
   "cell_type": "code",
   "execution_count": 1,
   "id": "f85f7add",
   "metadata": {},
   "outputs": [
    {
     "name": "stdout",
     "output_type": "stream",
     "text": [
      "                   Rank  Unnamed: 2  MP  Won  Drawn  Lost  GF  GA  GD  Points\n",
      "Team                                                                         \n",
      "Man City              1         NaN  38   28      5     5  94  33  61      89\n",
      "Arsenal               2         NaN  38   26      6     6  88  43  45      84\n",
      "Man Utd               3         NaN  38   23      6     9  58  43  15      75\n",
      "Newcastle             4         NaN  38   19     14     5  68  33  35      71\n",
      "Liverpool             5         NaN  38   19     10     9  75  47  28      67\n",
      "Brighton              6         NaN  38   18      8    12  72  53  19      62\n",
      "Aston Villa           7         NaN  38   18      7    13  51  46   5      61\n",
      "Spurs                 8         NaN  38   18      6    14  70  63   7      60\n",
      "Brentford             9         NaN  38   15     14     9  58  46  12      59\n",
      "Fulham               10         NaN  38   15      7    16  55  53   2      52\n",
      "Crystal Palace       11         NaN  38   11     12    15  40  49  -9      45\n",
      "Chelsea              12         NaN  38   11     11    16  38  47  -9      44\n",
      "Wolves               13         NaN  38   11      8    19  31  58 -27      41\n",
      "West Ham             14         NaN  38   11      7    20  42  55 -13      40\n",
      "Bournemouth          15         NaN  38   11      6    21  37  71 -34      39\n",
      "Nottingham Forest    16         NaN  38    9     11    18  38  68 -30      38\n",
      "Everton              17         NaN  38    8     12    18  34  57 -23      36\n",
      "Leicester            18         NaN  38    9      7    22  51  68 -17      34\n",
      "Leeds Utd            19         NaN  38    7     10    21  48  78 -30      31\n",
      "Southampton          20         NaN  38    6      7    25  36  73 -37      25\n"
     ]
    }
   ],
   "source": [
    "# Setup\n",
    "import pandas as pd\n",
    "import matplotlib.pyplot as plt\n",
    "import numpy as np\n",
    "import seaborn as sns\n",
    "pd.set_option('mode.chained_assignment', 'raise')\n",
    "pl23 = pd.read_csv('Final.csv')\n",
    "pl23 = pl23.set_index('Team')\n",
    "print(pl23)"
   ]
  },
  {
   "cell_type": "code",
   "execution_count": 8,
   "id": "8a2d4b9c",
   "metadata": {},
   "outputs": [],
   "source": [
    "def fetch_coordinates(df, dim):\n",
    "    coordinates = []\n",
    "    for i in range(len(df)):\n",
    "        for j in range(dim):\n",
    "            coordinates.append(df.iloc[i,j])\n",
    "    return coordinates"
   ]
  },
  {
   "cell_type": "code",
   "execution_count": 3,
   "id": "97188c06",
   "metadata": {},
   "outputs": [],
   "source": [
    "def calculate_distance_assign_clusters(df, centroids, xaxis, yaxis):\n",
    "    c0x, c0y, c1x, c1y, c2x, c2y, c3x, c3y = fetch_coordinates(centroids, 2)\n",
    "    df['dist_centroid_0'] = df.apply(calculate_distance, args=(c0x, c0y, xaxis, yaxis), axis=1)\n",
    "    df['dist_centroid_1'] = df.apply(calculate_distance, args=(c1x, c1y, xaxis, yaxis), axis=1)\n",
    "    df['dist_centroid_2'] = df.apply(calculate_distance, args=(c2x, c2y, xaxis, yaxis), axis=1)\n",
    "    df['dist_centroid_3'] = df.apply(calculate_distance, args=(c3x, c3y, xaxis, yaxis), axis=1)\n",
    "    \n",
    "    mask_0 = (df['dist_centroid_0'] < df['dist_centroid_2']) & (df['dist_centroid_0'] < df['dist_centroid_1']) & (df['dist_centroid_0'] < df['dist_centroid_3'])\n",
    "    mask_1 = (df['dist_centroid_1'] < df['dist_centroid_2']) & (df['dist_centroid_1'] < df['dist_centroid_0']) & (df['dist_centroid_1'] < df['dist_centroid_3'])\n",
    "    mask_2 = (df['dist_centroid_2'] < df['dist_centroid_0']) & (df['dist_centroid_2'] < df['dist_centroid_1']) & (df['dist_centroid_2'] < df['dist_centroid_3'])\n",
    "    mask_3 = (df['dist_centroid_3'] < df['dist_centroid_2']) & (df['dist_centroid_3'] < df['dist_centroid_1']) & (df['dist_centroid_3'] < df['dist_centroid_0'])\n",
    "    df.loc[mask_0, 'cluster'] = 0\n",
    "    df.loc[mask_1, 'cluster'] = 1\n",
    "    df.loc[mask_2, 'cluster'] = 2\n",
    "    df.loc[mask_3, 'cluster'] = 3\n",
    "    \n",
    "    return df"
   ]
  },
  {
   "cell_type": "code",
   "execution_count": 4,
   "id": "d278e26b",
   "metadata": {},
   "outputs": [],
   "source": [
    "def calculate_distance(s, cx, cy, xaxis, yaxis):\n",
    "    distance = np.sqrt((s.loc[xaxis] - cx)**2 + (s.loc[yaxis] - cy)**2)\n",
    "    return distance"
   ]
  },
  {
   "cell_type": "code",
   "execution_count": 5,
   "id": "22965bcc",
   "metadata": {},
   "outputs": [],
   "source": [
    "# Define a function that takes in the values you want to use to measure\n",
    "def kmeans(df, xaxis, yaxis, n, loops):\n",
    "    df = df[[xaxis, yaxis]].copy()\n",
    "    df['cluster'] = 0\n",
    "    centroids = df.sample(n)\n",
    "    print(centroids)\n",
    "    for i in range(loops):\n",
    "        df = calculate_distance_assign_clusters(df, centroids, xaxis, yaxis)\n",
    "        centroids = df.groupby(['cluster'])[[xaxis, yaxis]].mean().reset_index()\n",
    "        centroids.drop('cluster', axis=1, inplace=True)\n",
    "    sns.scatterplot(data=centroids, x=xaxis, y=yaxis, color='black', s=150)\n",
    "    sns.scatterplot(data=df, x=xaxis, y=yaxis, hue='cluster', palette='tab10')\n",
    "    return [df, centroids]"
   ]
  },
  {
   "cell_type": "code",
   "execution_count": 6,
   "id": "90a64ba1",
   "metadata": {},
   "outputs": [
    {
     "name": "stdout",
     "output_type": "stream",
     "text": [
      "             Lost  GA  cluster\n",
      "Team                          \n",
      "Aston Villa    13  46        0\n",
      "Arsenal         6  43        0\n",
      "Brentford       9  46        0\n",
      "Bournemouth    21  71        0\n"
     ]
    },
    {
     "ename": "ValueError",
     "evalue": "not enough values to unpack (expected 8, got 4)",
     "output_type": "error",
     "traceback": [
      "\u001b[0;31m---------------------------------------------------------------------------\u001b[0m",
      "\u001b[0;31mValueError\u001b[0m                                Traceback (most recent call last)",
      "Cell \u001b[0;32mIn[6], line 1\u001b[0m\n\u001b[0;32m----> 1\u001b[0m \u001b[43mkmeans\u001b[49m\u001b[43m(\u001b[49m\u001b[43mpl23\u001b[49m\u001b[43m,\u001b[49m\u001b[43m \u001b[49m\u001b[38;5;124;43m'\u001b[39;49m\u001b[38;5;124;43mLost\u001b[39;49m\u001b[38;5;124;43m'\u001b[39;49m\u001b[43m,\u001b[49m\u001b[43m \u001b[49m\u001b[38;5;124;43m'\u001b[39;49m\u001b[38;5;124;43mGA\u001b[39;49m\u001b[38;5;124;43m'\u001b[39;49m\u001b[43m,\u001b[49m\u001b[43m \u001b[49m\u001b[38;5;241;43m4\u001b[39;49m\u001b[43m,\u001b[49m\u001b[43m \u001b[49m\u001b[38;5;241;43m10000\u001b[39;49m\u001b[43m)\u001b[49m\n",
      "Cell \u001b[0;32mIn[5], line 8\u001b[0m, in \u001b[0;36mkmeans\u001b[0;34m(df, xaxis, yaxis, n, loops)\u001b[0m\n\u001b[1;32m      6\u001b[0m \u001b[38;5;28mprint\u001b[39m(centroids)\n\u001b[1;32m      7\u001b[0m \u001b[38;5;28;01mfor\u001b[39;00m i \u001b[38;5;129;01min\u001b[39;00m \u001b[38;5;28mrange\u001b[39m(loops):\n\u001b[0;32m----> 8\u001b[0m     df \u001b[38;5;241m=\u001b[39m \u001b[43mcalculate_distance_assign_clusters\u001b[49m\u001b[43m(\u001b[49m\u001b[43mdf\u001b[49m\u001b[43m,\u001b[49m\u001b[43m \u001b[49m\u001b[43mcentroids\u001b[49m\u001b[43m,\u001b[49m\u001b[43m \u001b[49m\u001b[43mxaxis\u001b[49m\u001b[43m,\u001b[49m\u001b[43m \u001b[49m\u001b[43myaxis\u001b[49m\u001b[43m)\u001b[49m\n\u001b[1;32m      9\u001b[0m     centroids \u001b[38;5;241m=\u001b[39m df\u001b[38;5;241m.\u001b[39mgroupby([\u001b[38;5;124m'\u001b[39m\u001b[38;5;124mcluster\u001b[39m\u001b[38;5;124m'\u001b[39m])[[xaxis, yaxis]]\u001b[38;5;241m.\u001b[39mmean()\u001b[38;5;241m.\u001b[39mreset_index()\n\u001b[1;32m     10\u001b[0m     centroids\u001b[38;5;241m.\u001b[39mdrop(\u001b[38;5;124m'\u001b[39m\u001b[38;5;124mcluster\u001b[39m\u001b[38;5;124m'\u001b[39m, axis\u001b[38;5;241m=\u001b[39m\u001b[38;5;241m1\u001b[39m, inplace\u001b[38;5;241m=\u001b[39m\u001b[38;5;28;01mTrue\u001b[39;00m)\n",
      "Cell \u001b[0;32mIn[3], line 2\u001b[0m, in \u001b[0;36mcalculate_distance_assign_clusters\u001b[0;34m(df, centroids, xaxis, yaxis)\u001b[0m\n\u001b[1;32m      1\u001b[0m \u001b[38;5;28;01mdef\u001b[39;00m \u001b[38;5;21mcalculate_distance_assign_clusters\u001b[39m(df, centroids, xaxis, yaxis):\n\u001b[0;32m----> 2\u001b[0m     c0x, c0y, c1x, c1y, c2x, c2y, c3x, c3y \u001b[38;5;241m=\u001b[39m fetch_coordinates(centroids, \u001b[38;5;241m2\u001b[39m)\n\u001b[1;32m      3\u001b[0m     df[\u001b[38;5;124m'\u001b[39m\u001b[38;5;124mdist_centroid_0\u001b[39m\u001b[38;5;124m'\u001b[39m] \u001b[38;5;241m=\u001b[39m df\u001b[38;5;241m.\u001b[39mapply(calculate_distance, args\u001b[38;5;241m=\u001b[39m(c0x, c0y, xaxis, yaxis), axis\u001b[38;5;241m=\u001b[39m\u001b[38;5;241m1\u001b[39m)\n\u001b[1;32m      4\u001b[0m     df[\u001b[38;5;124m'\u001b[39m\u001b[38;5;124mdist_centroid_1\u001b[39m\u001b[38;5;124m'\u001b[39m] \u001b[38;5;241m=\u001b[39m df\u001b[38;5;241m.\u001b[39mapply(calculate_distance, args\u001b[38;5;241m=\u001b[39m(c1x, c1y, xaxis, yaxis), axis\u001b[38;5;241m=\u001b[39m\u001b[38;5;241m1\u001b[39m)\n",
      "\u001b[0;31mValueError\u001b[0m: not enough values to unpack (expected 8, got 4)"
     ]
    }
   ],
   "source": [
    "kmeans(pl23, 'Lost', 'GA', 4, 10000)"
   ]
  },
  {
   "cell_type": "code",
   "execution_count": null,
   "id": "ad724ccc",
   "metadata": {},
   "outputs": [],
   "source": []
  },
  {
   "cell_type": "code",
   "execution_count": 7,
   "id": "b0db3c50",
   "metadata": {},
   "outputs": [],
   "source": []
  },
  {
   "cell_type": "code",
   "execution_count": null,
   "id": "023c5bec",
   "metadata": {},
   "outputs": [],
   "source": []
  }
 ],
 "metadata": {
  "kernelspec": {
   "display_name": "Python 3 (ipykernel)",
   "language": "python",
   "name": "python3"
  },
  "language_info": {
   "codemirror_mode": {
    "name": "ipython",
    "version": 3
   },
   "file_extension": ".py",
   "mimetype": "text/x-python",
   "name": "python",
   "nbconvert_exporter": "python",
   "pygments_lexer": "ipython3",
   "version": "3.10.9"
  }
 },
 "nbformat": 4,
 "nbformat_minor": 5
}
