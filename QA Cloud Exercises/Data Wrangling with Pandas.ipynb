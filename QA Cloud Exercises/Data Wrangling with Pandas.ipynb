{
 "cells": [
  {
   "cell_type": "code",
   "execution_count": 1,
   "id": "e11cabdc",
   "metadata": {},
   "outputs": [],
   "source": [
    " import pandas as pd"
   ]
  },
  {
   "cell_type": "markdown",
   "id": "d114a54f",
   "metadata": {},
   "source": [
    "## Merging and concatenating tidy data"
   ]
  },
  {
   "cell_type": "code",
   "execution_count": 67,
   "id": "3ba37b17",
   "metadata": {},
   "outputs": [],
   "source": [
    "# index_col=0 set the first column of the csv as the index column of the dataset\n",
    "ggle = pd.read_csv('data/ggle.csv', index_col=0)\n",
    "amzn = pd.read_csv('data/amzn.csv', index_col=0)\n",
    "msft = pd.read_csv('data/msft.csv', index_col=0)"
   ]
  },
  {
   "cell_type": "code",
   "execution_count": 9,
   "id": "1ec9ba04",
   "metadata": {},
   "outputs": [
    {
     "name": "stdout",
     "output_type": "stream",
     "text": [
      "<class 'pandas.core.frame.DataFrame'>\n",
      "Int64Index: 22 entries, 0 to 21\n",
      "Data columns (total 4 columns):\n",
      " #   Column  Non-Null Count  Dtype  \n",
      "---  ------  --------------  -----  \n",
      " 0   Date    22 non-null     object \n",
      " 1   Close   22 non-null     float64\n",
      " 2   Volume  22 non-null     int64  \n",
      " 3   Symbol  22 non-null     object \n",
      "dtypes: float64(1), int64(1), object(2)\n",
      "memory usage: 880.0+ bytes\n"
     ]
    }
   ],
   "source": [
    "google.info()"
   ]
  },
  {
   "cell_type": "code",
   "execution_count": 10,
   "id": "5c595f5c",
   "metadata": {},
   "outputs": [
    {
     "name": "stdout",
     "output_type": "stream",
     "text": [
      "<class 'pandas.core.frame.DataFrame'>\n",
      "Int64Index: 22 entries, 0 to 21\n",
      "Data columns (total 4 columns):\n",
      " #   Column  Non-Null Count  Dtype  \n",
      "---  ------  --------------  -----  \n",
      " 0   Date    22 non-null     object \n",
      " 1   Close   22 non-null     float64\n",
      " 2   Volume  22 non-null     int64  \n",
      " 3   Symbol  22 non-null     object \n",
      "dtypes: float64(1), int64(1), object(2)\n",
      "memory usage: 880.0+ bytes\n"
     ]
    }
   ],
   "source": [
    "amzn.info()"
   ]
  },
  {
   "cell_type": "code",
   "execution_count": 11,
   "id": "a20dcc67",
   "metadata": {},
   "outputs": [
    {
     "name": "stdout",
     "output_type": "stream",
     "text": [
      "<class 'pandas.core.frame.DataFrame'>\n",
      "Int64Index: 22 entries, 0 to 21\n",
      "Data columns (total 4 columns):\n",
      " #   Column  Non-Null Count  Dtype  \n",
      "---  ------  --------------  -----  \n",
      " 0   Date    22 non-null     object \n",
      " 1   Close   22 non-null     float64\n",
      " 2   Volume  22 non-null     int64  \n",
      " 3   Symbol  22 non-null     object \n",
      "dtypes: float64(1), int64(1), object(2)\n",
      "memory usage: 880.0+ bytes\n"
     ]
    }
   ],
   "source": [
    "msft.info()"
   ]
  },
  {
   "cell_type": "code",
   "execution_count": 12,
   "id": "09722467",
   "metadata": {},
   "outputs": [
    {
     "data": {
      "text/html": [
       "<div>\n",
       "<style scoped>\n",
       "    .dataframe tbody tr th:only-of-type {\n",
       "        vertical-align: middle;\n",
       "    }\n",
       "\n",
       "    .dataframe tbody tr th {\n",
       "        vertical-align: top;\n",
       "    }\n",
       "\n",
       "    .dataframe thead th {\n",
       "        text-align: right;\n",
       "    }\n",
       "</style>\n",
       "<table border=\"1\" class=\"dataframe\">\n",
       "  <thead>\n",
       "    <tr style=\"text-align: right;\">\n",
       "      <th></th>\n",
       "      <th>Date</th>\n",
       "      <th>Close</th>\n",
       "      <th>Volume</th>\n",
       "      <th>Symbol</th>\n",
       "    </tr>\n",
       "  </thead>\n",
       "  <tbody>\n",
       "    <tr>\n",
       "      <th>0</th>\n",
       "      <td>2020-06-01</td>\n",
       "      <td>1434.869995</td>\n",
       "      <td>1258100</td>\n",
       "      <td>GOOGL</td>\n",
       "    </tr>\n",
       "    <tr>\n",
       "      <th>1</th>\n",
       "      <td>2020-06-02</td>\n",
       "      <td>1442.310059</td>\n",
       "      <td>1172100</td>\n",
       "      <td>GOOGL</td>\n",
       "    </tr>\n",
       "    <tr>\n",
       "      <th>2</th>\n",
       "      <td>2020-06-03</td>\n",
       "      <td>1439.250000</td>\n",
       "      <td>1386600</td>\n",
       "      <td>GOOGL</td>\n",
       "    </tr>\n",
       "    <tr>\n",
       "      <th>3</th>\n",
       "      <td>2020-06-04</td>\n",
       "      <td>1414.300049</td>\n",
       "      <td>1349100</td>\n",
       "      <td>GOOGL</td>\n",
       "    </tr>\n",
       "    <tr>\n",
       "      <th>4</th>\n",
       "      <td>2020-06-05</td>\n",
       "      <td>1440.020020</td>\n",
       "      <td>2132100</td>\n",
       "      <td>GOOGL</td>\n",
       "    </tr>\n",
       "  </tbody>\n",
       "</table>\n",
       "</div>"
      ],
      "text/plain": [
       "         Date        Close   Volume Symbol\n",
       "0  2020-06-01  1434.869995  1258100  GOOGL\n",
       "1  2020-06-02  1442.310059  1172100  GOOGL\n",
       "2  2020-06-03  1439.250000  1386600  GOOGL\n",
       "3  2020-06-04  1414.300049  1349100  GOOGL\n",
       "4  2020-06-05  1440.020020  2132100  GOOGL"
      ]
     },
     "execution_count": 12,
     "metadata": {},
     "output_type": "execute_result"
    }
   ],
   "source": [
    "ggle.head()"
   ]
  },
  {
   "cell_type": "code",
   "execution_count": 14,
   "id": "74aa61e8",
   "metadata": {},
   "outputs": [
    {
     "name": "stderr",
     "output_type": "stream",
     "text": [
      "/var/folders/_b/6bw4j4wn7xd5x_7z5fy3dqzh0000gp/T/ipykernel_15126/1988741168.py:4: FutureWarning: The frame.append method is deprecated and will be removed from pandas in a future version. Use pandas.concat instead.\n",
      "  all_df = all_df.append([ggle, msft, amzn])\n"
     ]
    }
   ],
   "source": [
    "# Concatenation of Tidy Data source\n",
    "# append appends rows of a datafram to a df\n",
    "all_df = pd.DataFrame()\n",
    "all_df = all_df.append([ggle, msft, amzn])"
   ]
  },
  {
   "cell_type": "code",
   "execution_count": 15,
   "id": "863ac9de",
   "metadata": {},
   "outputs": [
    {
     "name": "stdout",
     "output_type": "stream",
     "text": [
      "<class 'pandas.core.frame.DataFrame'>\n",
      "Int64Index: 66 entries, 0 to 21\n",
      "Data columns (total 4 columns):\n",
      " #   Column  Non-Null Count  Dtype  \n",
      "---  ------  --------------  -----  \n",
      " 0   Date    66 non-null     object \n",
      " 1   Close   66 non-null     float64\n",
      " 2   Volume  66 non-null     int64  \n",
      " 3   Symbol  66 non-null     object \n",
      "dtypes: float64(1), int64(1), object(2)\n",
      "memory usage: 2.6+ KB\n"
     ]
    }
   ],
   "source": [
    "all_df.info()"
   ]
  },
  {
   "cell_type": "code",
   "execution_count": 16,
   "id": "7e99be8a",
   "metadata": {},
   "outputs": [],
   "source": [
    "# Index is repeated as all df are 0-21\n",
    "all_df.reset_index(drop=True, inplace=True)"
   ]
  },
  {
   "cell_type": "code",
   "execution_count": 61,
   "id": "c483a3ca",
   "metadata": {},
   "outputs": [],
   "source": [
    "# Can do this more efficiently using concat()\n",
    "#  axis=0 is default\n",
    "all_df = pd.concat([ggle, amzn, msft])"
   ]
  },
  {
   "cell_type": "code",
   "execution_count": 18,
   "id": "b6e3f14d",
   "metadata": {},
   "outputs": [
    {
     "name": "stdout",
     "output_type": "stream",
     "text": [
      "<class 'pandas.core.frame.DataFrame'>\n",
      "Int64Index: 66 entries, 0 to 21\n",
      "Data columns (total 4 columns):\n",
      " #   Column  Non-Null Count  Dtype  \n",
      "---  ------  --------------  -----  \n",
      " 0   Date    66 non-null     object \n",
      " 1   Close   66 non-null     float64\n",
      " 2   Volume  66 non-null     int64  \n",
      " 3   Symbol  66 non-null     object \n",
      "dtypes: float64(1), int64(1), object(2)\n",
      "memory usage: 2.6+ KB\n"
     ]
    }
   ],
   "source": [
    "all_df.info()"
   ]
  },
  {
   "cell_type": "code",
   "execution_count": 19,
   "id": "5c9550be",
   "metadata": {},
   "outputs": [
    {
     "data": {
      "text/html": [
       "<div>\n",
       "<style scoped>\n",
       "    .dataframe tbody tr th:only-of-type {\n",
       "        vertical-align: middle;\n",
       "    }\n",
       "\n",
       "    .dataframe tbody tr th {\n",
       "        vertical-align: top;\n",
       "    }\n",
       "\n",
       "    .dataframe thead th {\n",
       "        text-align: right;\n",
       "    }\n",
       "</style>\n",
       "<table border=\"1\" class=\"dataframe\">\n",
       "  <thead>\n",
       "    <tr style=\"text-align: right;\">\n",
       "      <th></th>\n",
       "      <th>Date</th>\n",
       "      <th>Close</th>\n",
       "      <th>Volume</th>\n",
       "      <th>Symbol</th>\n",
       "    </tr>\n",
       "  </thead>\n",
       "  <tbody>\n",
       "    <tr>\n",
       "      <th>61</th>\n",
       "      <td>2020-06-24</td>\n",
       "      <td>197.839996</td>\n",
       "      <td>36740600</td>\n",
       "      <td>MSFT</td>\n",
       "    </tr>\n",
       "    <tr>\n",
       "      <th>62</th>\n",
       "      <td>2020-06-25</td>\n",
       "      <td>200.339996</td>\n",
       "      <td>27803900</td>\n",
       "      <td>MSFT</td>\n",
       "    </tr>\n",
       "    <tr>\n",
       "      <th>63</th>\n",
       "      <td>2020-06-26</td>\n",
       "      <td>196.330002</td>\n",
       "      <td>54675800</td>\n",
       "      <td>MSFT</td>\n",
       "    </tr>\n",
       "    <tr>\n",
       "      <th>64</th>\n",
       "      <td>2020-06-29</td>\n",
       "      <td>198.440002</td>\n",
       "      <td>26701600</td>\n",
       "      <td>MSFT</td>\n",
       "    </tr>\n",
       "    <tr>\n",
       "      <th>65</th>\n",
       "      <td>2020-06-30</td>\n",
       "      <td>203.509995</td>\n",
       "      <td>34310300</td>\n",
       "      <td>MSFT</td>\n",
       "    </tr>\n",
       "  </tbody>\n",
       "</table>\n",
       "</div>"
      ],
      "text/plain": [
       "          Date       Close    Volume Symbol\n",
       "61  2020-06-24  197.839996  36740600   MSFT\n",
       "62  2020-06-25  200.339996  27803900   MSFT\n",
       "63  2020-06-26  196.330002  54675800   MSFT\n",
       "64  2020-06-29  198.440002  26701600   MSFT\n",
       "65  2020-06-30  203.509995  34310300   MSFT"
      ]
     },
     "execution_count": 19,
     "metadata": {},
     "output_type": "execute_result"
    }
   ],
   "source": [
    "all_df.reset_index(drop=True, inplace=True)\n",
    "all_df.tail()"
   ]
  },
  {
   "cell_type": "markdown",
   "id": "5d41b236",
   "metadata": {},
   "source": [
    "## Multi-level Indexing"
   ]
  },
  {
   "cell_type": "code",
   "execution_count": 20,
   "id": "9a3ec352",
   "metadata": {},
   "outputs": [
    {
     "data": {
      "text/html": [
       "<div>\n",
       "<style scoped>\n",
       "    .dataframe tbody tr th:only-of-type {\n",
       "        vertical-align: middle;\n",
       "    }\n",
       "\n",
       "    .dataframe tbody tr th {\n",
       "        vertical-align: top;\n",
       "    }\n",
       "\n",
       "    .dataframe thead th {\n",
       "        text-align: right;\n",
       "    }\n",
       "</style>\n",
       "<table border=\"1\" class=\"dataframe\">\n",
       "  <thead>\n",
       "    <tr style=\"text-align: right;\">\n",
       "      <th></th>\n",
       "      <th></th>\n",
       "      <th>Close</th>\n",
       "      <th>Volume</th>\n",
       "    </tr>\n",
       "    <tr>\n",
       "      <th>Symbol</th>\n",
       "      <th>Date</th>\n",
       "      <th></th>\n",
       "      <th></th>\n",
       "    </tr>\n",
       "  </thead>\n",
       "  <tbody>\n",
       "    <tr>\n",
       "      <th rowspan=\"5\" valign=\"top\">GOOGL</th>\n",
       "      <th>2020-06-01</th>\n",
       "      <td>1434.869995</td>\n",
       "      <td>1258100</td>\n",
       "    </tr>\n",
       "    <tr>\n",
       "      <th>2020-06-02</th>\n",
       "      <td>1442.310059</td>\n",
       "      <td>1172100</td>\n",
       "    </tr>\n",
       "    <tr>\n",
       "      <th>2020-06-03</th>\n",
       "      <td>1439.250000</td>\n",
       "      <td>1386600</td>\n",
       "    </tr>\n",
       "    <tr>\n",
       "      <th>2020-06-04</th>\n",
       "      <td>1414.300049</td>\n",
       "      <td>1349100</td>\n",
       "    </tr>\n",
       "    <tr>\n",
       "      <th>2020-06-05</th>\n",
       "      <td>1440.020020</td>\n",
       "      <td>2132100</td>\n",
       "    </tr>\n",
       "  </tbody>\n",
       "</table>\n",
       "</div>"
      ],
      "text/plain": [
       "                         Close   Volume\n",
       "Symbol Date                            \n",
       "GOOGL  2020-06-01  1434.869995  1258100\n",
       "       2020-06-02  1442.310059  1172100\n",
       "       2020-06-03  1439.250000  1386600\n",
       "       2020-06-04  1414.300049  1349100\n",
       "       2020-06-05  1440.020020  2132100"
      ]
     },
     "execution_count": 20,
     "metadata": {},
     "output_type": "execute_result"
    }
   ],
   "source": [
    "# Allows creating of complicated data structures, improves readability of resulting output\n",
    "all_df.set_index(['Symbol', 'Date'], inplace=True)\n",
    "all_df.head()"
   ]
  },
  {
   "cell_type": "code",
   "execution_count": 21,
   "id": "22daa135",
   "metadata": {},
   "outputs": [
    {
     "data": {
      "text/html": [
       "<div>\n",
       "<style scoped>\n",
       "    .dataframe tbody tr th:only-of-type {\n",
       "        vertical-align: middle;\n",
       "    }\n",
       "\n",
       "    .dataframe tbody tr th {\n",
       "        vertical-align: top;\n",
       "    }\n",
       "\n",
       "    .dataframe thead th {\n",
       "        text-align: right;\n",
       "    }\n",
       "</style>\n",
       "<table border=\"1\" class=\"dataframe\">\n",
       "  <thead>\n",
       "    <tr style=\"text-align: right;\">\n",
       "      <th></th>\n",
       "      <th></th>\n",
       "      <th>Close</th>\n",
       "      <th>Volume</th>\n",
       "    </tr>\n",
       "    <tr>\n",
       "      <th>Symbol</th>\n",
       "      <th>Date</th>\n",
       "      <th></th>\n",
       "      <th></th>\n",
       "    </tr>\n",
       "  </thead>\n",
       "  <tbody>\n",
       "    <tr>\n",
       "      <th rowspan=\"5\" valign=\"top\">MSFT</th>\n",
       "      <th>2020-06-24</th>\n",
       "      <td>197.839996</td>\n",
       "      <td>36740600</td>\n",
       "    </tr>\n",
       "    <tr>\n",
       "      <th>2020-06-25</th>\n",
       "      <td>200.339996</td>\n",
       "      <td>27803900</td>\n",
       "    </tr>\n",
       "    <tr>\n",
       "      <th>2020-06-26</th>\n",
       "      <td>196.330002</td>\n",
       "      <td>54675800</td>\n",
       "    </tr>\n",
       "    <tr>\n",
       "      <th>2020-06-29</th>\n",
       "      <td>198.440002</td>\n",
       "      <td>26701600</td>\n",
       "    </tr>\n",
       "    <tr>\n",
       "      <th>2020-06-30</th>\n",
       "      <td>203.509995</td>\n",
       "      <td>34310300</td>\n",
       "    </tr>\n",
       "  </tbody>\n",
       "</table>\n",
       "</div>"
      ],
      "text/plain": [
       "                        Close    Volume\n",
       "Symbol Date                            \n",
       "MSFT   2020-06-24  197.839996  36740600\n",
       "       2020-06-25  200.339996  27803900\n",
       "       2020-06-26  196.330002  54675800\n",
       "       2020-06-29  198.440002  26701600\n",
       "       2020-06-30  203.509995  34310300"
      ]
     },
     "execution_count": 21,
     "metadata": {},
     "output_type": "execute_result"
    }
   ],
   "source": [
    "all_df.tail()"
   ]
  },
  {
   "cell_type": "code",
   "execution_count": 22,
   "id": "e1086eaa",
   "metadata": {},
   "outputs": [],
   "source": [
    "all_df.sort_index(inplace=True)"
   ]
  },
  {
   "cell_type": "code",
   "execution_count": 23,
   "id": "33d747c8",
   "metadata": {},
   "outputs": [
    {
     "data": {
      "text/html": [
       "<div>\n",
       "<style scoped>\n",
       "    .dataframe tbody tr th:only-of-type {\n",
       "        vertical-align: middle;\n",
       "    }\n",
       "\n",
       "    .dataframe tbody tr th {\n",
       "        vertical-align: top;\n",
       "    }\n",
       "\n",
       "    .dataframe thead th {\n",
       "        text-align: right;\n",
       "    }\n",
       "</style>\n",
       "<table border=\"1\" class=\"dataframe\">\n",
       "  <thead>\n",
       "    <tr style=\"text-align: right;\">\n",
       "      <th></th>\n",
       "      <th></th>\n",
       "      <th>Close</th>\n",
       "      <th>Volume</th>\n",
       "    </tr>\n",
       "    <tr>\n",
       "      <th>Symbol</th>\n",
       "      <th>Date</th>\n",
       "      <th></th>\n",
       "      <th></th>\n",
       "    </tr>\n",
       "  </thead>\n",
       "  <tbody>\n",
       "    <tr>\n",
       "      <th rowspan=\"5\" valign=\"top\">AMZN</th>\n",
       "      <th>2020-06-01</th>\n",
       "      <td>2471.040039</td>\n",
       "      <td>2928900</td>\n",
       "    </tr>\n",
       "    <tr>\n",
       "      <th>2020-06-02</th>\n",
       "      <td>2472.409912</td>\n",
       "      <td>2529900</td>\n",
       "    </tr>\n",
       "    <tr>\n",
       "      <th>2020-06-03</th>\n",
       "      <td>2478.399902</td>\n",
       "      <td>2671000</td>\n",
       "    </tr>\n",
       "    <tr>\n",
       "      <th>2020-06-04</th>\n",
       "      <td>2460.600098</td>\n",
       "      <td>2948700</td>\n",
       "    </tr>\n",
       "    <tr>\n",
       "      <th>2020-06-05</th>\n",
       "      <td>2483.000000</td>\n",
       "      <td>3306400</td>\n",
       "    </tr>\n",
       "  </tbody>\n",
       "</table>\n",
       "</div>"
      ],
      "text/plain": [
       "                         Close   Volume\n",
       "Symbol Date                            \n",
       "AMZN   2020-06-01  2471.040039  2928900\n",
       "       2020-06-02  2472.409912  2529900\n",
       "       2020-06-03  2478.399902  2671000\n",
       "       2020-06-04  2460.600098  2948700\n",
       "       2020-06-05  2483.000000  3306400"
      ]
     },
     "execution_count": 23,
     "metadata": {},
     "output_type": "execute_result"
    }
   ],
   "source": [
    "all_df.head()"
   ]
  },
  {
   "cell_type": "code",
   "execution_count": 24,
   "id": "cb2049f3",
   "metadata": {},
   "outputs": [
    {
     "data": {
      "text/plain": [
       "Close     2.471040e+03\n",
       "Volume    2.928900e+06\n",
       "Name: (AMZN, 2020-06-01), dtype: float64"
      ]
     },
     "execution_count": 24,
     "metadata": {},
     "output_type": "execute_result"
    }
   ],
   "source": [
    "# Multi index keys generally take the form of tuples\n",
    "all_df.loc[('AMZN', '2020-06-01')]"
   ]
  },
  {
   "cell_type": "code",
   "execution_count": 25,
   "id": "b19ce462",
   "metadata": {},
   "outputs": [
    {
     "data": {
      "text/plain": [
       "2471.0400390625"
      ]
     },
     "execution_count": 25,
     "metadata": {},
     "output_type": "execute_result"
    }
   ],
   "source": [
    "all_df.loc[('AMZN', '2020-06-01'),'Close']"
   ]
  },
  {
   "cell_type": "code",
   "execution_count": 28,
   "id": "967101e7",
   "metadata": {},
   "outputs": [
    {
     "data": {
      "text/plain": [
       "Index(['AMZN', 'GOOGL', 'MSFT'], dtype='object', name='Symbol')"
      ]
     },
     "execution_count": 28,
     "metadata": {},
     "output_type": "execute_result"
    }
   ],
   "source": [
    "all_df.index.levels[0]"
   ]
  },
  {
   "cell_type": "code",
   "execution_count": 30,
   "id": "04241031",
   "metadata": {},
   "outputs": [
    {
     "data": {
      "text/plain": [
       "Index(['2020-06-01', '2020-06-02', '2020-06-03', '2020-06-04', '2020-06-05',\n",
       "       '2020-06-08', '2020-06-09', '2020-06-10', '2020-06-11', '2020-06-12',\n",
       "       '2020-06-15', '2020-06-16', '2020-06-17', '2020-06-18', '2020-06-19',\n",
       "       '2020-06-22', '2020-06-23', '2020-06-24', '2020-06-25', '2020-06-26',\n",
       "       '2020-06-29', '2020-06-30'],\n",
       "      dtype='object', name='Date')"
      ]
     },
     "execution_count": 30,
     "metadata": {},
     "output_type": "execute_result"
    }
   ],
   "source": [
    "all_df.index.levels[1]"
   ]
  },
  {
   "cell_type": "code",
   "execution_count": 31,
   "id": "c009f520",
   "metadata": {},
   "outputs": [
    {
     "data": {
      "text/plain": [
       "Symbol  Date      \n",
       "AMZN    2020-06-24    2734.399902\n",
       "GOOGL   2020-06-24    1432.699951\n",
       "Name: Close, dtype: float64"
      ]
     },
     "execution_count": 31,
     "metadata": {},
     "output_type": "execute_result"
    }
   ],
   "source": [
    "all_df.loc[(['AMZN','GOOGL'], '2020-06-24'), 'Close']"
   ]
  },
  {
   "cell_type": "code",
   "execution_count": 35,
   "id": "4d2671eb",
   "metadata": {},
   "outputs": [
    {
     "data": {
      "text/plain": [
       "Symbol  Date      \n",
       "AMZN    2020-06-24    2734.399902\n",
       "GOOGL   2020-06-24    1432.699951\n",
       "MSFT    2020-06-24     197.839996\n",
       "Name: Close, dtype: float64"
      ]
     },
     "execution_count": 35,
     "metadata": {},
     "output_type": "execute_result"
    }
   ],
   "source": [
    "all_df.loc[((slice(None)), '2020-06-24'), 'Close']"
   ]
  },
  {
   "cell_type": "code",
   "execution_count": 37,
   "id": "3d4a3919",
   "metadata": {},
   "outputs": [
    {
     "data": {
      "text/plain": [
       "Symbol  Date      \n",
       "AMZN    2020-06-01    2471.040039\n",
       "        2020-06-02    2472.409912\n",
       "        2020-06-03    2478.399902\n",
       "        2020-06-04    2460.600098\n",
       "        2020-06-05    2483.000000\n",
       "        2020-06-08    2524.060059\n",
       "        2020-06-09    2600.860107\n",
       "        2020-06-10    2647.449951\n",
       "        2020-06-11    2557.959961\n",
       "        2020-06-12    2545.020020\n",
       "        2020-06-15    2572.679932\n",
       "        2020-06-16    2615.270020\n",
       "        2020-06-17    2640.979980\n",
       "        2020-06-18    2653.979980\n",
       "        2020-06-19    2675.010010\n",
       "        2020-06-22    2713.820068\n",
       "        2020-06-23    2764.409912\n",
       "        2020-06-24    2734.399902\n",
       "        2020-06-25    2754.580078\n",
       "        2020-06-26    2692.870117\n",
       "        2020-06-29    2680.379883\n",
       "        2020-06-30    2758.820068\n",
       "Name: Close, dtype: float64"
      ]
     },
     "execution_count": 37,
     "metadata": {},
     "output_type": "execute_result"
    }
   ],
   "source": [
    "all_df.loc[('AMZN', (slice(None))), 'Close']"
   ]
  },
  {
   "cell_type": "code",
   "execution_count": 39,
   "id": "2105e16d",
   "metadata": {},
   "outputs": [
    {
     "data": {
      "text/plain": [
       "Date\n",
       "2020-06-01    2471.040039\n",
       "2020-06-02    2472.409912\n",
       "2020-06-03    2478.399902\n",
       "2020-06-04    2460.600098\n",
       "2020-06-05    2483.000000\n",
       "2020-06-08    2524.060059\n",
       "2020-06-09    2600.860107\n",
       "2020-06-10    2647.449951\n",
       "2020-06-11    2557.959961\n",
       "2020-06-12    2545.020020\n",
       "2020-06-15    2572.679932\n",
       "2020-06-16    2615.270020\n",
       "2020-06-17    2640.979980\n",
       "2020-06-18    2653.979980\n",
       "2020-06-19    2675.010010\n",
       "2020-06-22    2713.820068\n",
       "2020-06-23    2764.409912\n",
       "2020-06-24    2734.399902\n",
       "2020-06-25    2754.580078\n",
       "2020-06-26    2692.870117\n",
       "2020-06-29    2680.379883\n",
       "2020-06-30    2758.820068\n",
       "Name: Close, dtype: float64"
      ]
     },
     "execution_count": 39,
     "metadata": {},
     "output_type": "execute_result"
    }
   ],
   "source": [
    "all_df.loc['AMZN', 'Close']"
   ]
  },
  {
   "cell_type": "markdown",
   "id": "240ed867",
   "metadata": {},
   "source": [
    "## Merging Tidy Data"
   ]
  },
  {
   "cell_type": "code",
   "execution_count": 43,
   "id": "da8db124",
   "metadata": {},
   "outputs": [
    {
     "data": {
      "text/html": [
       "<div>\n",
       "<style scoped>\n",
       "    .dataframe tbody tr th:only-of-type {\n",
       "        vertical-align: middle;\n",
       "    }\n",
       "\n",
       "    .dataframe tbody tr th {\n",
       "        vertical-align: top;\n",
       "    }\n",
       "\n",
       "    .dataframe thead th {\n",
       "        text-align: right;\n",
       "    }\n",
       "</style>\n",
       "<table border=\"1\" class=\"dataframe\">\n",
       "  <thead>\n",
       "    <tr style=\"text-align: right;\">\n",
       "      <th></th>\n",
       "      <th>Date</th>\n",
       "      <th>Close</th>\n",
       "      <th>Volume</th>\n",
       "      <th>Symbol</th>\n",
       "      <th>Date</th>\n",
       "      <th>Close</th>\n",
       "      <th>Volume</th>\n",
       "      <th>Symbol</th>\n",
       "      <th>Date</th>\n",
       "      <th>Close</th>\n",
       "      <th>Volume</th>\n",
       "      <th>Symbol</th>\n",
       "    </tr>\n",
       "  </thead>\n",
       "  <tbody>\n",
       "    <tr>\n",
       "      <th>0</th>\n",
       "      <td>2020-06-01</td>\n",
       "      <td>1434.869995</td>\n",
       "      <td>1258100</td>\n",
       "      <td>GOOGL</td>\n",
       "      <td>2020-06-01</td>\n",
       "      <td>2471.040039</td>\n",
       "      <td>2928900</td>\n",
       "      <td>AMZN</td>\n",
       "      <td>2020-06-01</td>\n",
       "      <td>182.830002</td>\n",
       "      <td>22622400</td>\n",
       "      <td>MSFT</td>\n",
       "    </tr>\n",
       "    <tr>\n",
       "      <th>1</th>\n",
       "      <td>2020-06-02</td>\n",
       "      <td>1442.310059</td>\n",
       "      <td>1172100</td>\n",
       "      <td>GOOGL</td>\n",
       "      <td>2020-06-02</td>\n",
       "      <td>2472.409912</td>\n",
       "      <td>2529900</td>\n",
       "      <td>AMZN</td>\n",
       "      <td>2020-06-02</td>\n",
       "      <td>184.910004</td>\n",
       "      <td>30794600</td>\n",
       "      <td>MSFT</td>\n",
       "    </tr>\n",
       "    <tr>\n",
       "      <th>2</th>\n",
       "      <td>2020-06-03</td>\n",
       "      <td>1439.250000</td>\n",
       "      <td>1386600</td>\n",
       "      <td>GOOGL</td>\n",
       "      <td>2020-06-03</td>\n",
       "      <td>2478.399902</td>\n",
       "      <td>2671000</td>\n",
       "      <td>AMZN</td>\n",
       "      <td>2020-06-03</td>\n",
       "      <td>185.360001</td>\n",
       "      <td>27311000</td>\n",
       "      <td>MSFT</td>\n",
       "    </tr>\n",
       "    <tr>\n",
       "      <th>3</th>\n",
       "      <td>2020-06-04</td>\n",
       "      <td>1414.300049</td>\n",
       "      <td>1349100</td>\n",
       "      <td>GOOGL</td>\n",
       "      <td>2020-06-04</td>\n",
       "      <td>2460.600098</td>\n",
       "      <td>2948700</td>\n",
       "      <td>AMZN</td>\n",
       "      <td>2020-06-04</td>\n",
       "      <td>182.919998</td>\n",
       "      <td>28761800</td>\n",
       "      <td>MSFT</td>\n",
       "    </tr>\n",
       "    <tr>\n",
       "      <th>4</th>\n",
       "      <td>2020-06-05</td>\n",
       "      <td>1440.020020</td>\n",
       "      <td>2132100</td>\n",
       "      <td>GOOGL</td>\n",
       "      <td>2020-06-05</td>\n",
       "      <td>2483.000000</td>\n",
       "      <td>3306400</td>\n",
       "      <td>AMZN</td>\n",
       "      <td>2020-06-05</td>\n",
       "      <td>187.199997</td>\n",
       "      <td>39893600</td>\n",
       "      <td>MSFT</td>\n",
       "    </tr>\n",
       "  </tbody>\n",
       "</table>\n",
       "</div>"
      ],
      "text/plain": [
       "         Date        Close   Volume Symbol        Date        Close   Volume  \\\n",
       "0  2020-06-01  1434.869995  1258100  GOOGL  2020-06-01  2471.040039  2928900   \n",
       "1  2020-06-02  1442.310059  1172100  GOOGL  2020-06-02  2472.409912  2529900   \n",
       "2  2020-06-03  1439.250000  1386600  GOOGL  2020-06-03  2478.399902  2671000   \n",
       "3  2020-06-04  1414.300049  1349100  GOOGL  2020-06-04  2460.600098  2948700   \n",
       "4  2020-06-05  1440.020020  2132100  GOOGL  2020-06-05  2483.000000  3306400   \n",
       "\n",
       "  Symbol        Date       Close    Volume Symbol  \n",
       "0   AMZN  2020-06-01  182.830002  22622400   MSFT  \n",
       "1   AMZN  2020-06-02  184.910004  30794600   MSFT  \n",
       "2   AMZN  2020-06-03  185.360001  27311000   MSFT  \n",
       "3   AMZN  2020-06-04  182.919998  28761800   MSFT  \n",
       "4   AMZN  2020-06-05  187.199997  39893600   MSFT  "
      ]
     },
     "execution_count": 43,
     "metadata": {},
     "output_type": "execute_result"
    }
   ],
   "source": [
    "df_cols = pd.concat([ggle,amzn, msft], axis=1)\n",
    "df_cols.head()"
   ]
  },
  {
   "cell_type": "code",
   "execution_count": 46,
   "id": "25ccba9e",
   "metadata": {},
   "outputs": [
    {
     "ename": "ValueError",
     "evalue": "Indexes have overlapping values: Index(['Date', 'Close', 'Volume', 'Symbol'], dtype='object')",
     "output_type": "error",
     "traceback": [
      "\u001b[0;31m---------------------------------------------------------------------------\u001b[0m",
      "\u001b[0;31mValueError\u001b[0m                                Traceback (most recent call last)",
      "Cell \u001b[0;32mIn[46], line 2\u001b[0m\n\u001b[1;32m      1\u001b[0m \u001b[38;5;66;03m# Will throw error as the df have shared column values\u001b[39;00m\n\u001b[0;32m----> 2\u001b[0m df_cols \u001b[38;5;241m=\u001b[39m \u001b[43mpd\u001b[49m\u001b[38;5;241;43m.\u001b[39;49m\u001b[43mconcat\u001b[49m\u001b[43m(\u001b[49m\u001b[43m[\u001b[49m\u001b[43mggle\u001b[49m\u001b[43m,\u001b[49m\u001b[43mamzn\u001b[49m\u001b[43m,\u001b[49m\u001b[43m \u001b[49m\u001b[43mmsft\u001b[49m\u001b[43m]\u001b[49m\u001b[43m,\u001b[49m\u001b[43m \u001b[49m\u001b[43maxis\u001b[49m\u001b[38;5;241;43m=\u001b[39;49m\u001b[38;5;241;43m1\u001b[39;49m\u001b[43m,\u001b[49m\u001b[43m \u001b[49m\u001b[43mverify_integrity\u001b[49m\u001b[38;5;241;43m=\u001b[39;49m\u001b[38;5;28;43;01mTrue\u001b[39;49;00m\u001b[43m)\u001b[49m\n",
      "File \u001b[0;32m~/anaconda3/lib/python3.10/site-packages/pandas/util/_decorators.py:331\u001b[0m, in \u001b[0;36mdeprecate_nonkeyword_arguments.<locals>.decorate.<locals>.wrapper\u001b[0;34m(*args, **kwargs)\u001b[0m\n\u001b[1;32m    325\u001b[0m \u001b[38;5;28;01mif\u001b[39;00m \u001b[38;5;28mlen\u001b[39m(args) \u001b[38;5;241m>\u001b[39m num_allow_args:\n\u001b[1;32m    326\u001b[0m     warnings\u001b[38;5;241m.\u001b[39mwarn(\n\u001b[1;32m    327\u001b[0m         msg\u001b[38;5;241m.\u001b[39mformat(arguments\u001b[38;5;241m=\u001b[39m_format_argument_list(allow_args)),\n\u001b[1;32m    328\u001b[0m         \u001b[38;5;167;01mFutureWarning\u001b[39;00m,\n\u001b[1;32m    329\u001b[0m         stacklevel\u001b[38;5;241m=\u001b[39mfind_stack_level(),\n\u001b[1;32m    330\u001b[0m     )\n\u001b[0;32m--> 331\u001b[0m \u001b[38;5;28;01mreturn\u001b[39;00m \u001b[43mfunc\u001b[49m\u001b[43m(\u001b[49m\u001b[38;5;241;43m*\u001b[39;49m\u001b[43margs\u001b[49m\u001b[43m,\u001b[49m\u001b[43m \u001b[49m\u001b[38;5;241;43m*\u001b[39;49m\u001b[38;5;241;43m*\u001b[39;49m\u001b[43mkwargs\u001b[49m\u001b[43m)\u001b[49m\n",
      "File \u001b[0;32m~/anaconda3/lib/python3.10/site-packages/pandas/core/reshape/concat.py:368\u001b[0m, in \u001b[0;36mconcat\u001b[0;34m(objs, axis, join, ignore_index, keys, levels, names, verify_integrity, sort, copy)\u001b[0m\n\u001b[1;32m    146\u001b[0m \u001b[38;5;129m@deprecate_nonkeyword_arguments\u001b[39m(version\u001b[38;5;241m=\u001b[39m\u001b[38;5;28;01mNone\u001b[39;00m, allowed_args\u001b[38;5;241m=\u001b[39m[\u001b[38;5;124m\"\u001b[39m\u001b[38;5;124mobjs\u001b[39m\u001b[38;5;124m\"\u001b[39m])\n\u001b[1;32m    147\u001b[0m \u001b[38;5;28;01mdef\u001b[39;00m \u001b[38;5;21mconcat\u001b[39m(\n\u001b[1;32m    148\u001b[0m     objs: Iterable[NDFrame] \u001b[38;5;241m|\u001b[39m Mapping[HashableT, NDFrame],\n\u001b[0;32m   (...)\u001b[0m\n\u001b[1;32m    157\u001b[0m     copy: \u001b[38;5;28mbool\u001b[39m \u001b[38;5;241m=\u001b[39m \u001b[38;5;28;01mTrue\u001b[39;00m,\n\u001b[1;32m    158\u001b[0m ) \u001b[38;5;241m-\u001b[39m\u001b[38;5;241m>\u001b[39m DataFrame \u001b[38;5;241m|\u001b[39m Series:\n\u001b[1;32m    159\u001b[0m     \u001b[38;5;124;03m\"\"\"\u001b[39;00m\n\u001b[1;32m    160\u001b[0m \u001b[38;5;124;03m    Concatenate pandas objects along a particular axis.\u001b[39;00m\n\u001b[1;32m    161\u001b[0m \n\u001b[0;32m   (...)\u001b[0m\n\u001b[1;32m    366\u001b[0m \u001b[38;5;124;03m    1   3   4\u001b[39;00m\n\u001b[1;32m    367\u001b[0m \u001b[38;5;124;03m    \"\"\"\u001b[39;00m\n\u001b[0;32m--> 368\u001b[0m     op \u001b[38;5;241m=\u001b[39m \u001b[43m_Concatenator\u001b[49m\u001b[43m(\u001b[49m\n\u001b[1;32m    369\u001b[0m \u001b[43m        \u001b[49m\u001b[43mobjs\u001b[49m\u001b[43m,\u001b[49m\n\u001b[1;32m    370\u001b[0m \u001b[43m        \u001b[49m\u001b[43maxis\u001b[49m\u001b[38;5;241;43m=\u001b[39;49m\u001b[43maxis\u001b[49m\u001b[43m,\u001b[49m\n\u001b[1;32m    371\u001b[0m \u001b[43m        \u001b[49m\u001b[43mignore_index\u001b[49m\u001b[38;5;241;43m=\u001b[39;49m\u001b[43mignore_index\u001b[49m\u001b[43m,\u001b[49m\n\u001b[1;32m    372\u001b[0m \u001b[43m        \u001b[49m\u001b[43mjoin\u001b[49m\u001b[38;5;241;43m=\u001b[39;49m\u001b[43mjoin\u001b[49m\u001b[43m,\u001b[49m\n\u001b[1;32m    373\u001b[0m \u001b[43m        \u001b[49m\u001b[43mkeys\u001b[49m\u001b[38;5;241;43m=\u001b[39;49m\u001b[43mkeys\u001b[49m\u001b[43m,\u001b[49m\n\u001b[1;32m    374\u001b[0m \u001b[43m        \u001b[49m\u001b[43mlevels\u001b[49m\u001b[38;5;241;43m=\u001b[39;49m\u001b[43mlevels\u001b[49m\u001b[43m,\u001b[49m\n\u001b[1;32m    375\u001b[0m \u001b[43m        \u001b[49m\u001b[43mnames\u001b[49m\u001b[38;5;241;43m=\u001b[39;49m\u001b[43mnames\u001b[49m\u001b[43m,\u001b[49m\n\u001b[1;32m    376\u001b[0m \u001b[43m        \u001b[49m\u001b[43mverify_integrity\u001b[49m\u001b[38;5;241;43m=\u001b[39;49m\u001b[43mverify_integrity\u001b[49m\u001b[43m,\u001b[49m\n\u001b[1;32m    377\u001b[0m \u001b[43m        \u001b[49m\u001b[43mcopy\u001b[49m\u001b[38;5;241;43m=\u001b[39;49m\u001b[43mcopy\u001b[49m\u001b[43m,\u001b[49m\n\u001b[1;32m    378\u001b[0m \u001b[43m        \u001b[49m\u001b[43msort\u001b[49m\u001b[38;5;241;43m=\u001b[39;49m\u001b[43msort\u001b[49m\u001b[43m,\u001b[49m\n\u001b[1;32m    379\u001b[0m \u001b[43m    \u001b[49m\u001b[43m)\u001b[49m\n\u001b[1;32m    381\u001b[0m     \u001b[38;5;28;01mreturn\u001b[39;00m op\u001b[38;5;241m.\u001b[39mget_result()\n",
      "File \u001b[0;32m~/anaconda3/lib/python3.10/site-packages/pandas/core/reshape/concat.py:563\u001b[0m, in \u001b[0;36m_Concatenator.__init__\u001b[0;34m(self, objs, axis, join, keys, levels, names, ignore_index, verify_integrity, copy, sort)\u001b[0m\n\u001b[1;32m    560\u001b[0m \u001b[38;5;28mself\u001b[39m\u001b[38;5;241m.\u001b[39mverify_integrity \u001b[38;5;241m=\u001b[39m verify_integrity\n\u001b[1;32m    561\u001b[0m \u001b[38;5;28mself\u001b[39m\u001b[38;5;241m.\u001b[39mcopy \u001b[38;5;241m=\u001b[39m copy\n\u001b[0;32m--> 563\u001b[0m \u001b[38;5;28mself\u001b[39m\u001b[38;5;241m.\u001b[39mnew_axes \u001b[38;5;241m=\u001b[39m \u001b[38;5;28;43mself\u001b[39;49m\u001b[38;5;241;43m.\u001b[39;49m\u001b[43m_get_new_axes\u001b[49m\u001b[43m(\u001b[49m\u001b[43m)\u001b[49m\n",
      "File \u001b[0;32m~/anaconda3/lib/python3.10/site-packages/pandas/core/reshape/concat.py:633\u001b[0m, in \u001b[0;36m_Concatenator._get_new_axes\u001b[0;34m(self)\u001b[0m\n\u001b[1;32m    631\u001b[0m \u001b[38;5;28;01mdef\u001b[39;00m \u001b[38;5;21m_get_new_axes\u001b[39m(\u001b[38;5;28mself\u001b[39m) \u001b[38;5;241m-\u001b[39m\u001b[38;5;241m>\u001b[39m \u001b[38;5;28mlist\u001b[39m[Index]:\n\u001b[1;32m    632\u001b[0m     ndim \u001b[38;5;241m=\u001b[39m \u001b[38;5;28mself\u001b[39m\u001b[38;5;241m.\u001b[39m_get_result_dim()\n\u001b[0;32m--> 633\u001b[0m     \u001b[38;5;28;01mreturn\u001b[39;00m [\n\u001b[1;32m    634\u001b[0m         \u001b[38;5;28mself\u001b[39m\u001b[38;5;241m.\u001b[39m_get_concat_axis \u001b[38;5;28;01mif\u001b[39;00m i \u001b[38;5;241m==\u001b[39m \u001b[38;5;28mself\u001b[39m\u001b[38;5;241m.\u001b[39mbm_axis \u001b[38;5;28;01melse\u001b[39;00m \u001b[38;5;28mself\u001b[39m\u001b[38;5;241m.\u001b[39m_get_comb_axis(i)\n\u001b[1;32m    635\u001b[0m         \u001b[38;5;28;01mfor\u001b[39;00m i \u001b[38;5;129;01min\u001b[39;00m \u001b[38;5;28mrange\u001b[39m(ndim)\n\u001b[1;32m    636\u001b[0m     ]\n",
      "File \u001b[0;32m~/anaconda3/lib/python3.10/site-packages/pandas/core/reshape/concat.py:634\u001b[0m, in \u001b[0;36m<listcomp>\u001b[0;34m(.0)\u001b[0m\n\u001b[1;32m    631\u001b[0m \u001b[38;5;28;01mdef\u001b[39;00m \u001b[38;5;21m_get_new_axes\u001b[39m(\u001b[38;5;28mself\u001b[39m) \u001b[38;5;241m-\u001b[39m\u001b[38;5;241m>\u001b[39m \u001b[38;5;28mlist\u001b[39m[Index]:\n\u001b[1;32m    632\u001b[0m     ndim \u001b[38;5;241m=\u001b[39m \u001b[38;5;28mself\u001b[39m\u001b[38;5;241m.\u001b[39m_get_result_dim()\n\u001b[1;32m    633\u001b[0m     \u001b[38;5;28;01mreturn\u001b[39;00m [\n\u001b[0;32m--> 634\u001b[0m         \u001b[38;5;28;43mself\u001b[39;49m\u001b[38;5;241;43m.\u001b[39;49m\u001b[43m_get_concat_axis\u001b[49m \u001b[38;5;28;01mif\u001b[39;00m i \u001b[38;5;241m==\u001b[39m \u001b[38;5;28mself\u001b[39m\u001b[38;5;241m.\u001b[39mbm_axis \u001b[38;5;28;01melse\u001b[39;00m \u001b[38;5;28mself\u001b[39m\u001b[38;5;241m.\u001b[39m_get_comb_axis(i)\n\u001b[1;32m    635\u001b[0m         \u001b[38;5;28;01mfor\u001b[39;00m i \u001b[38;5;129;01min\u001b[39;00m \u001b[38;5;28mrange\u001b[39m(ndim)\n\u001b[1;32m    636\u001b[0m     ]\n",
      "File \u001b[0;32m~/anaconda3/lib/python3.10/site-packages/pandas/_libs/properties.pyx:36\u001b[0m, in \u001b[0;36mpandas._libs.properties.CachedProperty.__get__\u001b[0;34m()\u001b[0m\n",
      "File \u001b[0;32m~/anaconda3/lib/python3.10/site-packages/pandas/core/reshape/concat.py:697\u001b[0m, in \u001b[0;36m_Concatenator._get_concat_axis\u001b[0;34m(self)\u001b[0m\n\u001b[1;32m    692\u001b[0m \u001b[38;5;28;01melse\u001b[39;00m:\n\u001b[1;32m    693\u001b[0m     concat_axis \u001b[38;5;241m=\u001b[39m _make_concat_multiindex(\n\u001b[1;32m    694\u001b[0m         indexes, \u001b[38;5;28mself\u001b[39m\u001b[38;5;241m.\u001b[39mkeys, \u001b[38;5;28mself\u001b[39m\u001b[38;5;241m.\u001b[39mlevels, \u001b[38;5;28mself\u001b[39m\u001b[38;5;241m.\u001b[39mnames\n\u001b[1;32m    695\u001b[0m     )\n\u001b[0;32m--> 697\u001b[0m \u001b[38;5;28;43mself\u001b[39;49m\u001b[38;5;241;43m.\u001b[39;49m\u001b[43m_maybe_check_integrity\u001b[49m\u001b[43m(\u001b[49m\u001b[43mconcat_axis\u001b[49m\u001b[43m)\u001b[49m\n\u001b[1;32m    699\u001b[0m \u001b[38;5;28;01mreturn\u001b[39;00m concat_axis\n",
      "File \u001b[0;32m~/anaconda3/lib/python3.10/site-packages/pandas/core/reshape/concat.py:705\u001b[0m, in \u001b[0;36m_Concatenator._maybe_check_integrity\u001b[0;34m(self, concat_index)\u001b[0m\n\u001b[1;32m    703\u001b[0m \u001b[38;5;28;01mif\u001b[39;00m \u001b[38;5;129;01mnot\u001b[39;00m concat_index\u001b[38;5;241m.\u001b[39mis_unique:\n\u001b[1;32m    704\u001b[0m     overlap \u001b[38;5;241m=\u001b[39m concat_index[concat_index\u001b[38;5;241m.\u001b[39mduplicated()]\u001b[38;5;241m.\u001b[39munique()\n\u001b[0;32m--> 705\u001b[0m     \u001b[38;5;28;01mraise\u001b[39;00m \u001b[38;5;167;01mValueError\u001b[39;00m(\u001b[38;5;124mf\u001b[39m\u001b[38;5;124m\"\u001b[39m\u001b[38;5;124mIndexes have overlapping values: \u001b[39m\u001b[38;5;132;01m{\u001b[39;00moverlap\u001b[38;5;132;01m}\u001b[39;00m\u001b[38;5;124m\"\u001b[39m)\n",
      "\u001b[0;31mValueError\u001b[0m: Indexes have overlapping values: Index(['Date', 'Close', 'Volume', 'Symbol'], dtype='object')"
     ]
    }
   ],
   "source": [
    "# Will throw error as the df have shared column values\n",
    "df_cols = pd.concat([ggle,amzn, msft], axis=1, verify_integrity=True)"
   ]
  },
  {
   "cell_type": "code",
   "execution_count": 52,
   "id": "9c427f05",
   "metadata": {},
   "outputs": [],
   "source": [
    "# Can write a custom method to create the data fram and maintain tidy data\n",
    "\n",
    "def new_agg_df(df):\n",
    "    \"\"\"\n",
    "    This method moves the symbol as a suffix to the column so that they are all unique\n",
    "    \n",
    "    \"\"\"\n",
    "    mlist = []\n",
    "    sym = df['Symbol'].drop_duplicates().values[0]\n",
    "    df.drop(['Symbol'], axis=1, inplace=True)\n",
    "    df.set_index('Date', inplace=True)\n",
    "    mlist = [sym+' '+ elem for elem in df.columns]\n",
    "    df.columns = mlist\n",
    "    return df\n",
    "    "
   ]
  },
  {
   "cell_type": "code",
   "execution_count": 53,
   "id": "aba237a2",
   "metadata": {},
   "outputs": [
    {
     "data": {
      "text/html": [
       "<div>\n",
       "<style scoped>\n",
       "    .dataframe tbody tr th:only-of-type {\n",
       "        vertical-align: middle;\n",
       "    }\n",
       "\n",
       "    .dataframe tbody tr th {\n",
       "        vertical-align: top;\n",
       "    }\n",
       "\n",
       "    .dataframe thead th {\n",
       "        text-align: right;\n",
       "    }\n",
       "</style>\n",
       "<table border=\"1\" class=\"dataframe\">\n",
       "  <thead>\n",
       "    <tr style=\"text-align: right;\">\n",
       "      <th></th>\n",
       "      <th>AMZN Close</th>\n",
       "      <th>AMZN Volume</th>\n",
       "    </tr>\n",
       "    <tr>\n",
       "      <th>Date</th>\n",
       "      <th></th>\n",
       "      <th></th>\n",
       "    </tr>\n",
       "  </thead>\n",
       "  <tbody>\n",
       "    <tr>\n",
       "      <th>2020-06-01</th>\n",
       "      <td>2471.040039</td>\n",
       "      <td>2928900</td>\n",
       "    </tr>\n",
       "    <tr>\n",
       "      <th>2020-06-02</th>\n",
       "      <td>2472.409912</td>\n",
       "      <td>2529900</td>\n",
       "    </tr>\n",
       "    <tr>\n",
       "      <th>2020-06-03</th>\n",
       "      <td>2478.399902</td>\n",
       "      <td>2671000</td>\n",
       "    </tr>\n",
       "    <tr>\n",
       "      <th>2020-06-04</th>\n",
       "      <td>2460.600098</td>\n",
       "      <td>2948700</td>\n",
       "    </tr>\n",
       "    <tr>\n",
       "      <th>2020-06-05</th>\n",
       "      <td>2483.000000</td>\n",
       "      <td>3306400</td>\n",
       "    </tr>\n",
       "  </tbody>\n",
       "</table>\n",
       "</div>"
      ],
      "text/plain": [
       "             AMZN Close  AMZN Volume\n",
       "Date                                \n",
       "2020-06-01  2471.040039      2928900\n",
       "2020-06-02  2472.409912      2529900\n",
       "2020-06-03  2478.399902      2671000\n",
       "2020-06-04  2460.600098      2948700\n",
       "2020-06-05  2483.000000      3306400"
      ]
     },
     "execution_count": 53,
     "metadata": {},
     "output_type": "execute_result"
    }
   ],
   "source": [
    "amzn_agg = new_agg_df(amzn)\n",
    "amzn_agg.head()"
   ]
  },
  {
   "cell_type": "code",
   "execution_count": 54,
   "id": "3eb80b0f",
   "metadata": {},
   "outputs": [],
   "source": [
    "ggle_agg = new_agg_df(ggle)\n",
    "msft_agg = new_agg_df(msft)"
   ]
  },
  {
   "cell_type": "code",
   "execution_count": 56,
   "id": "60861f44",
   "metadata": {},
   "outputs": [],
   "source": [
    "all_df_agg = pd.concat([ggle_agg, amzn_agg, msft_agg], axis=1)"
   ]
  },
  {
   "cell_type": "code",
   "execution_count": 57,
   "id": "97c65fa8",
   "metadata": {},
   "outputs": [
    {
     "data": {
      "text/html": [
       "<div>\n",
       "<style scoped>\n",
       "    .dataframe tbody tr th:only-of-type {\n",
       "        vertical-align: middle;\n",
       "    }\n",
       "\n",
       "    .dataframe tbody tr th {\n",
       "        vertical-align: top;\n",
       "    }\n",
       "\n",
       "    .dataframe thead th {\n",
       "        text-align: right;\n",
       "    }\n",
       "</style>\n",
       "<table border=\"1\" class=\"dataframe\">\n",
       "  <thead>\n",
       "    <tr style=\"text-align: right;\">\n",
       "      <th></th>\n",
       "      <th>GOOGL Close</th>\n",
       "      <th>GOOGL Volume</th>\n",
       "      <th>AMZN Close</th>\n",
       "      <th>AMZN Volume</th>\n",
       "      <th>MSFT Close</th>\n",
       "      <th>MSFT Volume</th>\n",
       "    </tr>\n",
       "    <tr>\n",
       "      <th>Date</th>\n",
       "      <th></th>\n",
       "      <th></th>\n",
       "      <th></th>\n",
       "      <th></th>\n",
       "      <th></th>\n",
       "      <th></th>\n",
       "    </tr>\n",
       "  </thead>\n",
       "  <tbody>\n",
       "    <tr>\n",
       "      <th>2020-06-01</th>\n",
       "      <td>1434.869995</td>\n",
       "      <td>1258100</td>\n",
       "      <td>2471.040039</td>\n",
       "      <td>2928900</td>\n",
       "      <td>182.830002</td>\n",
       "      <td>22622400</td>\n",
       "    </tr>\n",
       "    <tr>\n",
       "      <th>2020-06-02</th>\n",
       "      <td>1442.310059</td>\n",
       "      <td>1172100</td>\n",
       "      <td>2472.409912</td>\n",
       "      <td>2529900</td>\n",
       "      <td>184.910004</td>\n",
       "      <td>30794600</td>\n",
       "    </tr>\n",
       "    <tr>\n",
       "      <th>2020-06-03</th>\n",
       "      <td>1439.250000</td>\n",
       "      <td>1386600</td>\n",
       "      <td>2478.399902</td>\n",
       "      <td>2671000</td>\n",
       "      <td>185.360001</td>\n",
       "      <td>27311000</td>\n",
       "    </tr>\n",
       "    <tr>\n",
       "      <th>2020-06-04</th>\n",
       "      <td>1414.300049</td>\n",
       "      <td>1349100</td>\n",
       "      <td>2460.600098</td>\n",
       "      <td>2948700</td>\n",
       "      <td>182.919998</td>\n",
       "      <td>28761800</td>\n",
       "    </tr>\n",
       "    <tr>\n",
       "      <th>2020-06-05</th>\n",
       "      <td>1440.020020</td>\n",
       "      <td>2132100</td>\n",
       "      <td>2483.000000</td>\n",
       "      <td>3306400</td>\n",
       "      <td>187.199997</td>\n",
       "      <td>39893600</td>\n",
       "    </tr>\n",
       "  </tbody>\n",
       "</table>\n",
       "</div>"
      ],
      "text/plain": [
       "            GOOGL Close  GOOGL Volume   AMZN Close  AMZN Volume  MSFT Close  \\\n",
       "Date                                                                          \n",
       "2020-06-01  1434.869995       1258100  2471.040039      2928900  182.830002   \n",
       "2020-06-02  1442.310059       1172100  2472.409912      2529900  184.910004   \n",
       "2020-06-03  1439.250000       1386600  2478.399902      2671000  185.360001   \n",
       "2020-06-04  1414.300049       1349100  2460.600098      2948700  182.919998   \n",
       "2020-06-05  1440.020020       2132100  2483.000000      3306400  187.199997   \n",
       "\n",
       "            MSFT Volume  \n",
       "Date                     \n",
       "2020-06-01     22622400  \n",
       "2020-06-02     30794600  \n",
       "2020-06-03     27311000  \n",
       "2020-06-04     28761800  \n",
       "2020-06-05     39893600  "
      ]
     },
     "execution_count": 57,
     "metadata": {},
     "output_type": "execute_result"
    }
   ],
   "source": [
    "all_df_agg.head()"
   ]
  },
  {
   "cell_type": "code",
   "execution_count": 58,
   "id": "fc4502ed",
   "metadata": {},
   "outputs": [],
   "source": [
    "all_df_agg = ggle_agg.merge(msft_agg, left_index=True, right_index=True).merge(amzn_agg, left_index=True, right_index=True)"
   ]
  },
  {
   "cell_type": "code",
   "execution_count": 59,
   "id": "4d1a2e5b",
   "metadata": {},
   "outputs": [
    {
     "data": {
      "text/html": [
       "<div>\n",
       "<style scoped>\n",
       "    .dataframe tbody tr th:only-of-type {\n",
       "        vertical-align: middle;\n",
       "    }\n",
       "\n",
       "    .dataframe tbody tr th {\n",
       "        vertical-align: top;\n",
       "    }\n",
       "\n",
       "    .dataframe thead th {\n",
       "        text-align: right;\n",
       "    }\n",
       "</style>\n",
       "<table border=\"1\" class=\"dataframe\">\n",
       "  <thead>\n",
       "    <tr style=\"text-align: right;\">\n",
       "      <th></th>\n",
       "      <th>GOOGL Close</th>\n",
       "      <th>GOOGL Volume</th>\n",
       "      <th>MSFT Close</th>\n",
       "      <th>MSFT Volume</th>\n",
       "      <th>AMZN Close</th>\n",
       "      <th>AMZN Volume</th>\n",
       "    </tr>\n",
       "    <tr>\n",
       "      <th>Date</th>\n",
       "      <th></th>\n",
       "      <th></th>\n",
       "      <th></th>\n",
       "      <th></th>\n",
       "      <th></th>\n",
       "      <th></th>\n",
       "    </tr>\n",
       "  </thead>\n",
       "  <tbody>\n",
       "    <tr>\n",
       "      <th>2020-06-01</th>\n",
       "      <td>1434.869995</td>\n",
       "      <td>1258100</td>\n",
       "      <td>182.830002</td>\n",
       "      <td>22622400</td>\n",
       "      <td>2471.040039</td>\n",
       "      <td>2928900</td>\n",
       "    </tr>\n",
       "    <tr>\n",
       "      <th>2020-06-02</th>\n",
       "      <td>1442.310059</td>\n",
       "      <td>1172100</td>\n",
       "      <td>184.910004</td>\n",
       "      <td>30794600</td>\n",
       "      <td>2472.409912</td>\n",
       "      <td>2529900</td>\n",
       "    </tr>\n",
       "    <tr>\n",
       "      <th>2020-06-03</th>\n",
       "      <td>1439.250000</td>\n",
       "      <td>1386600</td>\n",
       "      <td>185.360001</td>\n",
       "      <td>27311000</td>\n",
       "      <td>2478.399902</td>\n",
       "      <td>2671000</td>\n",
       "    </tr>\n",
       "    <tr>\n",
       "      <th>2020-06-04</th>\n",
       "      <td>1414.300049</td>\n",
       "      <td>1349100</td>\n",
       "      <td>182.919998</td>\n",
       "      <td>28761800</td>\n",
       "      <td>2460.600098</td>\n",
       "      <td>2948700</td>\n",
       "    </tr>\n",
       "    <tr>\n",
       "      <th>2020-06-05</th>\n",
       "      <td>1440.020020</td>\n",
       "      <td>2132100</td>\n",
       "      <td>187.199997</td>\n",
       "      <td>39893600</td>\n",
       "      <td>2483.000000</td>\n",
       "      <td>3306400</td>\n",
       "    </tr>\n",
       "  </tbody>\n",
       "</table>\n",
       "</div>"
      ],
      "text/plain": [
       "            GOOGL Close  GOOGL Volume  MSFT Close  MSFT Volume   AMZN Close  \\\n",
       "Date                                                                          \n",
       "2020-06-01  1434.869995       1258100  182.830002     22622400  2471.040039   \n",
       "2020-06-02  1442.310059       1172100  184.910004     30794600  2472.409912   \n",
       "2020-06-03  1439.250000       1386600  185.360001     27311000  2478.399902   \n",
       "2020-06-04  1414.300049       1349100  182.919998     28761800  2460.600098   \n",
       "2020-06-05  1440.020020       2132100  187.199997     39893600  2483.000000   \n",
       "\n",
       "            AMZN Volume  \n",
       "Date                     \n",
       "2020-06-01      2928900  \n",
       "2020-06-02      2529900  \n",
       "2020-06-03      2671000  \n",
       "2020-06-04      2948700  \n",
       "2020-06-05      3306400  "
      ]
     },
     "execution_count": 59,
     "metadata": {},
     "output_type": "execute_result"
    }
   ],
   "source": [
    "all_df_agg.head()"
   ]
  },
  {
   "cell_type": "markdown",
   "id": "663296c5",
   "metadata": {},
   "source": [
    "## Transformation of a dataset"
   ]
  },
  {
   "cell_type": "code",
   "execution_count": 70,
   "id": "e46df44d",
   "metadata": {},
   "outputs": [
    {
     "data": {
      "text/html": [
       "<div>\n",
       "<style scoped>\n",
       "    .dataframe tbody tr th:only-of-type {\n",
       "        vertical-align: middle;\n",
       "    }\n",
       "\n",
       "    .dataframe tbody tr th {\n",
       "        vertical-align: top;\n",
       "    }\n",
       "\n",
       "    .dataframe thead th {\n",
       "        text-align: right;\n",
       "    }\n",
       "</style>\n",
       "<table border=\"1\" class=\"dataframe\">\n",
       "  <thead>\n",
       "    <tr style=\"text-align: right;\">\n",
       "      <th></th>\n",
       "      <th>Date</th>\n",
       "      <th>Close</th>\n",
       "      <th>Volume</th>\n",
       "      <th>Symbol</th>\n",
       "    </tr>\n",
       "  </thead>\n",
       "  <tbody>\n",
       "    <tr>\n",
       "      <th>0</th>\n",
       "      <td>2020-06-01</td>\n",
       "      <td>1434.869995</td>\n",
       "      <td>1258100</td>\n",
       "      <td>GOOGL</td>\n",
       "    </tr>\n",
       "    <tr>\n",
       "      <th>1</th>\n",
       "      <td>2020-06-02</td>\n",
       "      <td>1442.310059</td>\n",
       "      <td>1172100</td>\n",
       "      <td>GOOGL</td>\n",
       "    </tr>\n",
       "    <tr>\n",
       "      <th>2</th>\n",
       "      <td>2020-06-03</td>\n",
       "      <td>1439.250000</td>\n",
       "      <td>1386600</td>\n",
       "      <td>GOOGL</td>\n",
       "    </tr>\n",
       "    <tr>\n",
       "      <th>3</th>\n",
       "      <td>2020-06-04</td>\n",
       "      <td>1414.300049</td>\n",
       "      <td>1349100</td>\n",
       "      <td>GOOGL</td>\n",
       "    </tr>\n",
       "    <tr>\n",
       "      <th>4</th>\n",
       "      <td>2020-06-05</td>\n",
       "      <td>1440.020020</td>\n",
       "      <td>2132100</td>\n",
       "      <td>GOOGL</td>\n",
       "    </tr>\n",
       "  </tbody>\n",
       "</table>\n",
       "</div>"
      ],
      "text/plain": [
       "         Date        Close   Volume Symbol\n",
       "0  2020-06-01  1434.869995  1258100  GOOGL\n",
       "1  2020-06-02  1442.310059  1172100  GOOGL\n",
       "2  2020-06-03  1439.250000  1386600  GOOGL\n",
       "3  2020-06-04  1414.300049  1349100  GOOGL\n",
       "4  2020-06-05  1440.020020  2132100  GOOGL"
      ]
     },
     "execution_count": 70,
     "metadata": {},
     "output_type": "execute_result"
    }
   ],
   "source": [
    "ggle = pd.read_csv('data/ggle.csv', index_col=0)\n",
    "amzn = pd.read_csv('data/amzn.csv', index_col=0)\n",
    "msft = pd.read_csv('data/msft.csv', index_col=0)\n",
    "all_df = pd.concat([ggle, amzn, msft])\n",
    "all_df.head()"
   ]
  },
  {
   "cell_type": "code",
   "execution_count": 83,
   "id": "d0b2b623",
   "metadata": {},
   "outputs": [
    {
     "data": {
      "text/html": [
       "<div>\n",
       "<style scoped>\n",
       "    .dataframe tbody tr th:only-of-type {\n",
       "        vertical-align: middle;\n",
       "    }\n",
       "\n",
       "    .dataframe tbody tr th {\n",
       "        vertical-align: top;\n",
       "    }\n",
       "\n",
       "    .dataframe thead tr th {\n",
       "        text-align: left;\n",
       "    }\n",
       "\n",
       "    .dataframe thead tr:last-of-type th {\n",
       "        text-align: right;\n",
       "    }\n",
       "</style>\n",
       "<table border=\"1\" class=\"dataframe\">\n",
       "  <thead>\n",
       "    <tr>\n",
       "      <th></th>\n",
       "      <th colspan=\"3\" halign=\"left\">Close</th>\n",
       "      <th colspan=\"3\" halign=\"left\">Volume</th>\n",
       "    </tr>\n",
       "    <tr>\n",
       "      <th>Symbol</th>\n",
       "      <th>AMZN</th>\n",
       "      <th>GOOGL</th>\n",
       "      <th>MSFT</th>\n",
       "      <th>AMZN</th>\n",
       "      <th>GOOGL</th>\n",
       "      <th>MSFT</th>\n",
       "    </tr>\n",
       "    <tr>\n",
       "      <th>Date</th>\n",
       "      <th></th>\n",
       "      <th></th>\n",
       "      <th></th>\n",
       "      <th></th>\n",
       "      <th></th>\n",
       "      <th></th>\n",
       "    </tr>\n",
       "  </thead>\n",
       "  <tbody>\n",
       "    <tr>\n",
       "      <th>2020-06-01</th>\n",
       "      <td>2471.040039</td>\n",
       "      <td>1434.869995</td>\n",
       "      <td>182.830002</td>\n",
       "      <td>2928900</td>\n",
       "      <td>1258100</td>\n",
       "      <td>22622400</td>\n",
       "    </tr>\n",
       "    <tr>\n",
       "      <th>2020-06-02</th>\n",
       "      <td>2472.409912</td>\n",
       "      <td>1442.310059</td>\n",
       "      <td>184.910004</td>\n",
       "      <td>2529900</td>\n",
       "      <td>1172100</td>\n",
       "      <td>30794600</td>\n",
       "    </tr>\n",
       "    <tr>\n",
       "      <th>2020-06-03</th>\n",
       "      <td>2478.399902</td>\n",
       "      <td>1439.250000</td>\n",
       "      <td>185.360001</td>\n",
       "      <td>2671000</td>\n",
       "      <td>1386600</td>\n",
       "      <td>27311000</td>\n",
       "    </tr>\n",
       "    <tr>\n",
       "      <th>2020-06-04</th>\n",
       "      <td>2460.600098</td>\n",
       "      <td>1414.300049</td>\n",
       "      <td>182.919998</td>\n",
       "      <td>2948700</td>\n",
       "      <td>1349100</td>\n",
       "      <td>28761800</td>\n",
       "    </tr>\n",
       "    <tr>\n",
       "      <th>2020-06-05</th>\n",
       "      <td>2483.000000</td>\n",
       "      <td>1440.020020</td>\n",
       "      <td>187.199997</td>\n",
       "      <td>3306400</td>\n",
       "      <td>2132100</td>\n",
       "      <td>39893600</td>\n",
       "    </tr>\n",
       "    <tr>\n",
       "      <th>2020-06-08</th>\n",
       "      <td>2524.060059</td>\n",
       "      <td>1448.040039</td>\n",
       "      <td>188.360001</td>\n",
       "      <td>3970700</td>\n",
       "      <td>1693900</td>\n",
       "      <td>33211600</td>\n",
       "    </tr>\n",
       "    <tr>\n",
       "      <th>2020-06-09</th>\n",
       "      <td>2600.860107</td>\n",
       "      <td>1452.079956</td>\n",
       "      <td>189.800003</td>\n",
       "      <td>5176000</td>\n",
       "      <td>1681200</td>\n",
       "      <td>29783900</td>\n",
       "    </tr>\n",
       "    <tr>\n",
       "      <th>2020-06-10</th>\n",
       "      <td>2647.449951</td>\n",
       "      <td>1464.699951</td>\n",
       "      <td>196.839996</td>\n",
       "      <td>4946000</td>\n",
       "      <td>1588100</td>\n",
       "      <td>43872300</td>\n",
       "    </tr>\n",
       "    <tr>\n",
       "      <th>2020-06-11</th>\n",
       "      <td>2557.959961</td>\n",
       "      <td>1401.900024</td>\n",
       "      <td>186.270004</td>\n",
       "      <td>5800100</td>\n",
       "      <td>2357200</td>\n",
       "      <td>52854700</td>\n",
       "    </tr>\n",
       "    <tr>\n",
       "      <th>2020-06-12</th>\n",
       "      <td>2545.020020</td>\n",
       "      <td>1412.920044</td>\n",
       "      <td>187.740005</td>\n",
       "      <td>5429600</td>\n",
       "      <td>1832900</td>\n",
       "      <td>43345700</td>\n",
       "    </tr>\n",
       "    <tr>\n",
       "      <th>2020-06-15</th>\n",
       "      <td>2572.679932</td>\n",
       "      <td>1420.739990</td>\n",
       "      <td>188.940002</td>\n",
       "      <td>3865100</td>\n",
       "      <td>1523400</td>\n",
       "      <td>32770200</td>\n",
       "    </tr>\n",
       "    <tr>\n",
       "      <th>2020-06-16</th>\n",
       "      <td>2615.270020</td>\n",
       "      <td>1446.469971</td>\n",
       "      <td>193.570007</td>\n",
       "      <td>3585600</td>\n",
       "      <td>1532400</td>\n",
       "      <td>42556700</td>\n",
       "    </tr>\n",
       "    <tr>\n",
       "      <th>2020-06-17</th>\n",
       "      <td>2640.979980</td>\n",
       "      <td>1452.540039</td>\n",
       "      <td>194.240005</td>\n",
       "      <td>2951100</td>\n",
       "      <td>1528300</td>\n",
       "      <td>25655900</td>\n",
       "    </tr>\n",
       "    <tr>\n",
       "      <th>2020-06-18</th>\n",
       "      <td>2653.979980</td>\n",
       "      <td>1434.119995</td>\n",
       "      <td>196.320007</td>\n",
       "      <td>2487800</td>\n",
       "      <td>1743100</td>\n",
       "      <td>23061600</td>\n",
       "    </tr>\n",
       "    <tr>\n",
       "      <th>2020-06-19</th>\n",
       "      <td>2675.010010</td>\n",
       "      <td>1424.640015</td>\n",
       "      <td>195.149994</td>\n",
       "      <td>5777000</td>\n",
       "      <td>2639200</td>\n",
       "      <td>44441100</td>\n",
       "    </tr>\n",
       "    <tr>\n",
       "      <th>2020-06-22</th>\n",
       "      <td>2713.820068</td>\n",
       "      <td>1450.660034</td>\n",
       "      <td>200.570007</td>\n",
       "      <td>3208800</td>\n",
       "      <td>1472100</td>\n",
       "      <td>32818900</td>\n",
       "    </tr>\n",
       "    <tr>\n",
       "      <th>2020-06-23</th>\n",
       "      <td>2764.409912</td>\n",
       "      <td>1463.979980</td>\n",
       "      <td>201.910004</td>\n",
       "      <td>4231700</td>\n",
       "      <td>1887600</td>\n",
       "      <td>30917400</td>\n",
       "    </tr>\n",
       "    <tr>\n",
       "      <th>2020-06-24</th>\n",
       "      <td>2734.399902</td>\n",
       "      <td>1432.699951</td>\n",
       "      <td>197.839996</td>\n",
       "      <td>4526600</td>\n",
       "      <td>1579600</td>\n",
       "      <td>36740600</td>\n",
       "    </tr>\n",
       "    <tr>\n",
       "      <th>2020-06-25</th>\n",
       "      <td>2754.580078</td>\n",
       "      <td>1441.099976</td>\n",
       "      <td>200.339996</td>\n",
       "      <td>2968700</td>\n",
       "      <td>1197900</td>\n",
       "      <td>27803900</td>\n",
       "    </tr>\n",
       "    <tr>\n",
       "      <th>2020-06-26</th>\n",
       "      <td>2692.870117</td>\n",
       "      <td>1362.540039</td>\n",
       "      <td>196.330002</td>\n",
       "      <td>6500800</td>\n",
       "      <td>4882000</td>\n",
       "      <td>54675800</td>\n",
       "    </tr>\n",
       "    <tr>\n",
       "      <th>2020-06-29</th>\n",
       "      <td>2680.379883</td>\n",
       "      <td>1397.170044</td>\n",
       "      <td>198.440002</td>\n",
       "      <td>4223400</td>\n",
       "      <td>2253700</td>\n",
       "      <td>26701600</td>\n",
       "    </tr>\n",
       "    <tr>\n",
       "      <th>2020-06-30</th>\n",
       "      <td>2758.820068</td>\n",
       "      <td>1418.050049</td>\n",
       "      <td>203.509995</td>\n",
       "      <td>3769700</td>\n",
       "      <td>2014300</td>\n",
       "      <td>34310300</td>\n",
       "    </tr>\n",
       "  </tbody>\n",
       "</table>\n",
       "</div>"
      ],
      "text/plain": [
       "                  Close                            Volume                   \n",
       "Symbol             AMZN        GOOGL        MSFT     AMZN    GOOGL      MSFT\n",
       "Date                                                                        \n",
       "2020-06-01  2471.040039  1434.869995  182.830002  2928900  1258100  22622400\n",
       "2020-06-02  2472.409912  1442.310059  184.910004  2529900  1172100  30794600\n",
       "2020-06-03  2478.399902  1439.250000  185.360001  2671000  1386600  27311000\n",
       "2020-06-04  2460.600098  1414.300049  182.919998  2948700  1349100  28761800\n",
       "2020-06-05  2483.000000  1440.020020  187.199997  3306400  2132100  39893600\n",
       "2020-06-08  2524.060059  1448.040039  188.360001  3970700  1693900  33211600\n",
       "2020-06-09  2600.860107  1452.079956  189.800003  5176000  1681200  29783900\n",
       "2020-06-10  2647.449951  1464.699951  196.839996  4946000  1588100  43872300\n",
       "2020-06-11  2557.959961  1401.900024  186.270004  5800100  2357200  52854700\n",
       "2020-06-12  2545.020020  1412.920044  187.740005  5429600  1832900  43345700\n",
       "2020-06-15  2572.679932  1420.739990  188.940002  3865100  1523400  32770200\n",
       "2020-06-16  2615.270020  1446.469971  193.570007  3585600  1532400  42556700\n",
       "2020-06-17  2640.979980  1452.540039  194.240005  2951100  1528300  25655900\n",
       "2020-06-18  2653.979980  1434.119995  196.320007  2487800  1743100  23061600\n",
       "2020-06-19  2675.010010  1424.640015  195.149994  5777000  2639200  44441100\n",
       "2020-06-22  2713.820068  1450.660034  200.570007  3208800  1472100  32818900\n",
       "2020-06-23  2764.409912  1463.979980  201.910004  4231700  1887600  30917400\n",
       "2020-06-24  2734.399902  1432.699951  197.839996  4526600  1579600  36740600\n",
       "2020-06-25  2754.580078  1441.099976  200.339996  2968700  1197900  27803900\n",
       "2020-06-26  2692.870117  1362.540039  196.330002  6500800  4882000  54675800\n",
       "2020-06-29  2680.379883  1397.170044  198.440002  4223400  2253700  26701600\n",
       "2020-06-30  2758.820068  1418.050049  203.509995  3769700  2014300  34310300"
      ]
     },
     "execution_count": 83,
     "metadata": {},
     "output_type": "execute_result"
    }
   ],
   "source": [
    "all_df.pivot(index='Date',columns='Symbol')"
   ]
  },
  {
   "cell_type": "code",
   "execution_count": 74,
   "id": "71c06d25",
   "metadata": {},
   "outputs": [],
   "source": [
    "anotherdf = all_df.set_index(['Symbol', 'Date'])"
   ]
  },
  {
   "cell_type": "code",
   "execution_count": 75,
   "id": "76cc21a1",
   "metadata": {},
   "outputs": [],
   "source": [
    "unstacked_df = anotherdf.unstack(level='Symbol')"
   ]
  },
  {
   "cell_type": "code",
   "execution_count": 77,
   "id": "597c7a2b",
   "metadata": {},
   "outputs": [
    {
     "data": {
      "text/html": [
       "<div>\n",
       "<style scoped>\n",
       "    .dataframe tbody tr th:only-of-type {\n",
       "        vertical-align: middle;\n",
       "    }\n",
       "\n",
       "    .dataframe tbody tr th {\n",
       "        vertical-align: top;\n",
       "    }\n",
       "\n",
       "    .dataframe thead tr th {\n",
       "        text-align: left;\n",
       "    }\n",
       "\n",
       "    .dataframe thead tr:last-of-type th {\n",
       "        text-align: right;\n",
       "    }\n",
       "</style>\n",
       "<table border=\"1\" class=\"dataframe\">\n",
       "  <thead>\n",
       "    <tr>\n",
       "      <th></th>\n",
       "      <th colspan=\"3\" halign=\"left\">Close</th>\n",
       "      <th colspan=\"3\" halign=\"left\">Volume</th>\n",
       "    </tr>\n",
       "    <tr>\n",
       "      <th>Symbol</th>\n",
       "      <th>AMZN</th>\n",
       "      <th>GOOGL</th>\n",
       "      <th>MSFT</th>\n",
       "      <th>AMZN</th>\n",
       "      <th>GOOGL</th>\n",
       "      <th>MSFT</th>\n",
       "    </tr>\n",
       "    <tr>\n",
       "      <th>Date</th>\n",
       "      <th></th>\n",
       "      <th></th>\n",
       "      <th></th>\n",
       "      <th></th>\n",
       "      <th></th>\n",
       "      <th></th>\n",
       "    </tr>\n",
       "  </thead>\n",
       "  <tbody>\n",
       "    <tr>\n",
       "      <th>2020-06-01</th>\n",
       "      <td>2471.040039</td>\n",
       "      <td>1434.869995</td>\n",
       "      <td>182.830002</td>\n",
       "      <td>2928900</td>\n",
       "      <td>1258100</td>\n",
       "      <td>22622400</td>\n",
       "    </tr>\n",
       "    <tr>\n",
       "      <th>2020-06-02</th>\n",
       "      <td>2472.409912</td>\n",
       "      <td>1442.310059</td>\n",
       "      <td>184.910004</td>\n",
       "      <td>2529900</td>\n",
       "      <td>1172100</td>\n",
       "      <td>30794600</td>\n",
       "    </tr>\n",
       "    <tr>\n",
       "      <th>2020-06-03</th>\n",
       "      <td>2478.399902</td>\n",
       "      <td>1439.250000</td>\n",
       "      <td>185.360001</td>\n",
       "      <td>2671000</td>\n",
       "      <td>1386600</td>\n",
       "      <td>27311000</td>\n",
       "    </tr>\n",
       "    <tr>\n",
       "      <th>2020-06-04</th>\n",
       "      <td>2460.600098</td>\n",
       "      <td>1414.300049</td>\n",
       "      <td>182.919998</td>\n",
       "      <td>2948700</td>\n",
       "      <td>1349100</td>\n",
       "      <td>28761800</td>\n",
       "    </tr>\n",
       "    <tr>\n",
       "      <th>2020-06-05</th>\n",
       "      <td>2483.000000</td>\n",
       "      <td>1440.020020</td>\n",
       "      <td>187.199997</td>\n",
       "      <td>3306400</td>\n",
       "      <td>2132100</td>\n",
       "      <td>39893600</td>\n",
       "    </tr>\n",
       "  </tbody>\n",
       "</table>\n",
       "</div>"
      ],
      "text/plain": [
       "                  Close                            Volume                   \n",
       "Symbol             AMZN        GOOGL        MSFT     AMZN    GOOGL      MSFT\n",
       "Date                                                                        \n",
       "2020-06-01  2471.040039  1434.869995  182.830002  2928900  1258100  22622400\n",
       "2020-06-02  2472.409912  1442.310059  184.910004  2529900  1172100  30794600\n",
       "2020-06-03  2478.399902  1439.250000  185.360001  2671000  1386600  27311000\n",
       "2020-06-04  2460.600098  1414.300049  182.919998  2948700  1349100  28761800\n",
       "2020-06-05  2483.000000  1440.020020  187.199997  3306400  2132100  39893600"
      ]
     },
     "execution_count": 77,
     "metadata": {},
     "output_type": "execute_result"
    }
   ],
   "source": [
    "unstacked_df.head()"
   ]
  },
  {
   "cell_type": "code",
   "execution_count": 78,
   "id": "01d7959b",
   "metadata": {},
   "outputs": [
    {
     "data": {
      "text/html": [
       "<div>\n",
       "<style scoped>\n",
       "    .dataframe tbody tr th:only-of-type {\n",
       "        vertical-align: middle;\n",
       "    }\n",
       "\n",
       "    .dataframe tbody tr th {\n",
       "        vertical-align: top;\n",
       "    }\n",
       "\n",
       "    .dataframe thead th {\n",
       "        text-align: right;\n",
       "    }\n",
       "</style>\n",
       "<table border=\"1\" class=\"dataframe\">\n",
       "  <thead>\n",
       "    <tr style=\"text-align: right;\">\n",
       "      <th></th>\n",
       "      <th></th>\n",
       "      <th>Close</th>\n",
       "      <th>Volume</th>\n",
       "    </tr>\n",
       "    <tr>\n",
       "      <th>Date</th>\n",
       "      <th>Symbol</th>\n",
       "      <th></th>\n",
       "      <th></th>\n",
       "    </tr>\n",
       "  </thead>\n",
       "  <tbody>\n",
       "    <tr>\n",
       "      <th rowspan=\"3\" valign=\"top\">2020-06-01</th>\n",
       "      <th>AMZN</th>\n",
       "      <td>2471.040039</td>\n",
       "      <td>2928900</td>\n",
       "    </tr>\n",
       "    <tr>\n",
       "      <th>GOOGL</th>\n",
       "      <td>1434.869995</td>\n",
       "      <td>1258100</td>\n",
       "    </tr>\n",
       "    <tr>\n",
       "      <th>MSFT</th>\n",
       "      <td>182.830002</td>\n",
       "      <td>22622400</td>\n",
       "    </tr>\n",
       "    <tr>\n",
       "      <th rowspan=\"2\" valign=\"top\">2020-06-02</th>\n",
       "      <th>AMZN</th>\n",
       "      <td>2472.409912</td>\n",
       "      <td>2529900</td>\n",
       "    </tr>\n",
       "    <tr>\n",
       "      <th>GOOGL</th>\n",
       "      <td>1442.310059</td>\n",
       "      <td>1172100</td>\n",
       "    </tr>\n",
       "  </tbody>\n",
       "</table>\n",
       "</div>"
      ],
      "text/plain": [
       "                         Close    Volume\n",
       "Date       Symbol                       \n",
       "2020-06-01 AMZN    2471.040039   2928900\n",
       "           GOOGL   1434.869995   1258100\n",
       "           MSFT     182.830002  22622400\n",
       "2020-06-02 AMZN    2472.409912   2529900\n",
       "           GOOGL   1442.310059   1172100"
      ]
     },
     "execution_count": 78,
     "metadata": {},
     "output_type": "execute_result"
    }
   ],
   "source": [
    " unstacked_df.stack(level='Symbol').head()"
   ]
  },
  {
   "cell_type": "code",
   "execution_count": 79,
   "id": "026aa020",
   "metadata": {},
   "outputs": [],
   "source": [
    "stacked_df =  unstacked_df.stack(level='Symbol')"
   ]
  },
  {
   "cell_type": "code",
   "execution_count": 82,
   "id": "25407b02",
   "metadata": {},
   "outputs": [
    {
     "data": {
      "text/html": [
       "<div>\n",
       "<style scoped>\n",
       "    .dataframe tbody tr th:only-of-type {\n",
       "        vertical-align: middle;\n",
       "    }\n",
       "\n",
       "    .dataframe tbody tr th {\n",
       "        vertical-align: top;\n",
       "    }\n",
       "\n",
       "    .dataframe thead th {\n",
       "        text-align: right;\n",
       "    }\n",
       "</style>\n",
       "<table border=\"1\" class=\"dataframe\">\n",
       "  <thead>\n",
       "    <tr style=\"text-align: right;\">\n",
       "      <th></th>\n",
       "      <th></th>\n",
       "      <th>Close</th>\n",
       "      <th>Volume</th>\n",
       "    </tr>\n",
       "    <tr>\n",
       "      <th>Symbol</th>\n",
       "      <th>Date</th>\n",
       "      <th></th>\n",
       "      <th></th>\n",
       "    </tr>\n",
       "  </thead>\n",
       "  <tbody>\n",
       "    <tr>\n",
       "      <th rowspan=\"5\" valign=\"top\">AMZN</th>\n",
       "      <th>2020-06-01</th>\n",
       "      <td>2471.040039</td>\n",
       "      <td>2928900</td>\n",
       "    </tr>\n",
       "    <tr>\n",
       "      <th>2020-06-02</th>\n",
       "      <td>2472.409912</td>\n",
       "      <td>2529900</td>\n",
       "    </tr>\n",
       "    <tr>\n",
       "      <th>2020-06-03</th>\n",
       "      <td>2478.399902</td>\n",
       "      <td>2671000</td>\n",
       "    </tr>\n",
       "    <tr>\n",
       "      <th>2020-06-04</th>\n",
       "      <td>2460.600098</td>\n",
       "      <td>2948700</td>\n",
       "    </tr>\n",
       "    <tr>\n",
       "      <th>2020-06-05</th>\n",
       "      <td>2483.000000</td>\n",
       "      <td>3306400</td>\n",
       "    </tr>\n",
       "    <tr>\n",
       "      <th>...</th>\n",
       "      <th>...</th>\n",
       "      <td>...</td>\n",
       "      <td>...</td>\n",
       "    </tr>\n",
       "    <tr>\n",
       "      <th rowspan=\"5\" valign=\"top\">MSFT</th>\n",
       "      <th>2020-06-24</th>\n",
       "      <td>197.839996</td>\n",
       "      <td>36740600</td>\n",
       "    </tr>\n",
       "    <tr>\n",
       "      <th>2020-06-25</th>\n",
       "      <td>200.339996</td>\n",
       "      <td>27803900</td>\n",
       "    </tr>\n",
       "    <tr>\n",
       "      <th>2020-06-26</th>\n",
       "      <td>196.330002</td>\n",
       "      <td>54675800</td>\n",
       "    </tr>\n",
       "    <tr>\n",
       "      <th>2020-06-29</th>\n",
       "      <td>198.440002</td>\n",
       "      <td>26701600</td>\n",
       "    </tr>\n",
       "    <tr>\n",
       "      <th>2020-06-30</th>\n",
       "      <td>203.509995</td>\n",
       "      <td>34310300</td>\n",
       "    </tr>\n",
       "  </tbody>\n",
       "</table>\n",
       "<p>66 rows × 2 columns</p>\n",
       "</div>"
      ],
      "text/plain": [
       "                         Close    Volume\n",
       "Symbol Date                             \n",
       "AMZN   2020-06-01  2471.040039   2928900\n",
       "       2020-06-02  2472.409912   2529900\n",
       "       2020-06-03  2478.399902   2671000\n",
       "       2020-06-04  2460.600098   2948700\n",
       "       2020-06-05  2483.000000   3306400\n",
       "...                        ...       ...\n",
       "MSFT   2020-06-24   197.839996  36740600\n",
       "       2020-06-25   200.339996  27803900\n",
       "       2020-06-26   196.330002  54675800\n",
       "       2020-06-29   198.440002  26701600\n",
       "       2020-06-30   203.509995  34310300\n",
       "\n",
       "[66 rows x 2 columns]"
      ]
     },
     "execution_count": 82,
     "metadata": {},
     "output_type": "execute_result"
    }
   ],
   "source": [
    "stacked_df.swaplevel('Symbol', 'Date').sort_index()"
   ]
  },
  {
   "cell_type": "code",
   "execution_count": 84,
   "id": "06517d8b",
   "metadata": {},
   "outputs": [
    {
     "data": {
      "text/html": [
       "<div>\n",
       "<style scoped>\n",
       "    .dataframe tbody tr th:only-of-type {\n",
       "        vertical-align: middle;\n",
       "    }\n",
       "\n",
       "    .dataframe tbody tr th {\n",
       "        vertical-align: top;\n",
       "    }\n",
       "\n",
       "    .dataframe thead th {\n",
       "        text-align: right;\n",
       "    }\n",
       "</style>\n",
       "<table border=\"1\" class=\"dataframe\">\n",
       "  <thead>\n",
       "    <tr style=\"text-align: right;\">\n",
       "      <th></th>\n",
       "      <th>Symbol</th>\n",
       "      <th>Date</th>\n",
       "      <th>variable</th>\n",
       "      <th>value</th>\n",
       "    </tr>\n",
       "  </thead>\n",
       "  <tbody>\n",
       "    <tr>\n",
       "      <th>0</th>\n",
       "      <td>GOOGL</td>\n",
       "      <td>2020-06-01</td>\n",
       "      <td>Close</td>\n",
       "      <td>1.434870e+03</td>\n",
       "    </tr>\n",
       "    <tr>\n",
       "      <th>1</th>\n",
       "      <td>GOOGL</td>\n",
       "      <td>2020-06-02</td>\n",
       "      <td>Close</td>\n",
       "      <td>1.442310e+03</td>\n",
       "    </tr>\n",
       "    <tr>\n",
       "      <th>2</th>\n",
       "      <td>GOOGL</td>\n",
       "      <td>2020-06-03</td>\n",
       "      <td>Close</td>\n",
       "      <td>1.439250e+03</td>\n",
       "    </tr>\n",
       "    <tr>\n",
       "      <th>3</th>\n",
       "      <td>GOOGL</td>\n",
       "      <td>2020-06-04</td>\n",
       "      <td>Close</td>\n",
       "      <td>1.414300e+03</td>\n",
       "    </tr>\n",
       "    <tr>\n",
       "      <th>4</th>\n",
       "      <td>GOOGL</td>\n",
       "      <td>2020-06-05</td>\n",
       "      <td>Close</td>\n",
       "      <td>1.440020e+03</td>\n",
       "    </tr>\n",
       "    <tr>\n",
       "      <th>...</th>\n",
       "      <td>...</td>\n",
       "      <td>...</td>\n",
       "      <td>...</td>\n",
       "      <td>...</td>\n",
       "    </tr>\n",
       "    <tr>\n",
       "      <th>127</th>\n",
       "      <td>MSFT</td>\n",
       "      <td>2020-06-24</td>\n",
       "      <td>Volume</td>\n",
       "      <td>3.674060e+07</td>\n",
       "    </tr>\n",
       "    <tr>\n",
       "      <th>128</th>\n",
       "      <td>MSFT</td>\n",
       "      <td>2020-06-25</td>\n",
       "      <td>Volume</td>\n",
       "      <td>2.780390e+07</td>\n",
       "    </tr>\n",
       "    <tr>\n",
       "      <th>129</th>\n",
       "      <td>MSFT</td>\n",
       "      <td>2020-06-26</td>\n",
       "      <td>Volume</td>\n",
       "      <td>5.467580e+07</td>\n",
       "    </tr>\n",
       "    <tr>\n",
       "      <th>130</th>\n",
       "      <td>MSFT</td>\n",
       "      <td>2020-06-29</td>\n",
       "      <td>Volume</td>\n",
       "      <td>2.670160e+07</td>\n",
       "    </tr>\n",
       "    <tr>\n",
       "      <th>131</th>\n",
       "      <td>MSFT</td>\n",
       "      <td>2020-06-30</td>\n",
       "      <td>Volume</td>\n",
       "      <td>3.431030e+07</td>\n",
       "    </tr>\n",
       "  </tbody>\n",
       "</table>\n",
       "<p>132 rows × 4 columns</p>\n",
       "</div>"
      ],
      "text/plain": [
       "    Symbol        Date variable         value\n",
       "0    GOOGL  2020-06-01    Close  1.434870e+03\n",
       "1    GOOGL  2020-06-02    Close  1.442310e+03\n",
       "2    GOOGL  2020-06-03    Close  1.439250e+03\n",
       "3    GOOGL  2020-06-04    Close  1.414300e+03\n",
       "4    GOOGL  2020-06-05    Close  1.440020e+03\n",
       "..     ...         ...      ...           ...\n",
       "127   MSFT  2020-06-24   Volume  3.674060e+07\n",
       "128   MSFT  2020-06-25   Volume  2.780390e+07\n",
       "129   MSFT  2020-06-26   Volume  5.467580e+07\n",
       "130   MSFT  2020-06-29   Volume  2.670160e+07\n",
       "131   MSFT  2020-06-30   Volume  3.431030e+07\n",
       "\n",
       "[132 rows x 4 columns]"
      ]
     },
     "execution_count": 84,
     "metadata": {},
     "output_type": "execute_result"
    }
   ],
   "source": [
    "# Melting with pandas\n",
    "all_df.melt(id_vars=['Symbol', 'Date'])"
   ]
  },
  {
   "cell_type": "code",
   "execution_count": 87,
   "id": "718cfb4d",
   "metadata": {},
   "outputs": [
    {
     "data": {
      "text/html": [
       "<div>\n",
       "<style scoped>\n",
       "    .dataframe tbody tr th:only-of-type {\n",
       "        vertical-align: middle;\n",
       "    }\n",
       "\n",
       "    .dataframe tbody tr th {\n",
       "        vertical-align: top;\n",
       "    }\n",
       "\n",
       "    .dataframe thead tr th {\n",
       "        text-align: left;\n",
       "    }\n",
       "\n",
       "    .dataframe thead tr:last-of-type th {\n",
       "        text-align: right;\n",
       "    }\n",
       "</style>\n",
       "<table border=\"1\" class=\"dataframe\">\n",
       "  <thead>\n",
       "    <tr>\n",
       "      <th></th>\n",
       "      <th colspan=\"2\" halign=\"left\">mean</th>\n",
       "      <th colspan=\"2\" halign=\"left\">median</th>\n",
       "    </tr>\n",
       "    <tr>\n",
       "      <th></th>\n",
       "      <th>Close</th>\n",
       "      <th>Volume</th>\n",
       "      <th>Close</th>\n",
       "      <th>Volume</th>\n",
       "    </tr>\n",
       "    <tr>\n",
       "      <th>Symbol</th>\n",
       "      <th></th>\n",
       "      <th></th>\n",
       "      <th></th>\n",
       "      <th></th>\n",
       "    </tr>\n",
       "  </thead>\n",
       "  <tbody>\n",
       "    <tr>\n",
       "      <th>AMZN</th>\n",
       "      <td>2613.545455</td>\n",
       "      <td>3.991073e+06</td>\n",
       "      <td>2628.125000</td>\n",
       "      <td>3817400</td>\n",
       "    </tr>\n",
       "    <tr>\n",
       "      <th>GOOGL</th>\n",
       "      <td>1431.595465</td>\n",
       "      <td>1.850223e+06</td>\n",
       "      <td>1437.059998</td>\n",
       "      <td>1634650</td>\n",
       "    </tr>\n",
       "    <tr>\n",
       "      <th>MSFT</th>\n",
       "      <td>192.699547</td>\n",
       "      <td>3.476844e+07</td>\n",
       "      <td>193.905006</td>\n",
       "      <td>32794550</td>\n",
       "    </tr>\n",
       "  </tbody>\n",
       "</table>\n",
       "</div>"
      ],
      "text/plain": [
       "               mean                     median          \n",
       "              Close        Volume        Close    Volume\n",
       "Symbol                                                  \n",
       "AMZN    2613.545455  3.991073e+06  2628.125000   3817400\n",
       "GOOGL   1431.595465  1.850223e+06  1437.059998   1634650\n",
       "MSFT     192.699547  3.476844e+07   193.905006  32794550"
      ]
     },
     "execution_count": 87,
     "metadata": {},
     "output_type": "execute_result"
    }
   ],
   "source": [
    "# Aggregating results with pandas\n",
    "all_df.pivot_table(values=['Close', 'Volume'], index='Symbol', aggfunc=['mean', 'median'])"
   ]
  },
  {
   "cell_type": "code",
   "execution_count": 89,
   "id": "e478c368",
   "metadata": {},
   "outputs": [
    {
     "data": {
      "text/html": [
       "<div>\n",
       "<style scoped>\n",
       "    .dataframe tbody tr th:only-of-type {\n",
       "        vertical-align: middle;\n",
       "    }\n",
       "\n",
       "    .dataframe tbody tr th {\n",
       "        vertical-align: top;\n",
       "    }\n",
       "\n",
       "    .dataframe thead tr th {\n",
       "        text-align: left;\n",
       "    }\n",
       "\n",
       "    .dataframe thead tr:last-of-type th {\n",
       "        text-align: right;\n",
       "    }\n",
       "</style>\n",
       "<table border=\"1\" class=\"dataframe\">\n",
       "  <thead>\n",
       "    <tr>\n",
       "      <th></th>\n",
       "      <th colspan=\"2\" halign=\"left\">Close</th>\n",
       "      <th>Volume</th>\n",
       "    </tr>\n",
       "    <tr>\n",
       "      <th></th>\n",
       "      <th>mean</th>\n",
       "      <th>median</th>\n",
       "      <th>max</th>\n",
       "    </tr>\n",
       "    <tr>\n",
       "      <th>Symbol</th>\n",
       "      <th></th>\n",
       "      <th></th>\n",
       "      <th></th>\n",
       "    </tr>\n",
       "  </thead>\n",
       "  <tbody>\n",
       "    <tr>\n",
       "      <th>AMZN</th>\n",
       "      <td>2613.545455</td>\n",
       "      <td>2628.125000</td>\n",
       "      <td>6500800</td>\n",
       "    </tr>\n",
       "    <tr>\n",
       "      <th>GOOGL</th>\n",
       "      <td>1431.595465</td>\n",
       "      <td>1437.059998</td>\n",
       "      <td>4882000</td>\n",
       "    </tr>\n",
       "    <tr>\n",
       "      <th>MSFT</th>\n",
       "      <td>192.699547</td>\n",
       "      <td>193.905006</td>\n",
       "      <td>54675800</td>\n",
       "    </tr>\n",
       "  </tbody>\n",
       "</table>\n",
       "</div>"
      ],
      "text/plain": [
       "              Close                 Volume\n",
       "               mean       median       max\n",
       "Symbol                                    \n",
       "AMZN    2613.545455  2628.125000   6500800\n",
       "GOOGL   1431.595465  1437.059998   4882000\n",
       "MSFT     192.699547   193.905006  54675800"
      ]
     },
     "execution_count": 89,
     "metadata": {},
     "output_type": "execute_result"
    }
   ],
   "source": [
    "all_df.groupby(\"Symbol\").agg({'Close' : ['mean', 'median'], 'Volume': ['max']})"
   ]
  },
  {
   "cell_type": "code",
   "execution_count": 90,
   "id": "bf904341",
   "metadata": {},
   "outputs": [
    {
     "data": {
      "text/html": [
       "<div>\n",
       "<style scoped>\n",
       "    .dataframe tbody tr th:only-of-type {\n",
       "        vertical-align: middle;\n",
       "    }\n",
       "\n",
       "    .dataframe tbody tr th {\n",
       "        vertical-align: top;\n",
       "    }\n",
       "\n",
       "    .dataframe thead th {\n",
       "        text-align: right;\n",
       "    }\n",
       "</style>\n",
       "<table border=\"1\" class=\"dataframe\">\n",
       "  <thead>\n",
       "    <tr style=\"text-align: right;\">\n",
       "      <th></th>\n",
       "      <th>mean</th>\n",
       "      <th>median</th>\n",
       "    </tr>\n",
       "    <tr>\n",
       "      <th>Symbol</th>\n",
       "      <th></th>\n",
       "      <th></th>\n",
       "    </tr>\n",
       "  </thead>\n",
       "  <tbody>\n",
       "    <tr>\n",
       "      <th>AMZN</th>\n",
       "      <td>2613.545455</td>\n",
       "      <td>2628.125000</td>\n",
       "    </tr>\n",
       "    <tr>\n",
       "      <th>GOOGL</th>\n",
       "      <td>1431.595465</td>\n",
       "      <td>1437.059998</td>\n",
       "    </tr>\n",
       "    <tr>\n",
       "      <th>MSFT</th>\n",
       "      <td>192.699547</td>\n",
       "      <td>193.905006</td>\n",
       "    </tr>\n",
       "  </tbody>\n",
       "</table>\n",
       "</div>"
      ],
      "text/plain": [
       "               mean       median\n",
       "Symbol                          \n",
       "AMZN    2613.545455  2628.125000\n",
       "GOOGL   1431.595465  1437.059998\n",
       "MSFT     192.699547   193.905006"
      ]
     },
     "execution_count": 90,
     "metadata": {},
     "output_type": "execute_result"
    }
   ],
   "source": [
    "all_df.groupby('Symbol')['Close'].agg(['mean', 'median'])"
   ]
  },
  {
   "cell_type": "markdown",
   "id": "0d117202",
   "metadata": {},
   "source": [
    "## Plotting results with pandas"
   ]
  },
  {
   "cell_type": "code",
   "execution_count": 92,
   "id": "e14b77c5",
   "metadata": {},
   "outputs": [],
   "source": [
    "# Pandas has plot function for series and dataframes built on the matplotlib library\n",
    "import matplotlib.pyplot as plt"
   ]
  },
  {
   "cell_type": "code",
   "execution_count": 94,
   "id": "1f8b5def",
   "metadata": {},
   "outputs": [],
   "source": [
    "all_df.reset_index(drop=True, inplace=True)"
   ]
  },
  {
   "cell_type": "code",
   "execution_count": 96,
   "id": "7f6f9990",
   "metadata": {},
   "outputs": [],
   "source": [
    "pivot_close = all_df.pivot_table(index='Date', columns='Symbol', values='Close').sort_index()"
   ]
  },
  {
   "cell_type": "code",
   "execution_count": 97,
   "id": "39e4a628",
   "metadata": {},
   "outputs": [
    {
     "data": {
      "text/plain": [
       "<Axes: xlabel='Date'>"
      ]
     },
     "execution_count": 97,
     "metadata": {},
     "output_type": "execute_result"
    },
    {
     "data": {
      "image/png": "[encoded data removed]",
      "text/plain": [
       "<Figure size 640x480 with 1 Axes>"
      ]
     },
     "metadata": {},
     "output_type": "display_data"
    }
   ],
   "source": [
    "# The problem with this is that the close prices are not all of the same magnitude\n",
    "pivot_close.plot()"
   ]
  },
  {
   "cell_type": "code",
   "execution_count": 98,
   "id": "0c20e604",
   "metadata": {},
   "outputs": [],
   "source": [
    "# Custom method to standardise data first\n",
    "def daily_change(row):\n",
    "    return row/row[0]"
   ]
  },
  {
   "cell_type": "code",
   "execution_count": 99,
   "id": "f05b07b8",
   "metadata": {},
   "outputs": [
    {
     "data": {
      "text/html": [
       "<div>\n",
       "<style scoped>\n",
       "    .dataframe tbody tr th:only-of-type {\n",
       "        vertical-align: middle;\n",
       "    }\n",
       "\n",
       "    .dataframe tbody tr th {\n",
       "        vertical-align: top;\n",
       "    }\n",
       "\n",
       "    .dataframe thead th {\n",
       "        text-align: right;\n",
       "    }\n",
       "</style>\n",
       "<table border=\"1\" class=\"dataframe\">\n",
       "  <thead>\n",
       "    <tr style=\"text-align: right;\">\n",
       "      <th>Symbol</th>\n",
       "      <th>AMZN</th>\n",
       "      <th>GOOGL</th>\n",
       "      <th>MSFT</th>\n",
       "    </tr>\n",
       "    <tr>\n",
       "      <th>Date</th>\n",
       "      <th></th>\n",
       "      <th></th>\n",
       "      <th></th>\n",
       "    </tr>\n",
       "  </thead>\n",
       "  <tbody>\n",
       "    <tr>\n",
       "      <th>2020-06-25</th>\n",
       "      <td>1.114745</td>\n",
       "      <td>1.004342</td>\n",
       "      <td>1.095772</td>\n",
       "    </tr>\n",
       "    <tr>\n",
       "      <th>2020-06-10</th>\n",
       "      <td>1.071391</td>\n",
       "      <td>1.020789</td>\n",
       "      <td>1.076629</td>\n",
       "    </tr>\n",
       "    <tr>\n",
       "      <th>2020-06-23</th>\n",
       "      <td>1.118723</td>\n",
       "      <td>1.020288</td>\n",
       "      <td>1.104359</td>\n",
       "    </tr>\n",
       "    <tr>\n",
       "      <th>2020-06-24</th>\n",
       "      <td>1.106579</td>\n",
       "      <td>0.998488</td>\n",
       "      <td>1.082098</td>\n",
       "    </tr>\n",
       "    <tr>\n",
       "      <th>2020-06-01</th>\n",
       "      <td>1.000000</td>\n",
       "      <td>1.000000</td>\n",
       "      <td>1.000000</td>\n",
       "    </tr>\n",
       "  </tbody>\n",
       "</table>\n",
       "</div>"
      ],
      "text/plain": [
       "Symbol          AMZN     GOOGL      MSFT\n",
       "Date                                    \n",
       "2020-06-25  1.114745  1.004342  1.095772\n",
       "2020-06-10  1.071391  1.020789  1.076629\n",
       "2020-06-23  1.118723  1.020288  1.104359\n",
       "2020-06-24  1.106579  0.998488  1.082098\n",
       "2020-06-01  1.000000  1.000000  1.000000"
      ]
     },
     "execution_count": 99,
     "metadata": {},
     "output_type": "execute_result"
    }
   ],
   "source": [
    "new_df = pivot_close.apply(lambda x: daily_change(x))\n",
    "new_df.sample(5)"
   ]
  },
  {
   "cell_type": "code",
   "execution_count": 100,
   "id": "98965ab2",
   "metadata": {},
   "outputs": [
    {
     "data": {
      "text/plain": [
       "<Axes: xlabel='Date'>"
      ]
     },
     "execution_count": 100,
     "metadata": {},
     "output_type": "execute_result"
    },
    {
     "data": {
      "image/png": "[encoded data removed]",
      "text/plain": [
       "<Figure size 640x480 with 1 Axes>"
      ]
     },
     "metadata": {},
     "output_type": "display_data"
    }
   ],
   "source": [
    "new_df.plot()"
   ]
  },
  {
   "cell_type": "code",
   "execution_count": 102,
   "id": "1e8bf2f6",
   "metadata": {},
   "outputs": [],
   "source": [
    "# argument shows to compare with the previous day: (1)\n",
    "def daily_returns(row):\n",
    "    return row.pct_change(1)"
   ]
  },
  {
   "cell_type": "code",
   "execution_count": 103,
   "id": "1772e00c",
   "metadata": {},
   "outputs": [
    {
     "data": {
      "text/html": [
       "<div>\n",
       "<style scoped>\n",
       "    .dataframe tbody tr th:only-of-type {\n",
       "        vertical-align: middle;\n",
       "    }\n",
       "\n",
       "    .dataframe tbody tr th {\n",
       "        vertical-align: top;\n",
       "    }\n",
       "\n",
       "    .dataframe thead th {\n",
       "        text-align: right;\n",
       "    }\n",
       "</style>\n",
       "<table border=\"1\" class=\"dataframe\">\n",
       "  <thead>\n",
       "    <tr style=\"text-align: right;\">\n",
       "      <th>Symbol</th>\n",
       "      <th>AMZN</th>\n",
       "      <th>GOOGL</th>\n",
       "      <th>MSFT</th>\n",
       "    </tr>\n",
       "    <tr>\n",
       "      <th>Date</th>\n",
       "      <th></th>\n",
       "      <th></th>\n",
       "      <th></th>\n",
       "    </tr>\n",
       "  </thead>\n",
       "  <tbody>\n",
       "    <tr>\n",
       "      <th>2020-06-01</th>\n",
       "      <td>NaN</td>\n",
       "      <td>NaN</td>\n",
       "      <td>NaN</td>\n",
       "    </tr>\n",
       "    <tr>\n",
       "      <th>2020-06-22</th>\n",
       "      <td>0.014508</td>\n",
       "      <td>0.018264</td>\n",
       "      <td>0.027774</td>\n",
       "    </tr>\n",
       "    <tr>\n",
       "      <th>2020-06-04</th>\n",
       "      <td>-0.007182</td>\n",
       "      <td>-0.017335</td>\n",
       "      <td>-0.013164</td>\n",
       "    </tr>\n",
       "    <tr>\n",
       "      <th>2020-06-16</th>\n",
       "      <td>0.016555</td>\n",
       "      <td>0.018110</td>\n",
       "      <td>0.024505</td>\n",
       "    </tr>\n",
       "    <tr>\n",
       "      <th>2020-06-08</th>\n",
       "      <td>0.016536</td>\n",
       "      <td>0.005569</td>\n",
       "      <td>0.006197</td>\n",
       "    </tr>\n",
       "  </tbody>\n",
       "</table>\n",
       "</div>"
      ],
      "text/plain": [
       "Symbol          AMZN     GOOGL      MSFT\n",
       "Date                                    \n",
       "2020-06-01       NaN       NaN       NaN\n",
       "2020-06-22  0.014508  0.018264  0.027774\n",
       "2020-06-04 -0.007182 -0.017335 -0.013164\n",
       "2020-06-16  0.016555  0.018110  0.024505\n",
       "2020-06-08  0.016536  0.005569  0.006197"
      ]
     },
     "execution_count": 103,
     "metadata": {},
     "output_type": "execute_result"
    }
   ],
   "source": [
    "daily_df = pivot_close.apply(lambda x: daily_returns(x))\n",
    "daily_df.sample(5)"
   ]
  },
  {
   "cell_type": "code",
   "execution_count": 104,
   "id": "9c4b08b4",
   "metadata": {},
   "outputs": [
    {
     "data": {
      "text/plain": [
       "<Axes: xlabel='Date'>"
      ]
     },
     "execution_count": 104,
     "metadata": {},
     "output_type": "execute_result"
    },
    {
     "data": {
      "image/png": "[encoded data removed]",
      "text/plain": [
       "<Figure size 640x480 with 1 Axes>"
      ]
     },
     "metadata": {},
     "output_type": "display_data"
    }
   ],
   "source": [
    "daily_df.plot()"
   ]
  },
  {
   "cell_type": "code",
   "execution_count": 106,
   "id": "b4e68a78",
   "metadata": {},
   "outputs": [
    {
     "data": {
      "text/plain": [
       "<Axes: xlabel='Date'>"
      ]
     },
     "execution_count": 106,
     "metadata": {},
     "output_type": "execute_result"
    },
    {
     "data": {
      "image/png": "[encoded data removed]",
      "text/plain": [
       "<Figure size 640x480 with 1 Axes>"
      ]
     },
     "metadata": {},
     "output_type": "display_data"
    }
   ],
   "source": [
    "pivot_volume = all_df.pivot_table(index='Date', columns='Symbol', values='Volume')\n",
    "pivot_volume.plot.area()"
   ]
  },
  {
   "cell_type": "code",
   "execution_count": 109,
   "id": "5962afa2",
   "metadata": {},
   "outputs": [
    {
     "data": {
      "text/plain": [
       "<Axes: xlabel='Date'>"
      ]
     },
     "execution_count": 109,
     "metadata": {},
     "output_type": "execute_result"
    },
    {
     "data": {
      "image/png": "[encoded data removed]",
      "text/plain": [
       "<Figure size 640x480 with 1 Axes>"
      ]
     },
     "metadata": {},
     "output_type": "display_data"
    }
   ],
   "source": [
    "pivot_volume.plot.bar(stacked=True)"
   ]
  },
  {
   "cell_type": "code",
   "execution_count": null,
   "id": "9dad3ce3",
   "metadata": {},
   "outputs": [],
   "source": []
  }
 ],
 "metadata": {
  "kernelspec": {
   "display_name": "Python 3 (ipykernel)",
   "language": "python",
   "name": "python3"
  },
  "language_info": {
   "codemirror_mode": {
    "name": "ipython",
    "version": 3
   },
   "file_extension": ".py",
   "mimetype": "text/x-python",
   "name": "python",
   "nbconvert_exporter": "python",
   "pygments_lexer": "ipython3",
   "version": "3.10.9"
  }
 },
 "nbformat": 4,
 "nbformat_minor": 5
}
