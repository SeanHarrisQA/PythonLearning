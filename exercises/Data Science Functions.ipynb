{
 "cells": [
  {
   "cell_type": "markdown",
   "id": "e794ed37",
   "metadata": {},
   "source": [
    "# Data Science Functions"
   ]
  },
  {
   "cell_type": "code",
   "execution_count": 1,
   "id": "c65d8e23",
   "metadata": {},
   "outputs": [],
   "source": [
    "import numpy as np"
   ]
  },
  {
   "cell_type": "markdown",
   "id": "70cc7704",
   "metadata": {},
   "source": [
    "## np.stack"
   ]
  },
  {
   "cell_type": "code",
   "execution_count": 6,
   "id": "6def9029",
   "metadata": {},
   "outputs": [],
   "source": [
    "a = np.array([\n",
    "    [1, 2, 3, 4],\n",
    "    [5, 6, 7, 8],\n",
    "    [8, 7, 6, 5],\n",
    "    [4, 3, 2, 1]\n",
    "])"
   ]
  },
  {
   "cell_type": "code",
   "execution_count": 7,
   "id": "d087f740",
   "metadata": {},
   "outputs": [],
   "source": [
    "b = np.array([\n",
    "    [1, 2, 3, 4],\n",
    "    [5, 6, 7, 8],\n",
    "    [8, 7, 6, 5],\n",
    "    [4, 3, 2, 1]\n",
    "])"
   ]
  },
  {
   "cell_type": "code",
   "execution_count": 8,
   "id": "48884ad8",
   "metadata": {},
   "outputs": [],
   "source": [
    "c = np.array([\n",
    "    [1, 2, 3, 4],\n",
    "    [5, 6, 7, 8],\n",
    "    [8, 7, 6, 5],\n",
    "    [4, 3, 2, 1]\n",
    "])"
   ]
  },
  {
   "cell_type": "code",
   "execution_count": 9,
   "id": "5e0f9127",
   "metadata": {},
   "outputs": [],
   "source": [
    "ab = np.stack((a, b))"
   ]
  },
  {
   "cell_type": "code",
   "execution_count": 12,
   "id": "d5adace7",
   "metadata": {},
   "outputs": [],
   "source": [
    "abc = np.stack((a, b, c))"
   ]
  },
  {
   "cell_type": "code",
   "execution_count": 13,
   "id": "88ba5ec0",
   "metadata": {},
   "outputs": [
    {
     "data": {
      "text/plain": [
       "array([[[1, 2, 3, 4],\n",
       "        [5, 6, 7, 8],\n",
       "        [8, 7, 6, 5],\n",
       "        [4, 3, 2, 1]],\n",
       "\n",
       "       [[1, 2, 3, 4],\n",
       "        [5, 6, 7, 8],\n",
       "        [8, 7, 6, 5],\n",
       "        [4, 3, 2, 1]],\n",
       "\n",
       "       [[1, 2, 3, 4],\n",
       "        [5, 6, 7, 8],\n",
       "        [8, 7, 6, 5],\n",
       "        [4, 3, 2, 1]]])"
      ]
     },
     "execution_count": 13,
     "metadata": {},
     "output_type": "execute_result"
    }
   ],
   "source": [
    "abc"
   ]
  },
  {
   "cell_type": "code",
   "execution_count": 14,
   "id": "2f99d222",
   "metadata": {},
   "outputs": [
    {
     "data": {
      "text/plain": [
       "(3, 4, 4)"
      ]
     },
     "execution_count": 14,
     "metadata": {},
     "output_type": "execute_result"
    }
   ],
   "source": [
    "abc.shape"
   ]
  },
  {
   "cell_type": "code",
   "execution_count": 15,
   "id": "73d661b7",
   "metadata": {},
   "outputs": [],
   "source": [
    "fed = abc"
   ]
  },
  {
   "cell_type": "code",
   "execution_count": 16,
   "id": "48d46453",
   "metadata": {},
   "outputs": [],
   "source": [
    "a2f = np.stack((abc,fed))"
   ]
  },
  {
   "cell_type": "code",
   "execution_count": 17,
   "id": "5db9eb52",
   "metadata": {},
   "outputs": [
    {
     "data": {
      "text/plain": [
       "array([[[[1, 2, 3, 4],\n",
       "         [5, 6, 7, 8],\n",
       "         [8, 7, 6, 5],\n",
       "         [4, 3, 2, 1]],\n",
       "\n",
       "        [[1, 2, 3, 4],\n",
       "         [5, 6, 7, 8],\n",
       "         [8, 7, 6, 5],\n",
       "         [4, 3, 2, 1]],\n",
       "\n",
       "        [[1, 2, 3, 4],\n",
       "         [5, 6, 7, 8],\n",
       "         [8, 7, 6, 5],\n",
       "         [4, 3, 2, 1]]],\n",
       "\n",
       "\n",
       "       [[[1, 2, 3, 4],\n",
       "         [5, 6, 7, 8],\n",
       "         [8, 7, 6, 5],\n",
       "         [4, 3, 2, 1]],\n",
       "\n",
       "        [[1, 2, 3, 4],\n",
       "         [5, 6, 7, 8],\n",
       "         [8, 7, 6, 5],\n",
       "         [4, 3, 2, 1]],\n",
       "\n",
       "        [[1, 2, 3, 4],\n",
       "         [5, 6, 7, 8],\n",
       "         [8, 7, 6, 5],\n",
       "         [4, 3, 2, 1]]]])"
      ]
     },
     "execution_count": 17,
     "metadata": {},
     "output_type": "execute_result"
    }
   ],
   "source": [
    "a2f"
   ]
  },
  {
   "cell_type": "code",
   "execution_count": 19,
   "id": "3f1fc6e8",
   "metadata": {},
   "outputs": [
    {
     "data": {
      "text/plain": [
       "[array([[[[1, 2, 3, 4],\n",
       "          [5, 6, 7, 8],\n",
       "          [8, 7, 6, 5],\n",
       "          [4, 3, 2, 1]],\n",
       " \n",
       "         [[1, 2, 3, 4],\n",
       "          [5, 6, 7, 8],\n",
       "          [8, 7, 6, 5],\n",
       "          [4, 3, 2, 1]],\n",
       " \n",
       "         [[1, 2, 3, 4],\n",
       "          [5, 6, 7, 8],\n",
       "          [8, 7, 6, 5],\n",
       "          [4, 3, 2, 1]]]]),\n",
       " array([[[[1, 2, 3, 4],\n",
       "          [5, 6, 7, 8],\n",
       "          [8, 7, 6, 5],\n",
       "          [4, 3, 2, 1]],\n",
       " \n",
       "         [[1, 2, 3, 4],\n",
       "          [5, 6, 7, 8],\n",
       "          [8, 7, 6, 5],\n",
       "          [4, 3, 2, 1]],\n",
       " \n",
       "         [[1, 2, 3, 4],\n",
       "          [5, 6, 7, 8],\n",
       "          [8, 7, 6, 5],\n",
       "          [4, 3, 2, 1]]]])]"
      ]
     },
     "execution_count": 19,
     "metadata": {},
     "output_type": "execute_result"
    }
   ],
   "source": [
    "np.split(a2f, 2)"
   ]
  },
  {
   "cell_type": "markdown",
   "id": "329d5168",
   "metadata": {},
   "source": [
    "## np.add"
   ]
  },
  {
   "cell_type": "code",
   "execution_count": 25,
   "id": "53e86b67",
   "metadata": {},
   "outputs": [],
   "source": [
    "a = np.array([\n",
    "    [1, 2, 3, 4],\n",
    "    [5, 6, 7, 8]\n",
    "])\n",
    "b = np.array([\n",
    "    [1, 2],\n",
    "    [3, 4],\n",
    "    [5, 6],\n",
    "    [7, 8],\n",
    "])\n",
    "c = np.array([\n",
    "    [10, 10, 10, 10]\n",
    "])"
   ]
  },
  {
   "cell_type": "code",
   "execution_count": 26,
   "id": "0215d69c",
   "metadata": {},
   "outputs": [
    {
     "data": {
      "text/plain": [
       "array([[ 2,  4,  6,  8],\n",
       "       [10, 12, 14, 16]])"
      ]
     },
     "execution_count": 26,
     "metadata": {},
     "output_type": "execute_result"
    }
   ],
   "source": [
    "np.add(a, a)"
   ]
  },
  {
   "cell_type": "code",
   "execution_count": 27,
   "id": "2423cb4b",
   "metadata": {},
   "outputs": [
    {
     "data": {
      "text/plain": [
       "array([[ 2,  4],\n",
       "       [ 6,  8],\n",
       "       [10, 12],\n",
       "       [14, 16]])"
      ]
     },
     "execution_count": 27,
     "metadata": {},
     "output_type": "execute_result"
    }
   ],
   "source": [
    "np.add(b, b)"
   ]
  },
  {
   "cell_type": "code",
   "execution_count": 28,
   "id": "29b7fde3",
   "metadata": {},
   "outputs": [
    {
     "ename": "ValueError",
     "evalue": "operands could not be broadcast together with shapes (2,4) (4,2) ",
     "output_type": "error",
     "traceback": [
      "\u001b[0;31m---------------------------------------------------------------------------\u001b[0m",
      "\u001b[0;31mValueError\u001b[0m                                Traceback (most recent call last)",
      "Cell \u001b[0;32mIn[28], line 1\u001b[0m\n\u001b[0;32m----> 1\u001b[0m \u001b[43mnp\u001b[49m\u001b[38;5;241;43m.\u001b[39;49m\u001b[43madd\u001b[49m\u001b[43m(\u001b[49m\u001b[43ma\u001b[49m\u001b[43m,\u001b[49m\u001b[43m \u001b[49m\u001b[43mb\u001b[49m\u001b[43m)\u001b[49m\n",
      "\u001b[0;31mValueError\u001b[0m: operands could not be broadcast together with shapes (2,4) (4,2) "
     ]
    }
   ],
   "source": [
    "# This won't work as the arrays are not broadcastable\n",
    "np.add(a, b)"
   ]
  },
  {
   "cell_type": "code",
   "execution_count": 29,
   "id": "5d390b0f",
   "metadata": {},
   "outputs": [
    {
     "data": {
      "text/plain": [
       "array([[11, 12, 13, 14],\n",
       "       [15, 16, 17, 18]])"
      ]
     },
     "execution_count": 29,
     "metadata": {},
     "output_type": "execute_result"
    }
   ],
   "source": [
    "# This will as the results can be broadcasted\n",
    "np.add(a, c)"
   ]
  },
  {
   "cell_type": "markdown",
   "id": "476009f5",
   "metadata": {},
   "source": [
    "## np.subtract"
   ]
  },
  {
   "cell_type": "code",
   "execution_count": null,
   "id": "afd94e68",
   "metadata": {},
   "outputs": [],
   "source": []
  }
 ],
 "metadata": {
  "kernelspec": {
   "display_name": "Python 3 (ipykernel)",
   "language": "python",
   "name": "python3"
  },
  "language_info": {
   "codemirror_mode": {
    "name": "ipython",
    "version": 3
   },
   "file_extension": ".py",
   "mimetype": "text/x-python",
   "name": "python",
   "nbconvert_exporter": "python",
   "pygments_lexer": "ipython3",
   "version": "3.10.9"
  }
 },
 "nbformat": 4,
 "nbformat_minor": 5
}
