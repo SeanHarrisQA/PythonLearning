{
 "cells": [
  {
   "cell_type": "markdown",
   "id": "e794ed37",
   "metadata": {},
   "source": [
    "# Data Science Functions"
   ]
  },
  {
   "cell_type": "markdown",
   "id": "e9f0eeb8",
   "metadata": {},
   "source": [
    "# NumPy Functions"
   ]
  },
  {
   "cell_type": "code",
   "execution_count": 1,
   "id": "c65d8e23",
   "metadata": {},
   "outputs": [],
   "source": [
    "import numpy as np"
   ]
  },
  {
   "cell_type": "markdown",
   "id": "70cc7704",
   "metadata": {},
   "source": [
    "## np.stack"
   ]
  },
  {
   "cell_type": "code",
   "execution_count": 47,
   "id": "6def9029",
   "metadata": {},
   "outputs": [],
   "source": [
    "a = np.array([\n",
    "    [1, 2, 3, 4],\n",
    "    [5, 6, 7, 8],\n",
    "    [8, 7, 6, 5],\n",
    "    [4, 3, 2, 1]\n",
    "])"
   ]
  },
  {
   "cell_type": "code",
   "execution_count": 48,
   "id": "d087f740",
   "metadata": {},
   "outputs": [],
   "source": [
    "b = np.array([\n",
    "    [1, 2, 3, 4],\n",
    "    [5, 6, 7, 8],\n",
    "    [8, 7, 6, 5],\n",
    "    [4, 3, 2, 1]\n",
    "])"
   ]
  },
  {
   "cell_type": "code",
   "execution_count": 49,
   "id": "48884ad8",
   "metadata": {},
   "outputs": [],
   "source": [
    "c = np.array([\n",
    "    [1, 2, 3, 4],\n",
    "    [5, 6, 7, 8],\n",
    "    [8, 7, 6, 5],\n",
    "    [4, 3, 2, 1]\n",
    "])"
   ]
  },
  {
   "cell_type": "code",
   "execution_count": 50,
   "id": "5e0f9127",
   "metadata": {},
   "outputs": [],
   "source": [
    "ab = np.stack((a, b))"
   ]
  },
  {
   "cell_type": "code",
   "execution_count": 51,
   "id": "d5adace7",
   "metadata": {},
   "outputs": [],
   "source": [
    "abc = np.stack((a, b, c))"
   ]
  },
  {
   "cell_type": "code",
   "execution_count": 52,
   "id": "88ba5ec0",
   "metadata": {},
   "outputs": [
    {
     "data": {
      "text/plain": [
       "array([[[1, 2, 3, 4],\n",
       "        [5, 6, 7, 8],\n",
       "        [8, 7, 6, 5],\n",
       "        [4, 3, 2, 1]],\n",
       "\n",
       "       [[1, 2, 3, 4],\n",
       "        [5, 6, 7, 8],\n",
       "        [8, 7, 6, 5],\n",
       "        [4, 3, 2, 1]],\n",
       "\n",
       "       [[1, 2, 3, 4],\n",
       "        [5, 6, 7, 8],\n",
       "        [8, 7, 6, 5],\n",
       "        [4, 3, 2, 1]]])"
      ]
     },
     "execution_count": 52,
     "metadata": {},
     "output_type": "execute_result"
    }
   ],
   "source": [
    "abc"
   ]
  },
  {
   "cell_type": "code",
   "execution_count": 53,
   "id": "2f99d222",
   "metadata": {},
   "outputs": [
    {
     "data": {
      "text/plain": [
       "(3, 4, 4)"
      ]
     },
     "execution_count": 53,
     "metadata": {},
     "output_type": "execute_result"
    }
   ],
   "source": [
    "abc.shape"
   ]
  },
  {
   "cell_type": "code",
   "execution_count": 54,
   "id": "73d661b7",
   "metadata": {},
   "outputs": [],
   "source": [
    "fed = abc"
   ]
  },
  {
   "cell_type": "code",
   "execution_count": 55,
   "id": "48d46453",
   "metadata": {},
   "outputs": [],
   "source": [
    "a2f = np.stack((abc,fed))"
   ]
  },
  {
   "cell_type": "code",
   "execution_count": 56,
   "id": "5db9eb52",
   "metadata": {},
   "outputs": [
    {
     "data": {
      "text/plain": [
       "array([[[[1, 2, 3, 4],\n",
       "         [5, 6, 7, 8],\n",
       "         [8, 7, 6, 5],\n",
       "         [4, 3, 2, 1]],\n",
       "\n",
       "        [[1, 2, 3, 4],\n",
       "         [5, 6, 7, 8],\n",
       "         [8, 7, 6, 5],\n",
       "         [4, 3, 2, 1]],\n",
       "\n",
       "        [[1, 2, 3, 4],\n",
       "         [5, 6, 7, 8],\n",
       "         [8, 7, 6, 5],\n",
       "         [4, 3, 2, 1]]],\n",
       "\n",
       "\n",
       "       [[[1, 2, 3, 4],\n",
       "         [5, 6, 7, 8],\n",
       "         [8, 7, 6, 5],\n",
       "         [4, 3, 2, 1]],\n",
       "\n",
       "        [[1, 2, 3, 4],\n",
       "         [5, 6, 7, 8],\n",
       "         [8, 7, 6, 5],\n",
       "         [4, 3, 2, 1]],\n",
       "\n",
       "        [[1, 2, 3, 4],\n",
       "         [5, 6, 7, 8],\n",
       "         [8, 7, 6, 5],\n",
       "         [4, 3, 2, 1]]]])"
      ]
     },
     "execution_count": 56,
     "metadata": {},
     "output_type": "execute_result"
    }
   ],
   "source": [
    "a2f"
   ]
  },
  {
   "cell_type": "code",
   "execution_count": 57,
   "id": "3f1fc6e8",
   "metadata": {},
   "outputs": [
    {
     "data": {
      "text/plain": [
       "[array([[[[1, 2, 3, 4],\n",
       "          [5, 6, 7, 8],\n",
       "          [8, 7, 6, 5],\n",
       "          [4, 3, 2, 1]],\n",
       " \n",
       "         [[1, 2, 3, 4],\n",
       "          [5, 6, 7, 8],\n",
       "          [8, 7, 6, 5],\n",
       "          [4, 3, 2, 1]],\n",
       " \n",
       "         [[1, 2, 3, 4],\n",
       "          [5, 6, 7, 8],\n",
       "          [8, 7, 6, 5],\n",
       "          [4, 3, 2, 1]]]]),\n",
       " array([[[[1, 2, 3, 4],\n",
       "          [5, 6, 7, 8],\n",
       "          [8, 7, 6, 5],\n",
       "          [4, 3, 2, 1]],\n",
       " \n",
       "         [[1, 2, 3, 4],\n",
       "          [5, 6, 7, 8],\n",
       "          [8, 7, 6, 5],\n",
       "          [4, 3, 2, 1]],\n",
       " \n",
       "         [[1, 2, 3, 4],\n",
       "          [5, 6, 7, 8],\n",
       "          [8, 7, 6, 5],\n",
       "          [4, 3, 2, 1]]]])]"
      ]
     },
     "execution_count": 57,
     "metadata": {},
     "output_type": "execute_result"
    }
   ],
   "source": [
    "np.split(a2f, 2)"
   ]
  },
  {
   "cell_type": "markdown",
   "id": "329d5168",
   "metadata": {},
   "source": [
    "## np.add"
   ]
  },
  {
   "cell_type": "code",
   "execution_count": 58,
   "id": "53e86b67",
   "metadata": {},
   "outputs": [],
   "source": [
    "a = np.array([\n",
    "    [1, 2, 3, 4],\n",
    "    [5, 6, 7, 8]\n",
    "])\n",
    "b = np.array([\n",
    "    [1, 2],\n",
    "    [3, 4],\n",
    "    [5, 6],\n",
    "    [7, 8],\n",
    "])\n",
    "c = np.array([\n",
    "    [10, 10, 10, 10]\n",
    "])"
   ]
  },
  {
   "cell_type": "code",
   "execution_count": 59,
   "id": "0215d69c",
   "metadata": {},
   "outputs": [
    {
     "data": {
      "text/plain": [
       "array([[ 2,  4,  6,  8],\n",
       "       [10, 12, 14, 16]])"
      ]
     },
     "execution_count": 59,
     "metadata": {},
     "output_type": "execute_result"
    }
   ],
   "source": [
    "np.add(a, a)"
   ]
  },
  {
   "cell_type": "code",
   "execution_count": 60,
   "id": "2423cb4b",
   "metadata": {},
   "outputs": [
    {
     "data": {
      "text/plain": [
       "array([[ 2,  4],\n",
       "       [ 6,  8],\n",
       "       [10, 12],\n",
       "       [14, 16]])"
      ]
     },
     "execution_count": 60,
     "metadata": {},
     "output_type": "execute_result"
    }
   ],
   "source": [
    "np.add(b, b)"
   ]
  },
  {
   "cell_type": "code",
   "execution_count": 61,
   "id": "29b7fde3",
   "metadata": {},
   "outputs": [
    {
     "ename": "ValueError",
     "evalue": "operands could not be broadcast together with shapes (2,4) (4,2) ",
     "output_type": "error",
     "traceback": [
      "\u001b[0;31m---------------------------------------------------------------------------\u001b[0m",
      "\u001b[0;31mValueError\u001b[0m                                Traceback (most recent call last)",
      "Cell \u001b[0;32mIn[61], line 2\u001b[0m\n\u001b[1;32m      1\u001b[0m \u001b[38;5;66;03m# This won't work as the arrays are not broadcastable\u001b[39;00m\n\u001b[0;32m----> 2\u001b[0m \u001b[43mnp\u001b[49m\u001b[38;5;241;43m.\u001b[39;49m\u001b[43madd\u001b[49m\u001b[43m(\u001b[49m\u001b[43ma\u001b[49m\u001b[43m,\u001b[49m\u001b[43m \u001b[49m\u001b[43mb\u001b[49m\u001b[43m)\u001b[49m\n",
      "\u001b[0;31mValueError\u001b[0m: operands could not be broadcast together with shapes (2,4) (4,2) "
     ]
    }
   ],
   "source": [
    "# This won't work as the arrays are not broadcastable\n",
    "np.add(a, b)"
   ]
  },
  {
   "cell_type": "code",
   "execution_count": 62,
   "id": "5d390b0f",
   "metadata": {},
   "outputs": [
    {
     "data": {
      "text/plain": [
       "array([[11, 12, 13, 14],\n",
       "       [15, 16, 17, 18]])"
      ]
     },
     "execution_count": 62,
     "metadata": {},
     "output_type": "execute_result"
    }
   ],
   "source": [
    "# This will as the results can be broadcasted\n",
    "np.add(a, c)"
   ]
  },
  {
   "cell_type": "markdown",
   "id": "476009f5",
   "metadata": {},
   "source": [
    "## np.subtract"
   ]
  },
  {
   "cell_type": "code",
   "execution_count": 63,
   "id": "afd94e68",
   "metadata": {},
   "outputs": [
    {
     "data": {
      "text/plain": [
       "array([[0, 0, 0, 0],\n",
       "       [0, 0, 0, 0]])"
      ]
     },
     "execution_count": 63,
     "metadata": {},
     "output_type": "execute_result"
    }
   ],
   "source": [
    "# Same as add\n",
    "np.subtract(a, a)"
   ]
  },
  {
   "cell_type": "markdown",
   "id": "84fb55d8",
   "metadata": {},
   "source": [
    "## mod, multiply & divide"
   ]
  },
  {
   "cell_type": "code",
   "execution_count": 64,
   "id": "dc44ccd3",
   "metadata": {},
   "outputs": [
    {
     "data": {
      "text/plain": [
       "array([[0, 0, 1, 2],\n",
       "       [0, 4, 3, 2]])"
      ]
     },
     "execution_count": 64,
     "metadata": {},
     "output_type": "execute_result"
    }
   ],
   "source": [
    "np.mod(c, a)"
   ]
  },
  {
   "cell_type": "code",
   "execution_count": 65,
   "id": "d29dc499",
   "metadata": {},
   "outputs": [
    {
     "data": {
      "text/plain": [
       "array([[10, 20, 30, 40],\n",
       "       [50, 60, 70, 80]])"
      ]
     },
     "execution_count": 65,
     "metadata": {},
     "output_type": "execute_result"
    }
   ],
   "source": [
    "np.multiply(a, c)"
   ]
  },
  {
   "cell_type": "code",
   "execution_count": 66,
   "id": "b58f2ffd",
   "metadata": {},
   "outputs": [
    {
     "data": {
      "text/plain": [
       "array([[1., 1., 1., 1.],\n",
       "       [1., 1., 1., 1.]])"
      ]
     },
     "execution_count": 66,
     "metadata": {},
     "output_type": "execute_result"
    }
   ],
   "source": [
    "np.divide(a, a)"
   ]
  },
  {
   "cell_type": "code",
   "execution_count": 67,
   "id": "3fcddbe7",
   "metadata": {},
   "outputs": [],
   "source": [
    "z = np.nan"
   ]
  },
  {
   "cell_type": "code",
   "execution_count": 68,
   "id": "a27de3b2",
   "metadata": {},
   "outputs": [
    {
     "data": {
      "text/plain": [
       "nan"
      ]
     },
     "execution_count": 68,
     "metadata": {},
     "output_type": "execute_result"
    }
   ],
   "source": [
    "z"
   ]
  },
  {
   "cell_type": "markdown",
   "id": "cdeac036",
   "metadata": {},
   "source": [
    "## np.argmax"
   ]
  },
  {
   "cell_type": "code",
   "execution_count": 69,
   "id": "60cc8f5e",
   "metadata": {},
   "outputs": [
    {
     "name": "stdout",
     "output_type": "stream",
     "text": [
      "3\n",
      "3\n"
     ]
    }
   ],
   "source": [
    "for row in a:\n",
    "    print(np.argmax(row))"
   ]
  },
  {
   "cell_type": "code",
   "execution_count": 70,
   "id": "4457a805",
   "metadata": {},
   "outputs": [
    {
     "data": {
      "text/plain": [
       "7"
      ]
     },
     "execution_count": 70,
     "metadata": {},
     "output_type": "execute_result"
    }
   ],
   "source": [
    "# passing a 2d array it will convert it to 1d array first then give the index\n",
    "np.argmax(a)"
   ]
  },
  {
   "cell_type": "code",
   "execution_count": 71,
   "id": "bd26219d",
   "metadata": {},
   "outputs": [
    {
     "data": {
      "text/plain": [
       "0"
      ]
     },
     "execution_count": 71,
     "metadata": {},
     "output_type": "execute_result"
    }
   ],
   "source": [
    "np.argmin(a)"
   ]
  },
  {
   "cell_type": "markdown",
   "id": "8417dbc9",
   "metadata": {},
   "source": [
    "## np.polyfit()"
   ]
  },
  {
   "cell_type": "code",
   "execution_count": 72,
   "id": "ae6e9b47",
   "metadata": {},
   "outputs": [],
   "source": [
    "import matplotlib.pyplot as plt"
   ]
  },
  {
   "cell_type": "code",
   "execution_count": 73,
   "id": "52d86fd0",
   "metadata": {},
   "outputs": [],
   "source": [
    "# Dummy data points\n",
    "x = [1,2,3,4,5,6,7,8,9]\n",
    "y = [0,3,8,15,24,28,53,64,80]"
   ]
  },
  {
   "cell_type": "code",
   "execution_count": 74,
   "id": "d5d2b8e7",
   "metadata": {},
   "outputs": [],
   "source": [
    "coeff_lin = np.polyfit(x, y, deg=1)\n",
    "coeff_sqr = np.polyfit(x, y, deg=2)\n",
    "coeff_cub = np.polyfit(x, y, deg=3)"
   ]
  },
  {
   "cell_type": "code",
   "execution_count": 75,
   "id": "877ad482",
   "metadata": {},
   "outputs": [],
   "source": [
    "f_lin = np.poly1d(coeff_lin)\n",
    "f_sqr = np.poly1d(coeff_sqr)\n",
    "f_cub = np.poly1d(coeff_cub)"
   ]
  },
  {
   "cell_type": "code",
   "execution_count": 76,
   "id": "c27f3992",
   "metadata": {},
   "outputs": [],
   "source": [
    "# Use 0, 10 as they are 1 away from the limits of the x valkues of our datatpoints\n",
    "xx = np.linspace(0,10,1000)\n",
    "y_lin = f_lin(xx)\n",
    "y_sqr = f_sqr(xx)\n",
    "y_cub = f_cub(xx)"
   ]
  },
  {
   "cell_type": "code",
   "execution_count": 77,
   "id": "00ba28c6",
   "metadata": {},
   "outputs": [
    {
     "data": {
      "image/png": "[encoded data removed]",
      "text/plain": [
       "<Figure size 640x480 with 1 Axes>"
      ]
     },
     "metadata": {},
     "output_type": "display_data"
    }
   ],
   "source": [
    "plt.scatter(x,y,c='red',s=150,label='Data Points')\n",
    "plt.plot(xx,y_lin,c='green', label='linear fit')\n",
    "plt.plot(xx,y_sqr,c='blue',label='squared fit')\n",
    "plt.plot(xx,y_cub,c='purple', label='cubed fit')\n",
    "plt.legend()\n",
    "plt.show()"
   ]
  },
  {
   "cell_type": "markdown",
   "id": "0b4ca19c",
   "metadata": {},
   "source": [
    "## np.random.choice"
   ]
  },
  {
   "cell_type": "code",
   "execution_count": 78,
   "id": "74b777d3",
   "metadata": {},
   "outputs": [
    {
     "data": {
      "text/plain": [
       "array([0, 0, 1, 1, 1, 1, 0, 0, 0, 1, 1, 1, 1, 0, 1])"
      ]
     },
     "execution_count": 78,
     "metadata": {},
     "output_type": "execute_result"
    }
   ],
   "source": [
    "np.random.choice(2, 15)"
   ]
  },
  {
   "cell_type": "code",
   "execution_count": 79,
   "id": "f711bc15",
   "metadata": {},
   "outputs": [
    {
     "data": {
      "text/plain": [
       "array([1, 1, 1, 1, 1, 1, 1, 1, 1, 1, 1, 1, 1, 1, 1])"
      ]
     },
     "execution_count": 79,
     "metadata": {},
     "output_type": "execute_result"
    }
   ],
   "source": [
    "np.random.choice(2, 15, p=[0.05, 0.95])"
   ]
  },
  {
   "cell_type": "code",
   "execution_count": 80,
   "id": "7323e654",
   "metadata": {},
   "outputs": [
    {
     "data": {
      "text/plain": [
       "array(['lose', 'lose', 'lose', 'win', 'win'], dtype='<U4')"
      ]
     },
     "execution_count": 80,
     "metadata": {},
     "output_type": "execute_result"
    }
   ],
   "source": [
    "results = ['win', 'lose', 'draw']\n",
    "np.random.choice(results, 5, p=[.6,.3,.1])"
   ]
  },
  {
   "cell_type": "code",
   "execution_count": 81,
   "id": "1123a126",
   "metadata": {},
   "outputs": [
    {
     "data": {
      "text/plain": [
       "array([7, 8, 2, 6, 1, 0, 5, 4, 3, 9])"
      ]
     },
     "execution_count": 81,
     "metadata": {},
     "output_type": "execute_result"
    }
   ],
   "source": [
    "np.random.choice(10,10,replace=False)"
   ]
  },
  {
   "cell_type": "code",
   "execution_count": 82,
   "id": "e0f0ab79",
   "metadata": {},
   "outputs": [
    {
     "data": {
      "text/plain": [
       "1"
      ]
     },
     "execution_count": 82,
     "metadata": {},
     "output_type": "execute_result"
    }
   ],
   "source": [
    "np.random.choice(5)"
   ]
  },
  {
   "cell_type": "markdown",
   "id": "781407b5",
   "metadata": {},
   "source": [
    "## np.linspace"
   ]
  },
  {
   "cell_type": "code",
   "execution_count": 83,
   "id": "92451189",
   "metadata": {},
   "outputs": [
    {
     "data": {
      "text/plain": [
       "array([2.  , 2.25, 2.5 , 2.75, 3.  ])"
      ]
     },
     "execution_count": 83,
     "metadata": {},
     "output_type": "execute_result"
    }
   ],
   "source": [
    "np.linspace(2.0, 3.0, num=5)"
   ]
  },
  {
   "cell_type": "code",
   "execution_count": 84,
   "id": "f2a3691f",
   "metadata": {},
   "outputs": [
    {
     "data": {
      "text/plain": [
       "array([2. , 2.2, 2.4, 2.6, 2.8])"
      ]
     },
     "execution_count": 84,
     "metadata": {},
     "output_type": "execute_result"
    }
   ],
   "source": [
    "np.linspace(2.0, 3.0, num=5, endpoint=False)"
   ]
  },
  {
   "cell_type": "code",
   "execution_count": 85,
   "id": "6a414331",
   "metadata": {},
   "outputs": [
    {
     "data": {
      "text/plain": [
       "(array([2.  , 2.25, 2.5 , 2.75, 3.  ]), 0.25)"
      ]
     },
     "execution_count": 85,
     "metadata": {},
     "output_type": "execute_result"
    }
   ],
   "source": [
    "np.linspace(2.0, 3.0, num=5, retstep=True)"
   ]
  },
  {
   "cell_type": "code",
   "execution_count": 90,
   "id": "a20d0b49",
   "metadata": {},
   "outputs": [
    {
     "data": {
      "text/plain": [
       "(array([177.        , 177.63333333, 178.26666667, 178.9       ,\n",
       "        179.53333333, 180.16666667, 180.8       ]),\n",
       " 0.6333333333333352)"
      ]
     },
     "execution_count": 90,
     "metadata": {},
     "output_type": "execute_result"
    }
   ],
   "source": [
    "np.linspace(177, 180.8, num=7, retstep=True)"
   ]
  },
  {
   "cell_type": "markdown",
   "id": "9b92ef90",
   "metadata": {},
   "source": [
    "# Pandas functions"
   ]
  },
  {
   "cell_type": "code",
   "execution_count": null,
   "id": "2afdc019",
   "metadata": {},
   "outputs": [],
   "source": []
  }
 ],
 "metadata": {
  "kernelspec": {
   "display_name": "Python 3 (ipykernel)",
   "language": "python",
   "name": "python3"
  },
  "language_info": {
   "codemirror_mode": {
    "name": "ipython",
    "version": 3
   },
   "file_extension": ".py",
   "mimetype": "text/x-python",
   "name": "python",
   "nbconvert_exporter": "python",
   "pygments_lexer": "ipython3",
   "version": "3.10.9"
  }
 },
 "nbformat": 4,
 "nbformat_minor": 5
}
