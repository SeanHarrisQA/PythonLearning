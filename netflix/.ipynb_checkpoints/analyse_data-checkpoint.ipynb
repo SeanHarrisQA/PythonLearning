{
 "cells": [
  {
   "cell_type": "code",
   "execution_count": 1,
   "id": "3e866391",
   "metadata": {},
   "outputs": [],
   "source": [
    "import pandas as pd"
   ]
  },
  {
   "cell_type": "code",
   "execution_count": 2,
   "id": "1864588e",
   "metadata": {},
   "outputs": [],
   "source": [
    "df = pd.read_csv('ViewingActivity-sample.csv')"
   ]
  },
  {
   "cell_type": "code",
   "execution_count": 3,
   "id": "c089be17",
   "metadata": {},
   "outputs": [
    {
     "data": {
      "text/plain": [
       "(200, 10)"
      ]
     },
     "execution_count": 3,
     "metadata": {},
     "output_type": "execute_result"
    }
   ],
   "source": [
    "df.shape"
   ]
  },
  {
   "cell_type": "code",
   "execution_count": 4,
   "id": "cbb9c652",
   "metadata": {},
   "outputs": [
    {
     "data": {
      "text/html": [
       "<div>\n",
       "<style scoped>\n",
       "    .dataframe tbody tr th:only-of-type {\n",
       "        vertical-align: middle;\n",
       "    }\n",
       "\n",
       "    .dataframe tbody tr th {\n",
       "        vertical-align: top;\n",
       "    }\n",
       "\n",
       "    .dataframe thead th {\n",
       "        text-align: right;\n",
       "    }\n",
       "</style>\n",
       "<table border=\"1\" class=\"dataframe\">\n",
       "  <thead>\n",
       "    <tr style=\"text-align: right;\">\n",
       "      <th></th>\n",
       "      <th>Profile Name</th>\n",
       "      <th>Start Time</th>\n",
       "      <th>Duration</th>\n",
       "      <th>Attributes</th>\n",
       "      <th>Title</th>\n",
       "      <th>Supplemental Video Type</th>\n",
       "      <th>Device Type</th>\n",
       "      <th>Bookmark</th>\n",
       "      <th>Latest Bookmark</th>\n",
       "      <th>Country</th>\n",
       "    </tr>\n",
       "  </thead>\n",
       "  <tbody>\n",
       "    <tr>\n",
       "      <th>0</th>\n",
       "      <td>Charlie</td>\n",
       "      <td>2013-03-20 5:17:53</td>\n",
       "      <td>0:00:05</td>\n",
       "      <td>NaN</td>\n",
       "      <td>Star Trek: Deep Space Nine: Season 5: Empok No...</td>\n",
       "      <td>NaN</td>\n",
       "      <td>Mac</td>\n",
       "      <td>0:00:05</td>\n",
       "      <td>Not latest view</td>\n",
       "      <td>US (United States)</td>\n",
       "    </tr>\n",
       "    <tr>\n",
       "      <th>1</th>\n",
       "      <td>Charlie</td>\n",
       "      <td>2013-03-20 4:27:45</td>\n",
       "      <td>0:44:31</td>\n",
       "      <td>NaN</td>\n",
       "      <td>Star Trek: Deep Space Nine: Season 5: Blaze of...</td>\n",
       "      <td>NaN</td>\n",
       "      <td>Mac</td>\n",
       "      <td>0:44:31</td>\n",
       "      <td>Not latest view</td>\n",
       "      <td>US (United States)</td>\n",
       "    </tr>\n",
       "    <tr>\n",
       "      <th>2</th>\n",
       "      <td>Charlie</td>\n",
       "      <td>2013-03-20 4:05:21</td>\n",
       "      <td>0:22:06</td>\n",
       "      <td>NaN</td>\n",
       "      <td>Star Trek: Deep Space Nine: Season 5: Children...</td>\n",
       "      <td>NaN</td>\n",
       "      <td>Mac</td>\n",
       "      <td>0:44:37</td>\n",
       "      <td>0:44:37</td>\n",
       "      <td>US (United States)</td>\n",
       "    </tr>\n",
       "    <tr>\n",
       "      <th>3</th>\n",
       "      <td>Charlie</td>\n",
       "      <td>2013-03-20 0:20:03</td>\n",
       "      <td>0:48:14</td>\n",
       "      <td>NaN</td>\n",
       "      <td>The Invisible War</td>\n",
       "      <td>NaN</td>\n",
       "      <td>Microsoft Xbox 360</td>\n",
       "      <td>0:53:18</td>\n",
       "      <td>0:53:18</td>\n",
       "      <td>US (United States)</td>\n",
       "    </tr>\n",
       "    <tr>\n",
       "      <th>4</th>\n",
       "      <td>Charlie</td>\n",
       "      <td>2013-03-20 0:10:31</td>\n",
       "      <td>0:04:51</td>\n",
       "      <td>NaN</td>\n",
       "      <td>The Invisible War</td>\n",
       "      <td>NaN</td>\n",
       "      <td>Mac</td>\n",
       "      <td>0:05:01</td>\n",
       "      <td>Not latest view</td>\n",
       "      <td>US (United States)</td>\n",
       "    </tr>\n",
       "  </tbody>\n",
       "</table>\n",
       "</div>"
      ],
      "text/plain": [
       "  Profile Name          Start Time Duration  Attributes  \\\n",
       "0      Charlie  2013-03-20 5:17:53  0:00:05         NaN   \n",
       "1      Charlie  2013-03-20 4:27:45  0:44:31         NaN   \n",
       "2      Charlie  2013-03-20 4:05:21  0:22:06         NaN   \n",
       "3      Charlie  2013-03-20 0:20:03  0:48:14         NaN   \n",
       "4      Charlie  2013-03-20 0:10:31  0:04:51         NaN   \n",
       "\n",
       "                                               Title  Supplemental Video Type  \\\n",
       "0  Star Trek: Deep Space Nine: Season 5: Empok No...                      NaN   \n",
       "1  Star Trek: Deep Space Nine: Season 5: Blaze of...                      NaN   \n",
       "2  Star Trek: Deep Space Nine: Season 5: Children...                      NaN   \n",
       "3                                  The Invisible War                      NaN   \n",
       "4                                  The Invisible War                      NaN   \n",
       "\n",
       "          Device Type Bookmark  Latest Bookmark             Country  \n",
       "0                 Mac  0:00:05  Not latest view  US (United States)  \n",
       "1                 Mac  0:44:31  Not latest view  US (United States)  \n",
       "2                 Mac  0:44:37          0:44:37  US (United States)  \n",
       "3  Microsoft Xbox 360  0:53:18          0:53:18  US (United States)  \n",
       "4                 Mac  0:05:01  Not latest view  US (United States)  "
      ]
     },
     "execution_count": 4,
     "metadata": {},
     "output_type": "execute_result"
    }
   ],
   "source": [
    "df.head(5)"
   ]
  },
  {
   "cell_type": "code",
   "execution_count": 5,
   "id": "59930b87",
   "metadata": {},
   "outputs": [],
   "source": [
    "df = df.drop(['Profile Name', 'Attributes', 'Supplemental Video Type', 'Device Type', 'Bookmark', 'Latest Bookmark', 'Country'], axis=1)"
   ]
  },
  {
   "cell_type": "code",
   "execution_count": 6,
   "id": "816a0f8c",
   "metadata": {},
   "outputs": [
    {
     "data": {
      "text/html": [
       "<div>\n",
       "<style scoped>\n",
       "    .dataframe tbody tr th:only-of-type {\n",
       "        vertical-align: middle;\n",
       "    }\n",
       "\n",
       "    .dataframe tbody tr th {\n",
       "        vertical-align: top;\n",
       "    }\n",
       "\n",
       "    .dataframe thead th {\n",
       "        text-align: right;\n",
       "    }\n",
       "</style>\n",
       "<table border=\"1\" class=\"dataframe\">\n",
       "  <thead>\n",
       "    <tr style=\"text-align: right;\">\n",
       "      <th></th>\n",
       "      <th>Start Time</th>\n",
       "      <th>Duration</th>\n",
       "      <th>Title</th>\n",
       "    </tr>\n",
       "  </thead>\n",
       "  <tbody>\n",
       "    <tr>\n",
       "      <th>0</th>\n",
       "      <td>2013-03-20 5:17:53</td>\n",
       "      <td>0:00:05</td>\n",
       "      <td>Star Trek: Deep Space Nine: Season 5: Empok No...</td>\n",
       "    </tr>\n",
       "    <tr>\n",
       "      <th>1</th>\n",
       "      <td>2013-03-20 4:27:45</td>\n",
       "      <td>0:44:31</td>\n",
       "      <td>Star Trek: Deep Space Nine: Season 5: Blaze of...</td>\n",
       "    </tr>\n",
       "    <tr>\n",
       "      <th>2</th>\n",
       "      <td>2013-03-20 4:05:21</td>\n",
       "      <td>0:22:06</td>\n",
       "      <td>Star Trek: Deep Space Nine: Season 5: Children...</td>\n",
       "    </tr>\n",
       "    <tr>\n",
       "      <th>3</th>\n",
       "      <td>2013-03-20 0:20:03</td>\n",
       "      <td>0:48:14</td>\n",
       "      <td>The Invisible War</td>\n",
       "    </tr>\n",
       "    <tr>\n",
       "      <th>4</th>\n",
       "      <td>2013-03-20 0:10:31</td>\n",
       "      <td>0:04:51</td>\n",
       "      <td>The Invisible War</td>\n",
       "    </tr>\n",
       "  </tbody>\n",
       "</table>\n",
       "</div>"
      ],
      "text/plain": [
       "           Start Time Duration  \\\n",
       "0  2013-03-20 5:17:53  0:00:05   \n",
       "1  2013-03-20 4:27:45  0:44:31   \n",
       "2  2013-03-20 4:05:21  0:22:06   \n",
       "3  2013-03-20 0:20:03  0:48:14   \n",
       "4  2013-03-20 0:10:31  0:04:51   \n",
       "\n",
       "                                               Title  \n",
       "0  Star Trek: Deep Space Nine: Season 5: Empok No...  \n",
       "1  Star Trek: Deep Space Nine: Season 5: Blaze of...  \n",
       "2  Star Trek: Deep Space Nine: Season 5: Children...  \n",
       "3                                  The Invisible War  \n",
       "4                                  The Invisible War  "
      ]
     },
     "execution_count": 6,
     "metadata": {},
     "output_type": "execute_result"
    }
   ],
   "source": [
    "df.head(5)"
   ]
  },
  {
   "cell_type": "code",
   "execution_count": 7,
   "id": "dac7ec81",
   "metadata": {},
   "outputs": [
    {
     "data": {
      "text/plain": [
       "Start Time    object\n",
       "Duration      object\n",
       "Title         object\n",
       "dtype: object"
      ]
     },
     "execution_count": 7,
     "metadata": {},
     "output_type": "execute_result"
    }
   ],
   "source": [
    "df.dtypes"
   ]
  },
  {
   "cell_type": "code",
   "execution_count": 8,
   "id": "ed572103",
   "metadata": {},
   "outputs": [],
   "source": [
    "df['Start Time'] = pd.to_datetime(df['Start Time'], utc=True)"
   ]
  },
  {
   "cell_type": "code",
   "execution_count": 9,
   "id": "7485e7f2",
   "metadata": {},
   "outputs": [
    {
     "data": {
      "text/plain": [
       "Start Time    datetime64[ns, UTC]\n",
       "Duration                   object\n",
       "Title                      object\n",
       "dtype: object"
      ]
     },
     "execution_count": 9,
     "metadata": {},
     "output_type": "execute_result"
    }
   ],
   "source": [
    "df.dtypes"
   ]
  },
  {
   "cell_type": "code",
   "execution_count": 10,
   "id": "ece55c87",
   "metadata": {},
   "outputs": [],
   "source": [
    "df = df.set_index('Start Time')"
   ]
  },
  {
   "cell_type": "code",
   "execution_count": 11,
   "id": "d6ce7a51",
   "metadata": {},
   "outputs": [
    {
     "data": {
      "text/plain": [
       "Duration    object\n",
       "Title       object\n",
       "dtype: object"
      ]
     },
     "execution_count": 11,
     "metadata": {},
     "output_type": "execute_result"
    }
   ],
   "source": [
    "df.dtypes"
   ]
  },
  {
   "cell_type": "code",
   "execution_count": 12,
   "id": "9549e2db",
   "metadata": {},
   "outputs": [],
   "source": [
    "df.index = df.index.tz_convert('Europe/London')"
   ]
  },
  {
   "cell_type": "code",
   "execution_count": 13,
   "id": "d59017fd",
   "metadata": {},
   "outputs": [],
   "source": [
    "df = df.reset_index()"
   ]
  },
  {
   "cell_type": "code",
   "execution_count": 14,
   "id": "af0fb61c",
   "metadata": {},
   "outputs": [
    {
     "data": {
      "text/plain": [
       "Start Time    datetime64[ns, Europe/London]\n",
       "Duration                             object\n",
       "Title                                object\n",
       "dtype: object"
      ]
     },
     "execution_count": 14,
     "metadata": {},
     "output_type": "execute_result"
    }
   ],
   "source": [
    "df.dtypes"
   ]
  },
  {
   "cell_type": "code",
   "execution_count": 15,
   "id": "a6875067",
   "metadata": {},
   "outputs": [
    {
     "data": {
      "text/html": [
       "<div>\n",
       "<style scoped>\n",
       "    .dataframe tbody tr th:only-of-type {\n",
       "        vertical-align: middle;\n",
       "    }\n",
       "\n",
       "    .dataframe tbody tr th {\n",
       "        vertical-align: top;\n",
       "    }\n",
       "\n",
       "    .dataframe thead th {\n",
       "        text-align: right;\n",
       "    }\n",
       "</style>\n",
       "<table border=\"1\" class=\"dataframe\">\n",
       "  <thead>\n",
       "    <tr style=\"text-align: right;\">\n",
       "      <th></th>\n",
       "      <th>Start Time</th>\n",
       "      <th>Duration</th>\n",
       "      <th>Title</th>\n",
       "    </tr>\n",
       "  </thead>\n",
       "  <tbody>\n",
       "    <tr>\n",
       "      <th>0</th>\n",
       "      <td>2013-03-20 05:17:53+00:00</td>\n",
       "      <td>0:00:05</td>\n",
       "      <td>Star Trek: Deep Space Nine: Season 5: Empok No...</td>\n",
       "    </tr>\n",
       "    <tr>\n",
       "      <th>1</th>\n",
       "      <td>2013-03-20 04:27:45+00:00</td>\n",
       "      <td>0:44:31</td>\n",
       "      <td>Star Trek: Deep Space Nine: Season 5: Blaze of...</td>\n",
       "    </tr>\n",
       "    <tr>\n",
       "      <th>2</th>\n",
       "      <td>2013-03-20 04:05:21+00:00</td>\n",
       "      <td>0:22:06</td>\n",
       "      <td>Star Trek: Deep Space Nine: Season 5: Children...</td>\n",
       "    </tr>\n",
       "    <tr>\n",
       "      <th>3</th>\n",
       "      <td>2013-03-20 00:20:03+00:00</td>\n",
       "      <td>0:48:14</td>\n",
       "      <td>The Invisible War</td>\n",
       "    </tr>\n",
       "    <tr>\n",
       "      <th>4</th>\n",
       "      <td>2013-03-20 00:10:31+00:00</td>\n",
       "      <td>0:04:51</td>\n",
       "      <td>The Invisible War</td>\n",
       "    </tr>\n",
       "  </tbody>\n",
       "</table>\n",
       "</div>"
      ],
      "text/plain": [
       "                 Start Time Duration  \\\n",
       "0 2013-03-20 05:17:53+00:00  0:00:05   \n",
       "1 2013-03-20 04:27:45+00:00  0:44:31   \n",
       "2 2013-03-20 04:05:21+00:00  0:22:06   \n",
       "3 2013-03-20 00:20:03+00:00  0:48:14   \n",
       "4 2013-03-20 00:10:31+00:00  0:04:51   \n",
       "\n",
       "                                               Title  \n",
       "0  Star Trek: Deep Space Nine: Season 5: Empok No...  \n",
       "1  Star Trek: Deep Space Nine: Season 5: Blaze of...  \n",
       "2  Star Trek: Deep Space Nine: Season 5: Children...  \n",
       "3                                  The Invisible War  \n",
       "4                                  The Invisible War  "
      ]
     },
     "execution_count": 15,
     "metadata": {},
     "output_type": "execute_result"
    }
   ],
   "source": [
    "df.head(5)"
   ]
  },
  {
   "cell_type": "code",
   "execution_count": 16,
   "id": "508d43dd",
   "metadata": {},
   "outputs": [
    {
     "data": {
      "text/plain": [
       "Start Time    datetime64[ns, Europe/London]\n",
       "Duration                    timedelta64[ns]\n",
       "Title                                object\n",
       "dtype: object"
      ]
     },
     "execution_count": 16,
     "metadata": {},
     "output_type": "execute_result"
    }
   ],
   "source": [
    "df['Duration'] = pd.to_timedelta(df['Duration'])\n",
    "df.dtypes"
   ]
  },
  {
   "cell_type": "code",
   "execution_count": 17,
   "id": "d28e22ba",
   "metadata": {},
   "outputs": [],
   "source": [
    "office = df[df['Title'].str.contains('The Office (U.S.)', regex=False)]"
   ]
  },
  {
   "cell_type": "code",
   "execution_count": 18,
   "id": "9fa47958",
   "metadata": {},
   "outputs": [
    {
     "data": {
      "text/html": [
       "<div>\n",
       "<style scoped>\n",
       "    .dataframe tbody tr th:only-of-type {\n",
       "        vertical-align: middle;\n",
       "    }\n",
       "\n",
       "    .dataframe tbody tr th {\n",
       "        vertical-align: top;\n",
       "    }\n",
       "\n",
       "    .dataframe thead th {\n",
       "        text-align: right;\n",
       "    }\n",
       "</style>\n",
       "<table border=\"1\" class=\"dataframe\">\n",
       "  <thead>\n",
       "    <tr style=\"text-align: right;\">\n",
       "      <th></th>\n",
       "      <th>Start Time</th>\n",
       "      <th>Duration</th>\n",
       "      <th>Title</th>\n",
       "    </tr>\n",
       "  </thead>\n",
       "  <tbody>\n",
       "    <tr>\n",
       "      <th>9</th>\n",
       "      <td>2013-03-18 23:25:36+00:00</td>\n",
       "      <td>0 days 00:00:02</td>\n",
       "      <td>The Office (U.S.): Season 5: The Duel (Episode...</td>\n",
       "    </tr>\n",
       "    <tr>\n",
       "      <th>10</th>\n",
       "      <td>2013-03-18 23:04:22+00:00</td>\n",
       "      <td>0 days 00:21:07</td>\n",
       "      <td>The Office (U.S.): Season 5: Moroccan Christma...</td>\n",
       "    </tr>\n",
       "    <tr>\n",
       "      <th>11</th>\n",
       "      <td>2013-03-18 22:42:50+00:00</td>\n",
       "      <td>0 days 00:21:30</td>\n",
       "      <td>The Office (U.S.): Season 5: The Surplus (Epis...</td>\n",
       "    </tr>\n",
       "    <tr>\n",
       "      <th>12</th>\n",
       "      <td>2013-03-18 22:21:52+00:00</td>\n",
       "      <td>0 days 00:20:55</td>\n",
       "      <td>The Office (U.S.): Season 5: Frame Toby (Episo...</td>\n",
       "    </tr>\n",
       "    <tr>\n",
       "      <th>13</th>\n",
       "      <td>2013-03-18 22:20:53+00:00</td>\n",
       "      <td>0 days 00:00:55</td>\n",
       "      <td>The Office (U.S.): Season 5: Business Trip (Ep...</td>\n",
       "    </tr>\n",
       "  </tbody>\n",
       "</table>\n",
       "</div>"
      ],
      "text/plain": [
       "                  Start Time        Duration  \\\n",
       "9  2013-03-18 23:25:36+00:00 0 days 00:00:02   \n",
       "10 2013-03-18 23:04:22+00:00 0 days 00:21:07   \n",
       "11 2013-03-18 22:42:50+00:00 0 days 00:21:30   \n",
       "12 2013-03-18 22:21:52+00:00 0 days 00:20:55   \n",
       "13 2013-03-18 22:20:53+00:00 0 days 00:00:55   \n",
       "\n",
       "                                                Title  \n",
       "9   The Office (U.S.): Season 5: The Duel (Episode...  \n",
       "10  The Office (U.S.): Season 5: Moroccan Christma...  \n",
       "11  The Office (U.S.): Season 5: The Surplus (Epis...  \n",
       "12  The Office (U.S.): Season 5: Frame Toby (Episo...  \n",
       "13  The Office (U.S.): Season 5: Business Trip (Ep...  "
      ]
     },
     "execution_count": 18,
     "metadata": {},
     "output_type": "execute_result"
    }
   ],
   "source": [
    "office.head(5)"
   ]
  },
  {
   "cell_type": "code",
   "execution_count": 19,
   "id": "e55690d3",
   "metadata": {},
   "outputs": [
    {
     "data": {
      "text/html": [
       "<div>\n",
       "<style scoped>\n",
       "    .dataframe tbody tr th:only-of-type {\n",
       "        vertical-align: middle;\n",
       "    }\n",
       "\n",
       "    .dataframe tbody tr th {\n",
       "        vertical-align: top;\n",
       "    }\n",
       "\n",
       "    .dataframe thead th {\n",
       "        text-align: right;\n",
       "    }\n",
       "</style>\n",
       "<table border=\"1\" class=\"dataframe\">\n",
       "  <thead>\n",
       "    <tr style=\"text-align: right;\">\n",
       "      <th></th>\n",
       "      <th>Start Time</th>\n",
       "      <th>Duration</th>\n",
       "      <th>Title</th>\n",
       "    </tr>\n",
       "  </thead>\n",
       "  <tbody>\n",
       "    <tr>\n",
       "      <th>83</th>\n",
       "      <td>2013-03-12 23:44:15+00:00</td>\n",
       "      <td>0 days 00:10:42</td>\n",
       "      <td>The Office (U.S.): Season 3: The Coup (Episode 3)</td>\n",
       "    </tr>\n",
       "    <tr>\n",
       "      <th>112</th>\n",
       "      <td>2013-03-11 06:30:51+00:00</td>\n",
       "      <td>0 days 00:05:57</td>\n",
       "      <td>The Office (U.S.): Season 2: The Fight (Episod...</td>\n",
       "    </tr>\n",
       "    <tr>\n",
       "      <th>107</th>\n",
       "      <td>2013-03-11 21:23:25+00:00</td>\n",
       "      <td>0 days 00:21:02</td>\n",
       "      <td>The Office (U.S.): Season 2: Performance Revie...</td>\n",
       "    </tr>\n",
       "    <tr>\n",
       "      <th>136</th>\n",
       "      <td>2013-03-09 23:03:25+00:00</td>\n",
       "      <td>0 days 00:21:45</td>\n",
       "      <td>The Office (U.S.): Season 7: PDA (Episode 16)</td>\n",
       "    </tr>\n",
       "    <tr>\n",
       "      <th>25</th>\n",
       "      <td>2013-03-17 05:10:14+00:00</td>\n",
       "      <td>0 days 00:20:18</td>\n",
       "      <td>The Office (U.S.): Season 4: Job Fair (Episode...</td>\n",
       "    </tr>\n",
       "    <tr>\n",
       "      <th>133</th>\n",
       "      <td>2013-03-10 01:25:05+00:00</td>\n",
       "      <td>0 days 00:21:29</td>\n",
       "      <td>The Office (U.S.): Season 7: Training Day (Epi...</td>\n",
       "    </tr>\n",
       "    <tr>\n",
       "      <th>113</th>\n",
       "      <td>2013-03-11 06:09:15+00:00</td>\n",
       "      <td>0 days 00:21:31</td>\n",
       "      <td>The Office (U.S.): Season 2: Halloween (Episod...</td>\n",
       "    </tr>\n",
       "    <tr>\n",
       "      <th>14</th>\n",
       "      <td>2013-03-18 20:29:22+00:00</td>\n",
       "      <td>0 days 00:20:15</td>\n",
       "      <td>The Office (U.S.): Season 5: Business Trip (Ep...</td>\n",
       "    </tr>\n",
       "    <tr>\n",
       "      <th>21</th>\n",
       "      <td>2013-03-18 05:35:10+00:00</td>\n",
       "      <td>0 days 00:05:20</td>\n",
       "      <td>The Office (U.S.): Season 5: Weight Loss: Part...</td>\n",
       "    </tr>\n",
       "    <tr>\n",
       "      <th>78</th>\n",
       "      <td>2013-03-13 03:52:19+00:00</td>\n",
       "      <td>0 days 00:20:56</td>\n",
       "      <td>The Office (U.S.): Season 3: Initiation (Episo...</td>\n",
       "    </tr>\n",
       "    <tr>\n",
       "      <th>111</th>\n",
       "      <td>2013-03-11 16:19:38+00:00</td>\n",
       "      <td>0 days 00:15:37</td>\n",
       "      <td>The Office (U.S.): Season 2: The Fight (Episod...</td>\n",
       "    </tr>\n",
       "    <tr>\n",
       "      <th>74</th>\n",
       "      <td>2013-03-13 05:55:54+00:00</td>\n",
       "      <td>0 days 00:21:08</td>\n",
       "      <td>The Office (U.S.): Season 3: The Convict (Epis...</td>\n",
       "    </tr>\n",
       "    <tr>\n",
       "      <th>82</th>\n",
       "      <td>2013-03-12 23:55:02+00:00</td>\n",
       "      <td>0 days 00:09:37</td>\n",
       "      <td>The Office (U.S.): Season 3: Grief Counseling ...</td>\n",
       "    </tr>\n",
       "    <tr>\n",
       "      <th>10</th>\n",
       "      <td>2013-03-18 23:04:22+00:00</td>\n",
       "      <td>0 days 00:21:07</td>\n",
       "      <td>The Office (U.S.): Season 5: Moroccan Christma...</td>\n",
       "    </tr>\n",
       "    <tr>\n",
       "      <th>76</th>\n",
       "      <td>2013-03-13 04:34:16+00:00</td>\n",
       "      <td>0 days 00:29:55</td>\n",
       "      <td>The Office (U.S.): Season 3: Branch Closing (E...</td>\n",
       "    </tr>\n",
       "    <tr>\n",
       "      <th>19</th>\n",
       "      <td>2013-03-18 17:54:26+00:00</td>\n",
       "      <td>0 days 00:21:15</td>\n",
       "      <td>The Office (U.S.): Season 5: Business Ethics (...</td>\n",
       "    </tr>\n",
       "    <tr>\n",
       "      <th>72</th>\n",
       "      <td>2013-03-13 17:30:04+00:00</td>\n",
       "      <td>0 days 00:11:05</td>\n",
       "      <td>The Office (U.S.): Season 3: A Benihana Christ...</td>\n",
       "    </tr>\n",
       "    <tr>\n",
       "      <th>87</th>\n",
       "      <td>2013-03-12 15:55:04+00:00</td>\n",
       "      <td>0 days 00:21:40</td>\n",
       "      <td>The Office (U.S.): Season 3: Gay Witch Hunt (E...</td>\n",
       "    </tr>\n",
       "    <tr>\n",
       "      <th>30</th>\n",
       "      <td>2013-03-16 19:31:01+00:00</td>\n",
       "      <td>0 days 00:21:54</td>\n",
       "      <td>The Office (U.S.): Season 4: Dinner Party (Epi...</td>\n",
       "    </tr>\n",
       "    <tr>\n",
       "      <th>75</th>\n",
       "      <td>2013-03-13 05:26:23+00:00</td>\n",
       "      <td>0 days 00:29:28</td>\n",
       "      <td>The Office (U.S.): Season 3: The Merger (Episo...</td>\n",
       "    </tr>\n",
       "  </tbody>\n",
       "</table>\n",
       "</div>"
      ],
      "text/plain": [
       "                   Start Time        Duration  \\\n",
       "83  2013-03-12 23:44:15+00:00 0 days 00:10:42   \n",
       "112 2013-03-11 06:30:51+00:00 0 days 00:05:57   \n",
       "107 2013-03-11 21:23:25+00:00 0 days 00:21:02   \n",
       "136 2013-03-09 23:03:25+00:00 0 days 00:21:45   \n",
       "25  2013-03-17 05:10:14+00:00 0 days 00:20:18   \n",
       "133 2013-03-10 01:25:05+00:00 0 days 00:21:29   \n",
       "113 2013-03-11 06:09:15+00:00 0 days 00:21:31   \n",
       "14  2013-03-18 20:29:22+00:00 0 days 00:20:15   \n",
       "21  2013-03-18 05:35:10+00:00 0 days 00:05:20   \n",
       "78  2013-03-13 03:52:19+00:00 0 days 00:20:56   \n",
       "111 2013-03-11 16:19:38+00:00 0 days 00:15:37   \n",
       "74  2013-03-13 05:55:54+00:00 0 days 00:21:08   \n",
       "82  2013-03-12 23:55:02+00:00 0 days 00:09:37   \n",
       "10  2013-03-18 23:04:22+00:00 0 days 00:21:07   \n",
       "76  2013-03-13 04:34:16+00:00 0 days 00:29:55   \n",
       "19  2013-03-18 17:54:26+00:00 0 days 00:21:15   \n",
       "72  2013-03-13 17:30:04+00:00 0 days 00:11:05   \n",
       "87  2013-03-12 15:55:04+00:00 0 days 00:21:40   \n",
       "30  2013-03-16 19:31:01+00:00 0 days 00:21:54   \n",
       "75  2013-03-13 05:26:23+00:00 0 days 00:29:28   \n",
       "\n",
       "                                                 Title  \n",
       "83   The Office (U.S.): Season 3: The Coup (Episode 3)  \n",
       "112  The Office (U.S.): Season 2: The Fight (Episod...  \n",
       "107  The Office (U.S.): Season 2: Performance Revie...  \n",
       "136      The Office (U.S.): Season 7: PDA (Episode 16)  \n",
       "25   The Office (U.S.): Season 4: Job Fair (Episode...  \n",
       "133  The Office (U.S.): Season 7: Training Day (Epi...  \n",
       "113  The Office (U.S.): Season 2: Halloween (Episod...  \n",
       "14   The Office (U.S.): Season 5: Business Trip (Ep...  \n",
       "21   The Office (U.S.): Season 5: Weight Loss: Part...  \n",
       "78   The Office (U.S.): Season 3: Initiation (Episo...  \n",
       "111  The Office (U.S.): Season 2: The Fight (Episod...  \n",
       "74   The Office (U.S.): Season 3: The Convict (Epis...  \n",
       "82   The Office (U.S.): Season 3: Grief Counseling ...  \n",
       "10   The Office (U.S.): Season 5: Moroccan Christma...  \n",
       "76   The Office (U.S.): Season 3: Branch Closing (E...  \n",
       "19   The Office (U.S.): Season 5: Business Ethics (...  \n",
       "72   The Office (U.S.): Season 3: A Benihana Christ...  \n",
       "87   The Office (U.S.): Season 3: Gay Witch Hunt (E...  \n",
       "30   The Office (U.S.): Season 4: Dinner Party (Epi...  \n",
       "75   The Office (U.S.): Season 3: The Merger (Episo...  "
      ]
     },
     "execution_count": 19,
     "metadata": {},
     "output_type": "execute_result"
    }
   ],
   "source": [
    "office.sample(20)"
   ]
  },
  {
   "cell_type": "code",
   "execution_count": 20,
   "id": "3ca48bd4",
   "metadata": {},
   "outputs": [
    {
     "data": {
      "text/plain": [
       "(137, 3)"
      ]
     },
     "execution_count": 20,
     "metadata": {},
     "output_type": "execute_result"
    }
   ],
   "source": [
    "office.shape"
   ]
  },
  {
   "cell_type": "code",
   "execution_count": 21,
   "id": "84a513e3",
   "metadata": {},
   "outputs": [
    {
     "data": {
      "text/plain": [
       "(130, 3)"
      ]
     },
     "execution_count": 21,
     "metadata": {},
     "output_type": "execute_result"
    }
   ],
   "source": [
    "office = office[(office['Duration'] > '0 days 00:01:00')]\n",
    "office.shape"
   ]
  },
  {
   "cell_type": "code",
   "execution_count": 22,
   "id": "53552047",
   "metadata": {},
   "outputs": [
    {
     "data": {
      "text/plain": [
       "Timedelta('1 days 14:57:28')"
      ]
     },
     "execution_count": 22,
     "metadata": {},
     "output_type": "execute_result"
    }
   ],
   "source": [
    "office['Duration'].sum()"
   ]
  },
  {
   "cell_type": "code",
   "execution_count": 23,
   "id": "5b3709cd",
   "metadata": {},
   "outputs": [],
   "source": [
    "office['weekday'] = office['Start Time'].dt.weekday\n",
    "office['hour'] = office['Start Time'].dt.hour"
   ]
  },
  {
   "cell_type": "code",
   "execution_count": 24,
   "id": "2ef5558e",
   "metadata": {},
   "outputs": [
    {
     "data": {
      "text/html": [
       "<div>\n",
       "<style scoped>\n",
       "    .dataframe tbody tr th:only-of-type {\n",
       "        vertical-align: middle;\n",
       "    }\n",
       "\n",
       "    .dataframe tbody tr th {\n",
       "        vertical-align: top;\n",
       "    }\n",
       "\n",
       "    .dataframe thead th {\n",
       "        text-align: right;\n",
       "    }\n",
       "</style>\n",
       "<table border=\"1\" class=\"dataframe\">\n",
       "  <thead>\n",
       "    <tr style=\"text-align: right;\">\n",
       "      <th></th>\n",
       "      <th>Start Time</th>\n",
       "      <th>Duration</th>\n",
       "      <th>Title</th>\n",
       "      <th>weekday</th>\n",
       "      <th>hour</th>\n",
       "    </tr>\n",
       "  </thead>\n",
       "  <tbody>\n",
       "    <tr>\n",
       "      <th>10</th>\n",
       "      <td>2013-03-18 23:04:22+00:00</td>\n",
       "      <td>0 days 00:21:07</td>\n",
       "      <td>The Office (U.S.): Season 5: Moroccan Christma...</td>\n",
       "      <td>0</td>\n",
       "      <td>23</td>\n",
       "    </tr>\n",
       "  </tbody>\n",
       "</table>\n",
       "</div>"
      ],
      "text/plain": [
       "                  Start Time        Duration  \\\n",
       "10 2013-03-18 23:04:22+00:00 0 days 00:21:07   \n",
       "\n",
       "                                                Title  weekday  hour  \n",
       "10  The Office (U.S.): Season 5: Moroccan Christma...        0    23  "
      ]
     },
     "execution_count": 24,
     "metadata": {},
     "output_type": "execute_result"
    }
   ],
   "source": [
    "office.head(1)"
   ]
  },
  {
   "cell_type": "code",
   "execution_count": 25,
   "id": "eec415af",
   "metadata": {},
   "outputs": [
    {
     "data": {
      "text/html": [
       "<div>\n",
       "<style scoped>\n",
       "    .dataframe tbody tr th:only-of-type {\n",
       "        vertical-align: middle;\n",
       "    }\n",
       "\n",
       "    .dataframe tbody tr th {\n",
       "        vertical-align: top;\n",
       "    }\n",
       "\n",
       "    .dataframe thead th {\n",
       "        text-align: right;\n",
       "    }\n",
       "</style>\n",
       "<table border=\"1\" class=\"dataframe\">\n",
       "  <thead>\n",
       "    <tr style=\"text-align: right;\">\n",
       "      <th></th>\n",
       "      <th>Start Time</th>\n",
       "      <th>Duration</th>\n",
       "      <th>Title</th>\n",
       "      <th>weekday</th>\n",
       "      <th>hour</th>\n",
       "    </tr>\n",
       "  </thead>\n",
       "  <tbody>\n",
       "    <tr>\n",
       "      <th>121</th>\n",
       "      <td>2013-03-10 22:30:20+00:00</td>\n",
       "      <td>0 days 00:03:20</td>\n",
       "      <td>The Office (U.S.): Season 1: Basketball (Episo...</td>\n",
       "      <td>6</td>\n",
       "      <td>22</td>\n",
       "    </tr>\n",
       "    <tr>\n",
       "      <th>51</th>\n",
       "      <td>2013-03-15 04:40:15+00:00</td>\n",
       "      <td>0 days 00:20:51</td>\n",
       "      <td>The Office (U.S.): Season 3: Product Recall (E...</td>\n",
       "      <td>4</td>\n",
       "      <td>4</td>\n",
       "    </tr>\n",
       "    <tr>\n",
       "      <th>90</th>\n",
       "      <td>2013-03-12 14:28:26+00:00</td>\n",
       "      <td>0 days 00:20:47</td>\n",
       "      <td>The Office (U.S.): Season 2: Conflict Resoluti...</td>\n",
       "      <td>1</td>\n",
       "      <td>14</td>\n",
       "    </tr>\n",
       "    <tr>\n",
       "      <th>138</th>\n",
       "      <td>2013-03-09 21:41:24+00:00</td>\n",
       "      <td>0 days 00:21:46</td>\n",
       "      <td>The Office (U.S.): Season 7: The Seminar (Epis...</td>\n",
       "      <td>5</td>\n",
       "      <td>21</td>\n",
       "    </tr>\n",
       "    <tr>\n",
       "      <th>59</th>\n",
       "      <td>2013-03-14 23:34:05+00:00</td>\n",
       "      <td>0 days 00:01:14</td>\n",
       "      <td>The Office (U.S.): Season 3: Cocktails (Episod...</td>\n",
       "      <td>3</td>\n",
       "      <td>23</td>\n",
       "    </tr>\n",
       "    <tr>\n",
       "      <th>107</th>\n",
       "      <td>2013-03-11 21:23:25+00:00</td>\n",
       "      <td>0 days 00:21:02</td>\n",
       "      <td>The Office (U.S.): Season 2: Performance Revie...</td>\n",
       "      <td>0</td>\n",
       "      <td>21</td>\n",
       "    </tr>\n",
       "    <tr>\n",
       "      <th>112</th>\n",
       "      <td>2013-03-11 06:30:51+00:00</td>\n",
       "      <td>0 days 00:05:57</td>\n",
       "      <td>The Office (U.S.): Season 2: The Fight (Episod...</td>\n",
       "      <td>0</td>\n",
       "      <td>6</td>\n",
       "    </tr>\n",
       "    <tr>\n",
       "      <th>122</th>\n",
       "      <td>2013-03-10 22:08:30+00:00</td>\n",
       "      <td>0 days 00:21:44</td>\n",
       "      <td>The Office (U.S.): Season 1: The Alliance (Epi...</td>\n",
       "      <td>6</td>\n",
       "      <td>22</td>\n",
       "    </tr>\n",
       "    <tr>\n",
       "      <th>140</th>\n",
       "      <td>2013-03-09 21:01:10+00:00</td>\n",
       "      <td>0 days 00:18:23</td>\n",
       "      <td>The Office (U.S.): Season 7: Classy Christmas:...</td>\n",
       "      <td>5</td>\n",
       "      <td>21</td>\n",
       "    </tr>\n",
       "    <tr>\n",
       "      <th>83</th>\n",
       "      <td>2013-03-12 23:44:15+00:00</td>\n",
       "      <td>0 days 00:10:42</td>\n",
       "      <td>The Office (U.S.): Season 3: The Coup (Episode 3)</td>\n",
       "      <td>1</td>\n",
       "      <td>23</td>\n",
       "    </tr>\n",
       "    <tr>\n",
       "      <th>103</th>\n",
       "      <td>2013-03-12 00:24:08+00:00</td>\n",
       "      <td>0 days 00:20:52</td>\n",
       "      <td>The Office (U.S.): Season 2: The Injury (Episo...</td>\n",
       "      <td>1</td>\n",
       "      <td>0</td>\n",
       "    </tr>\n",
       "    <tr>\n",
       "      <th>98</th>\n",
       "      <td>2013-03-12 02:56:52+00:00</td>\n",
       "      <td>0 days 00:11:11</td>\n",
       "      <td>The Office (U.S.): Season 2: The Secret (Episo...</td>\n",
       "      <td>1</td>\n",
       "      <td>2</td>\n",
       "    </tr>\n",
       "    <tr>\n",
       "      <th>52</th>\n",
       "      <td>2013-03-15 04:12:24+00:00</td>\n",
       "      <td>0 days 00:18:54</td>\n",
       "      <td>The Office (U.S.): Season 3: Safety Training (...</td>\n",
       "      <td>4</td>\n",
       "      <td>4</td>\n",
       "    </tr>\n",
       "    <tr>\n",
       "      <th>76</th>\n",
       "      <td>2013-03-13 04:34:16+00:00</td>\n",
       "      <td>0 days 00:29:55</td>\n",
       "      <td>The Office (U.S.): Season 3: Branch Closing (E...</td>\n",
       "      <td>2</td>\n",
       "      <td>4</td>\n",
       "    </tr>\n",
       "    <tr>\n",
       "      <th>118</th>\n",
       "      <td>2013-03-11 00:26:12+00:00</td>\n",
       "      <td>0 days 00:20:35</td>\n",
       "      <td>The Office (U.S.): Season 2: The Dundies (Epis...</td>\n",
       "      <td>0</td>\n",
       "      <td>0</td>\n",
       "    </tr>\n",
       "    <tr>\n",
       "      <th>145</th>\n",
       "      <td>2013-03-09 08:04:16+00:00</td>\n",
       "      <td>0 days 00:21:33</td>\n",
       "      <td>The Office (U.S.): Season 7: WUPHF.com (Episod...</td>\n",
       "      <td>5</td>\n",
       "      <td>8</td>\n",
       "    </tr>\n",
       "    <tr>\n",
       "      <th>129</th>\n",
       "      <td>2013-03-10 03:11:14+00:00</td>\n",
       "      <td>0 days 00:05:39</td>\n",
       "      <td>The Office (U.S.): Season 7: Dwight K. Schrute...</td>\n",
       "      <td>6</td>\n",
       "      <td>3</td>\n",
       "    </tr>\n",
       "    <tr>\n",
       "      <th>42</th>\n",
       "      <td>2013-03-15 23:50:06+00:00</td>\n",
       "      <td>0 days 00:27:43</td>\n",
       "      <td>The Office (U.S.): Season 4: Launch Party (Epi...</td>\n",
       "      <td>4</td>\n",
       "      <td>23</td>\n",
       "    </tr>\n",
       "    <tr>\n",
       "      <th>88</th>\n",
       "      <td>2013-03-12 14:52:07+00:00</td>\n",
       "      <td>0 days 00:27:52</td>\n",
       "      <td>The Office (U.S.): Season 2: Casino Night (Epi...</td>\n",
       "      <td>1</td>\n",
       "      <td>14</td>\n",
       "    </tr>\n",
       "    <tr>\n",
       "      <th>21</th>\n",
       "      <td>2013-03-18 05:35:10+00:00</td>\n",
       "      <td>0 days 00:05:20</td>\n",
       "      <td>The Office (U.S.): Season 5: Weight Loss: Part...</td>\n",
       "      <td>0</td>\n",
       "      <td>5</td>\n",
       "    </tr>\n",
       "  </tbody>\n",
       "</table>\n",
       "</div>"
      ],
      "text/plain": [
       "                   Start Time        Duration  \\\n",
       "121 2013-03-10 22:30:20+00:00 0 days 00:03:20   \n",
       "51  2013-03-15 04:40:15+00:00 0 days 00:20:51   \n",
       "90  2013-03-12 14:28:26+00:00 0 days 00:20:47   \n",
       "138 2013-03-09 21:41:24+00:00 0 days 00:21:46   \n",
       "59  2013-03-14 23:34:05+00:00 0 days 00:01:14   \n",
       "107 2013-03-11 21:23:25+00:00 0 days 00:21:02   \n",
       "112 2013-03-11 06:30:51+00:00 0 days 00:05:57   \n",
       "122 2013-03-10 22:08:30+00:00 0 days 00:21:44   \n",
       "140 2013-03-09 21:01:10+00:00 0 days 00:18:23   \n",
       "83  2013-03-12 23:44:15+00:00 0 days 00:10:42   \n",
       "103 2013-03-12 00:24:08+00:00 0 days 00:20:52   \n",
       "98  2013-03-12 02:56:52+00:00 0 days 00:11:11   \n",
       "52  2013-03-15 04:12:24+00:00 0 days 00:18:54   \n",
       "76  2013-03-13 04:34:16+00:00 0 days 00:29:55   \n",
       "118 2013-03-11 00:26:12+00:00 0 days 00:20:35   \n",
       "145 2013-03-09 08:04:16+00:00 0 days 00:21:33   \n",
       "129 2013-03-10 03:11:14+00:00 0 days 00:05:39   \n",
       "42  2013-03-15 23:50:06+00:00 0 days 00:27:43   \n",
       "88  2013-03-12 14:52:07+00:00 0 days 00:27:52   \n",
       "21  2013-03-18 05:35:10+00:00 0 days 00:05:20   \n",
       "\n",
       "                                                 Title  weekday  hour  \n",
       "121  The Office (U.S.): Season 1: Basketball (Episo...        6    22  \n",
       "51   The Office (U.S.): Season 3: Product Recall (E...        4     4  \n",
       "90   The Office (U.S.): Season 2: Conflict Resoluti...        1    14  \n",
       "138  The Office (U.S.): Season 7: The Seminar (Epis...        5    21  \n",
       "59   The Office (U.S.): Season 3: Cocktails (Episod...        3    23  \n",
       "107  The Office (U.S.): Season 2: Performance Revie...        0    21  \n",
       "112  The Office (U.S.): Season 2: The Fight (Episod...        0     6  \n",
       "122  The Office (U.S.): Season 1: The Alliance (Epi...        6    22  \n",
       "140  The Office (U.S.): Season 7: Classy Christmas:...        5    21  \n",
       "83   The Office (U.S.): Season 3: The Coup (Episode 3)        1    23  \n",
       "103  The Office (U.S.): Season 2: The Injury (Episo...        1     0  \n",
       "98   The Office (U.S.): Season 2: The Secret (Episo...        1     2  \n",
       "52   The Office (U.S.): Season 3: Safety Training (...        4     4  \n",
       "76   The Office (U.S.): Season 3: Branch Closing (E...        2     4  \n",
       "118  The Office (U.S.): Season 2: The Dundies (Epis...        0     0  \n",
       "145  The Office (U.S.): Season 7: WUPHF.com (Episod...        5     8  \n",
       "129  The Office (U.S.): Season 7: Dwight K. Schrute...        6     3  \n",
       "42   The Office (U.S.): Season 4: Launch Party (Epi...        4    23  \n",
       "88   The Office (U.S.): Season 2: Casino Night (Epi...        1    14  \n",
       "21   The Office (U.S.): Season 5: Weight Loss: Part...        0     5  "
      ]
     },
     "execution_count": 25,
     "metadata": {},
     "output_type": "execute_result"
    }
   ],
   "source": [
    "office.sample(20)"
   ]
  },
  {
   "cell_type": "code",
   "execution_count": 26,
   "id": "8debea59",
   "metadata": {},
   "outputs": [],
   "source": [
    "%matplotlib inline\n",
    "import matplotlib"
   ]
  },
  {
   "cell_type": "code",
   "execution_count": 27,
   "id": "2539845e",
   "metadata": {},
   "outputs": [],
   "source": [
    "office['weekday'] = pd.Categorical(office['weekday'], categories=\n",
    "    [0,1,2,3,4,5,6],\n",
    "    ordered=True)"
   ]
  },
  {
   "cell_type": "code",
   "execution_count": 28,
   "id": "fe440e22",
   "metadata": {},
   "outputs": [],
   "source": [
    "office_by_day = office['weekday'].value_counts()"
   ]
  },
  {
   "cell_type": "code",
   "execution_count": 29,
   "id": "dde776c0",
   "metadata": {},
   "outputs": [],
   "source": [
    "office_by_day = office_by_day.sort_index()"
   ]
  },
  {
   "cell_type": "code",
   "execution_count": 30,
   "id": "07975405",
   "metadata": {},
   "outputs": [],
   "source": [
    "matplotlib.rcParams.update({'font.size': 22})"
   ]
  },
  {
   "cell_type": "code",
   "execution_count": 31,
   "id": "7623bbf2",
   "metadata": {},
   "outputs": [
    {
     "data": {
      "text/plain": [
       "<Axes: title={'center': 'Office Episodes Watched by Day'}>"
      ]
     },
     "execution_count": 31,
     "metadata": {},
     "output_type": "execute_result"
    },
    {
     "data": {
      "image/png": "[encoded data removed]",
      "text/plain": [
       "<Figure size 2000x1000 with 1 Axes>"
      ]
     },
     "metadata": {},
     "output_type": "display_data"
    }
   ],
   "source": [
    "office_by_day.plot(kind='bar', figsize=(20,10), title='Office Episodes Watched by Day')"
   ]
  },
  {
   "cell_type": "code",
   "execution_count": 32,
   "id": "4420c844",
   "metadata": {},
   "outputs": [
    {
     "data": {
      "text/plain": [
       "<Axes: title={'center': 'Office Episodes Watched by Hour'}>"
      ]
     },
     "execution_count": 32,
     "metadata": {},
     "output_type": "execute_result"
    },
    {
     "data": {
      "image/png": "[encoded data removed]",
      "text/plain": [
       "<Figure size 2000x1000 with 1 Axes>"
      ]
     },
     "metadata": {},
     "output_type": "display_data"
    }
   ],
   "source": [
    "# set our categorical and define the order so the hours are plotted 0-23\n",
    "office['hour'] = pd.Categorical(office['hour'], categories=\n",
    "    [0,1,2,3,4,5,6,7,8,9,10,11,12,13,14,15,16,17,18,19,20,21,22,23],\n",
    "    ordered=True)\n",
    "\n",
    "# create office_by_hour and count the rows for each hour, assigning the result to that variable\n",
    "office_by_hour = office['hour'].value_counts()\n",
    "\n",
    "# sort the index using our categorical, so that midnight (0) is first, 1 a.m. (1) is second, etc.\n",
    "office_by_hour = office_by_hour.sort_index()\n",
    "\n",
    "# plot office_by_hour as a bar chart with the listed size and title\n",
    "office_by_hour.plot(kind='bar', figsize=(20,10), title='Office Episodes Watched by Hour')"
   ]
  },
  {
   "cell_type": "code",
   "execution_count": 33,
   "id": "e95fc079",
   "metadata": {},
   "outputs": [],
   "source": [
    "shape = df.shape"
   ]
  },
  {
   "cell_type": "code",
   "execution_count": 34,
   "id": "a8cac99c",
   "metadata": {
    "scrolled": true
   },
   "outputs": [
    {
     "name": "stdout",
     "output_type": "stream",
     "text": [
      "(200, 3)\n"
     ]
    }
   ],
   "source": [
    "print(shape)"
   ]
  },
  {
   "cell_type": "code",
   "execution_count": null,
   "id": "85547e13",
   "metadata": {
    "scrolled": true
   },
   "outputs": [],
   "source": []
  },
  {
   "cell_type": "code",
   "execution_count": 35,
   "id": "8fdf64f8",
   "metadata": {},
   "outputs": [],
   "source": [
    "types = df.dtypes"
   ]
  },
  {
   "cell_type": "code",
   "execution_count": 36,
   "id": "49024003",
   "metadata": {},
   "outputs": [
    {
     "data": {
      "text/plain": [
       "pandas.core.series.Series"
      ]
     },
     "execution_count": 36,
     "metadata": {},
     "output_type": "execute_result"
    }
   ],
   "source": [
    "type(types)"
   ]
  },
  {
   "cell_type": "code",
   "execution_count": 37,
   "id": "5f6f1378",
   "metadata": {},
   "outputs": [
    {
     "data": {
      "text/html": [
       "<div>\n",
       "<style scoped>\n",
       "    .dataframe tbody tr th:only-of-type {\n",
       "        vertical-align: middle;\n",
       "    }\n",
       "\n",
       "    .dataframe tbody tr th {\n",
       "        vertical-align: top;\n",
       "    }\n",
       "\n",
       "    .dataframe thead th {\n",
       "        text-align: right;\n",
       "    }\n",
       "</style>\n",
       "<table border=\"1\" class=\"dataframe\">\n",
       "  <thead>\n",
       "    <tr style=\"text-align: right;\">\n",
       "      <th></th>\n",
       "      <th>Start Time</th>\n",
       "      <th>Duration</th>\n",
       "      <th>Title</th>\n",
       "      <th>weekday</th>\n",
       "      <th>hour</th>\n",
       "    </tr>\n",
       "  </thead>\n",
       "  <tbody>\n",
       "    <tr>\n",
       "      <th>102</th>\n",
       "      <td>2013-03-12 01:00:34+00:00</td>\n",
       "      <td>0 days 00:09:47</td>\n",
       "      <td>The Office (U.S.): Season 2: The Secret (Episo...</td>\n",
       "      <td>1</td>\n",
       "      <td>1</td>\n",
       "    </tr>\n",
       "  </tbody>\n",
       "</table>\n",
       "</div>"
      ],
      "text/plain": [
       "                   Start Time        Duration  \\\n",
       "102 2013-03-12 01:00:34+00:00 0 days 00:09:47   \n",
       "\n",
       "                                                 Title weekday hour  \n",
       "102  The Office (U.S.): Season 2: The Secret (Episo...       1    1  "
      ]
     },
     "execution_count": 37,
     "metadata": {},
     "output_type": "execute_result"
    }
   ],
   "source": [
    "office.sample()"
   ]
  },
  {
   "cell_type": "code",
   "execution_count": 38,
   "id": "792f7715",
   "metadata": {},
   "outputs": [
    {
     "name": "stdout",
     "output_type": "stream",
     "text": [
      "0    28\n",
      "1    18\n",
      "2    14\n",
      "3     7\n",
      "4    14\n",
      "5    30\n",
      "6    19\n",
      "Name: weekday, dtype: int64\n"
     ]
    }
   ],
   "source": [
    "print(office_by_day)"
   ]
  },
  {
   "cell_type": "code",
   "execution_count": 39,
   "id": "29fed73e",
   "metadata": {},
   "outputs": [],
   "source": [
    "df_by_day = office['weekday'].value_counts()"
   ]
  },
  {
   "cell_type": "code",
   "execution_count": 40,
   "id": "e6899430",
   "metadata": {},
   "outputs": [
    {
     "name": "stdout",
     "output_type": "stream",
     "text": [
      "5    30\n",
      "0    28\n",
      "6    19\n",
      "1    18\n",
      "2    14\n",
      "4    14\n",
      "3     7\n",
      "Name: weekday, dtype: int64\n"
     ]
    }
   ],
   "source": [
    "print(df_by_day)"
   ]
  },
  {
   "cell_type": "code",
   "execution_count": null,
   "id": "0858141f",
   "metadata": {},
   "outputs": [],
   "source": []
  }
 ],
 "metadata": {
  "kernelspec": {
   "display_name": "Python 3 (ipykernel)",
   "language": "python",
   "name": "python3"
  },
  "language_info": {
   "codemirror_mode": {
    "name": "ipython",
    "version": 3
   },
   "file_extension": ".py",
   "mimetype": "text/x-python",
   "name": "python",
   "nbconvert_exporter": "python",
   "pygments_lexer": "ipython3",
   "version": "3.10.9"
  }
 },
 "nbformat": 4,
 "nbformat_minor": 5
}
